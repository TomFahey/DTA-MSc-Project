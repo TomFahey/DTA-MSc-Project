{
 "cells": [
  {
   "cell_type": "code",
   "execution_count": 1,
   "id": "4c1c0426-f678-4d78-b860-a2bab4dc675a",
   "metadata": {},
   "outputs": [
    {
     "data": {
      "application/vnd.jupyter.widget-view+json": {
       "model_id": "b37b478e2f1e44a6af502c24a485ec64",
       "version_major": 2,
       "version_minor": 0
      },
      "text/plain": [
       "VBox(children=(HBox(children=(Dropdown(description='Target temperature:', options=('70', '90', '110'), value='…"
      ]
     },
     "metadata": {},
     "output_type": "display_data"
    }
   ],
   "source": [
    "%run data/data_view.py"
   ]
  },
  {
   "cell_type": "code",
   "execution_count": 2,
   "id": "949e740a-db2e-49fd-8d01-82bb7d0fb23f",
   "metadata": {},
   "outputs": [
    {
     "ename": "NameError",
     "evalue": "name 'stages' is not defined",
     "output_type": "error",
     "traceback": [
      "\u001b[0;31m---------------------------------------------------------------------------\u001b[0m",
      "\u001b[0;31mNameError\u001b[0m                                 Traceback (most recent call last)",
      "\u001b[0;32m/tmp/ipykernel_23245/3231550887.py\u001b[0m in \u001b[0;36m<module>\u001b[0;34m\u001b[0m\n\u001b[0;32m----> 1\u001b[0;31m \u001b[0mstages\u001b[0m\u001b[0;34m\u001b[0m\u001b[0;34m\u001b[0m\u001b[0m\n\u001b[0m",
      "\u001b[0;31mNameError\u001b[0m: name 'stages' is not defined"
     ]
    }
   ],
   "source": [
    "stages"
   ]
  },
  {
   "cell_type": "code",
   "execution_count": null,
   "id": "bf38cc49-f4f3-4952-a2b5-320fce3aa507",
   "metadata": {},
   "outputs": [],
   "source": [
    "%debug"
   ]
  },
  {
   "cell_type": "code",
   "execution_count": 13,
   "id": "7aafa922-2fcd-4cbc-a3a2-b23afc5a2089",
   "metadata": {},
   "outputs": [],
   "source": [
    "data = load_data('./data/13-10/data-14-45-Isomalt-Oil-5g-30-50-30-new')"
   ]
  },
  {
   "cell_type": "code",
   "execution_count": 16,
   "id": "28e84b97-85f2-4f95-ad94-18c2a3317dfe",
   "metadata": {},
   "outputs": [
    {
     "data": {
      "text/plain": [
       "{'stages': [\"{'TEMP': 23, 'HEAT': 0, 'HOLD': 0}\"],\n",
       " 'data': {'PID': array([0.]),\n",
       "  'TEMP': array([0.]),\n",
       "  'DTEMP': array([0.]),\n",
       "  'TIME': array([0.])},\n",
       " 'settings': {'RUN': False,\n",
       "  'MODE': False,\n",
       "  'LOG': False,\n",
       "  'TARGET': 23,\n",
       "  'KP': 35.0,\n",
       "  'KD': 2.0,\n",
       "  'KI': 3.5,\n",
       "  'INTERVAL': 0.25}}"
      ]
     },
     "execution_count": 16,
     "metadata": {},
     "output_type": "execute_result"
    }
   ],
   "source": [
    "data"
   ]
  },
  {
   "cell_type": "code",
   "execution_count": 5,
   "id": "dbbf57a8-fa0c-450d-9c95-0e2042a587dd",
   "metadata": {},
   "outputs": [],
   "source": [
    "from matplotlib import pyplot as plt\n",
    "import numpy as np"
   ]
  },
  {
   "cell_type": "code",
   "execution_count": 9,
   "id": "7fdd196f-80cb-4ef0-83f6-85cf40ed9a48",
   "metadata": {},
   "outputs": [
    {
     "data": {
      "text/plain": [
       "[<matplotlib.lines.Line2D at 0xab1725b0>]"
      ]
     },
     "execution_count": 9,
     "metadata": {},
     "output_type": "execute_result"
    },
    {
     "data": {
      "image/png": "[encoded data removed]",
      "text/plain": [
       "<Figure size 432x288 with 1 Axes>"
      ]
     },
     "metadata": {
      "needs_background": "light"
     },
     "output_type": "display_data"
    }
   ],
   "source": [
    "plt.plot(data[2]['TIME'], data[2]['TEMP'])"
   ]
  },
  {
   "cell_type": "code",
   "execution_count": 10,
   "id": "a9b752bf-93a1-4e90-a96e-119cd53ed78d",
   "metadata": {},
   "outputs": [
    {
     "data": {
      "text/plain": [
       "[<matplotlib.lines.Line2D at 0xab07d250>]"
      ]
     },
     "execution_count": 10,
     "metadata": {},
     "output_type": "execute_result"
    },
    {
     "data": {
      "image/png": "[encoded data removed]",
      "text/plain": [
       "<Figure size 432x288 with 1 Axes>"
      ]
     },
     "metadata": {
      "needs_background": "light"
     },
     "output_type": "display_data"
    }
   ],
   "source": [
    "plt.plot(data[2]['TIME'], data[2]['DTEMP'])"
   ]
  },
  {
   "cell_type": "code",
   "execution_count": 17,
   "id": "658c72da-dad1-4aa3-af79-1d1a6a34d3ba",
   "metadata": {},
   "outputs": [
    {
     "data": {
      "text/plain": [
       "0.07297287308634517"
      ]
     },
     "execution_count": 17,
     "metadata": {},
     "output_type": "execute_result"
    }
   ],
   "source": [
    "np.std(data[2]['DTEMP'])"
   ]
  },
  {
   "cell_type": "code",
   "execution_count": 2,
   "id": "f76a1ba1-692a-4eba-b23d-7fae89a34e24",
   "metadata": {},
   "outputs": [],
   "source": [
    "data = load_data('./data/13-10/data-12-43-Isomalt-Oil-5g-30-50-30')\n",
    "stages = [ast.literal_eval(item) for item in data if type(item) is str]\n",
    "readings, config = [item for item in data if type(item) is dict]\n",
    "startingTemp = (np.array(readings['TEMP'])[np.array(readings['TEMP']) > 0.])[0]"
   ]
  },
  {
   "cell_type": "code",
   "execution_count": 3,
   "id": "60b35a8e-1a5a-4e9a-9cd3-dca2fafd5fbe",
   "metadata": {},
   "outputs": [],
   "source": [
    "x_prog_time, y_prog_temp, y_prog_heat = get_programme(stages, readings)"
   ]
  },
  {
   "cell_type": "code",
   "execution_count": 4,
   "id": "a4697b11-af88-4359-9755-58731cef4c28",
   "metadata": {},
   "outputs": [
    {
     "data": {
      "text/plain": [
       "array([False, False, False, ..., False, False, False])"
      ]
     },
     "execution_count": 4,
     "metadata": {},
     "output_type": "execute_result"
    }
   ],
   "source": [
    "y_read_temp > y_read_temp"
   ]
  },
  {
   "cell_type": "code",
   "execution_count": 5,
   "id": "95cf9c7f-48cc-4167-8db4-701e92cbab0f",
   "metadata": {},
   "outputs": [],
   "source": [
    "temp_readings = readings['TEMP']"
   ]
  },
  {
   "cell_type": "code",
   "execution_count": 6,
   "id": "5b5b972b-6b46-4ae3-b94b-a60c5eb9a3a3",
   "metadata": {},
   "outputs": [],
   "source": [
    "heat_stages = [stage['HEAT'] for stage in stages]"
   ]
  },
  {
   "cell_type": "code",
   "execution_count": 7,
   "id": "8d195f12-798a-4bc4-a0f2-d5bbb52150e7",
   "metadata": {},
   "outputs": [
    {
     "data": {
      "text/plain": [
       "[2, -2]"
      ]
     },
     "execution_count": 7,
     "metadata": {},
     "output_type": "execute_result"
    }
   ],
   "source": [
    "heat_stages"
   ]
  },
  {
   "cell_type": "code",
   "execution_count": 8,
   "id": "befc71e8-69a2-48c0-a92b-4f1fc40e003b",
   "metadata": {},
   "outputs": [
    {
     "data": {
      "text/plain": [
       "-594"
      ]
     },
     "execution_count": 8,
     "metadata": {},
     "output_type": "execute_result"
    }
   ],
   "source": [
    "temp_readings.size - 4*y_prog_heat.size"
   ]
  },
  {
   "cell_type": "code",
   "execution_count": 9,
   "id": "953724af-fcd5-4d4c-b473-0faead04aea4",
   "metadata": {},
   "outputs": [
    {
     "ename": "NameError",
     "evalue": "name 'stage_indexes' is not defined",
     "output_type": "error",
     "traceback": [
      "\u001b[0;31m---------------------------------------------------------------------------\u001b[0m",
      "\u001b[0;31mNameError\u001b[0m                                 Traceback (most recent call last)",
      "\u001b[0;32m/tmp/ipykernel_1957/569439235.py\u001b[0m in \u001b[0;36m<module>\u001b[0;34m\u001b[0m\n\u001b[0;32m----> 1\u001b[0;31m \u001b[0mstage_indexes\u001b[0m\u001b[0;34m\u001b[0m\u001b[0;34m\u001b[0m\u001b[0m\n\u001b[0m",
      "\u001b[0;31mNameError\u001b[0m: name 'stage_indexes' is not defined"
     ]
    }
   ],
   "source": [
    "stage_indexes"
   ]
  },
  {
   "cell_type": "code",
   "execution_count": 28,
   "id": "170b5731-6b22-40f3-a624-08800f2d0eb6",
   "metadata": {},
   "outputs": [
    {
     "data": {
      "text/plain": [
       "[0, 929, 1491, 1340, 2748, 1460, 1184]"
      ]
     },
     "execution_count": 28,
     "metadata": {},
     "output_type": "execute_result"
    }
   ],
   "source": [
    "stage_indexes"
   ]
  },
  {
   "cell_type": "code",
   "execution_count": 29,
   "id": "dc70261d-7ac1-438d-a10e-02e8db241803",
   "metadata": {},
   "outputs": [],
   "source": [
    "stage_slices = [slice(i,j) for i,j in zip(stage_indexes, stage_indexes[1:])]"
   ]
  },
  {
   "cell_type": "code",
   "execution_count": 30,
   "id": "e1315390-fd0e-4118-94d4-3e5d15dc96f5",
   "metadata": {},
   "outputs": [
    {
     "data": {
      "text/plain": [
       "[slice(0, 929, None),\n",
       " slice(929, 1491, None),\n",
       " slice(1491, 1340, None),\n",
       " slice(1340, 2748, None),\n",
       " slice(2748, 1460, None),\n",
       " slice(1460, 1184, None)]"
      ]
     },
     "execution_count": 30,
     "metadata": {},
     "output_type": "execute_result"
    }
   ],
   "source": [
    "stage_slices"
   ]
  }
 ],
 "metadata": {
  "kernelspec": {
   "display_name": "Python 3 (ipykernel)",
   "language": "python",
   "name": "python3"
  },
  "language_info": {
   "codemirror_mode": {
    "name": "ipython",
    "version": 3
   },
   "file_extension": ".py",
   "mimetype": "text/x-python",
   "name": "python",
   "nbconvert_exporter": "python",
   "pygments_lexer": "ipython3",
   "version": "3.7.3"
  }
 },
 "nbformat": 4,
 "nbformat_minor": 5
}
