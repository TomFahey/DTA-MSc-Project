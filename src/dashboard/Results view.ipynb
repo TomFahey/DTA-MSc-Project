{
 "cells": [
  {
   "cell_type": "code",
   "execution_count": 1,
   "id": "5c350473-1463-460e-aac7-71ed0280bb6c",
   "metadata": {},
   "outputs": [
    {
     "name": "stdout",
     "output_type": "stream",
     "text": [
      "80-degree-run.csv                    90-deg-run-8-deg-per-sec.csv\n",
      "90-degree-run2.csv                   DATA-2023-02-10-15-49-03.csv\n",
      "90-degree-run.csv                    DATA-2023-02-10-16-08-24.csv\n",
      "90-deg-run-3-deg-per-sec.csv         DATA-2023-02-10-17-08-27.csv\n",
      "90-deg-run-3-deg-per-sec-repeat.csv  DATA-2023-02-10-17-15-38.csv\n",
      "90-deg-run-5-deg-per-sec.csv\n"
     ]
    }
   ],
   "source": [
    "ls /home/pi/data"
   ]
  },
  {
   "cell_type": "code",
   "execution_count": 3,
   "id": "96e00692-3be4-4ac0-b3e2-d3b06b9d5215",
   "metadata": {},
   "outputs": [
    {
     "data": {
      "application/vnd.jupyter.widget-view+json": {
       "model_id": "5202446a20484723a1420d86fc4365e5",
       "version_major": 2,
       "version_minor": 0
      },
      "text/plain": [
       "Figure(axes=[Axis(label='Time (s)', num_ticks=6, scale=LinearScale(min=0.0)), Axis(label='Temperature (C)', nu…"
      ]
     },
     "metadata": {},
     "output_type": "display_data"
    }
   ],
   "source": [
    "from ipywidgets.widgets import Label, FloatProgress, Button\n",
    "from ipywidgets.widgets import Layout, HBox, VBox\n",
    "import numpy as np\n",
    "import bqplot as bq\n",
    "from asyncio import sleep as asleep\n",
    "\n",
    "data = {}\n",
    "lines = []\n",
    "\n",
    "with open(\"/home/pi/data/90-deg-run-5-deg-per-sec.csv\", 'r') as csvfile:\n",
    "    lines = csvfile.readlines()\n",
    "    \n",
    "data = {line.split(': ')[0]:np.around(np.array([float(i) for i in line.split(': ')[1].split(', ')]), 1) for line in lines}\n",
    "\n",
    "x_sc = bq.LinearScale(min=0)\n",
    "y_sc_l = bq.LinearScale()\n",
    "y_sc_r = bq.LinearScale()\n",
    "\n",
    "x_ax = bq.Axis(\n",
    "    label='Time (s)',\n",
    "    scale=x_sc,\n",
    "    num_ticks=6\n",
    ")\n",
    "\n",
    "y_ax_left = bq.Axis(\n",
    "    label='Temperature (C)',\n",
    "    scale=y_sc_l,\n",
    "    orientation='vertical',\n",
    "    tick_format='0.0f',\n",
    "    num_ticks=7,\n",
    "    side='left'\n",
    ")\n",
    "\n",
    "y_ax_right = bq.Axis(\n",
    "    label=F\"\\u0394T (K)\",\n",
    "    scale=y_sc_r,\n",
    "    orientation='vertical',\n",
    "    tick_format='0.1f',\n",
    "    num_ticks=7,\n",
    "    side='right'\n",
    ")\n",
    "\n",
    "ReferenceTempLine = bq.Lines(\n",
    "    x=data['TIME'],\n",
    "    y=data['TEMPA'],\n",
    "    scales={'x': x_sc, 'y': y_sc_l},\n",
    "    colors=['#ff000f'],\n",
    "    display_legend=True,\n",
    "    labels=['Reference']\n",
    ")\n",
    "\n",
    "SampleTempLine = bq.Lines(\n",
    "    x=data['TIME'],\n",
    "    y=data['TEMPB'],\n",
    "    scales={'x': x_sc, 'y': y_sc_l},\n",
    "    colors=['#0000ff'],\n",
    "    display_legend=True,\n",
    "    labels=['Sample']\n",
    ")\n",
    "\n",
    "PlateTempLine = bq.Lines(\n",
    "    x=data['TIME'],\n",
    "    y=data['TEMPC'],\n",
    "    scales={'x': x_sc, 'y': y_sc_l},\n",
    "    colors=['#3c9dd0'],\n",
    "    display_legend=True,\n",
    "    labels=['Plate']\n",
    ")\n",
    "\n",
    "DeltaTLine = bq.Lines(\n",
    "    x=data['TIME'],\n",
    "    y=data['DTEMP'],\n",
    "    scales={'x': x_sc, 'y': y_sc_r},\n",
    "    colors=['#f7a500'],\n",
    "    display_legend=True,\n",
    "    labels=[F\"\\u0394T\"]\n",
    ")\n",
    "\n",
    "DeltaTLine2 = bq.Lines(\n",
    "    x=data['TIME'],\n",
    "    y=data['TEMPB']-data['TEMPA'],\n",
    "    scales={'x': x_sc, 'y': y_sc_r},\n",
    "    colors=['#a7c543'],\n",
    "    display_legend=True,\n",
    "    labels=[F\"\\u0394T\"]\n",
    ")\n",
    "\n",
    "\n",
    "fig = bq.Figure(\n",
    "    layout=Layout(width='100%', height='75em'),\n",
    "    axes=[x_ax, y_ax_left, y_ax_right],\n",
    "    marks=[SampleTempLine, ReferenceTempLine, PlateTempLine],#, DeltaTLine, DeltaTLine2],\n",
    "    fig_margin=dict(top=25, bottom=50, left=45, right=70),\n",
    "    legend_location='top-right'\n",
    ")\n",
    "\n",
    "\n",
    "display(fig)"
   ]
  },
  {
   "cell_type": "code",
   "execution_count": 59,
   "id": "1711bec7-8cf7-45ec-b65f-461c84d08001",
   "metadata": {},
   "outputs": [
    {
     "data": {
      "text/plain": [
       "array([[ 0.08056641,  0.99829523],\n",
       "       [ 0.99829523, 12.41876331]])"
      ]
     },
     "execution_count": 59,
     "metadata": {},
     "output_type": "execute_result"
    }
   ],
   "source": [
    "np.cov(np.stack((data['TEMPC'][3:] - data['TEMPC'][2], data['TIME'][3:]), axis=0))/(np.std(data['TEMPC'][3:]-data['TEMPC'][2]) * np.std(data['TIME'][3:]))"
   ]
  },
  {
   "cell_type": "code",
   "execution_count": 15,
   "id": "e87e35be-01fc-4db7-9e44-54a6860ba2f5",
   "metadata": {},
   "outputs": [
    {
     "data": {
      "text/plain": [
       "17.2"
      ]
     },
     "execution_count": 15,
     "metadata": {},
     "output_type": "execute_result"
    }
   ],
   "source": [
    "data['TEMPB'][0]"
   ]
  },
  {
   "cell_type": "code",
   "execution_count": 56,
   "id": "c52973b6-af6b-4987-9efd-6c505890669e",
   "metadata": {},
   "outputs": [
    {
     "data": {
      "text/plain": [
       "array([21.1, 21. , 21. , 21.1, 21. , 21.1, 21. , 21. , 21.1, 21. , 21. ,\n",
       "       21.1, 21.1, 21. , 21. , 21. , 21.1, 21. , 21.1, 21. , 21. , 21.1,\n",
       "       21.1, 21.1, 21. , 21.2, 21.2, 21.2, 21.2, 21.2, 21.2, 21.2, 21.2,\n",
       "       21.3, 21.2, 21.3, 21.4, 21.4, 21.3, 21.3, 21.4, 21.4, 21.4, 21.4,\n",
       "       21.3, 21.5, 21.5, 21.5, 21.5, 21.6, 21.6, 21.6, 21.6, 21.6, 21.6,\n",
       "       21.6, 21.7, 21.7, 21.7, 21.7, 21.7, 21.8, 21.8, 21.7, 21.8, 21.8,\n",
       "       21.8, 21.8, 21.9, 21.9, 21.9, 21.9, 22. , 21.9, 22. , 22. , 22. ,\n",
       "       22. , 22. , 22. , 22. , 22.1, 22. , 22. , 22.1, 22.2, 22.1, 22.1,\n",
       "       22.2, 22.1, 22.2, 22.2, 22.2, 22.2, 22.2, 22.1, 22.2, 22.3, 22.2,\n",
       "       22.3, 22.3, 22.2, 22.2, 22.2, 22.3, 22.4, 22.3, 22.3, 22.4, 22.4,\n",
       "       22.4, 22.4, 22.3, 22.4, 22.4, 22.4, 22.5, 22.5, 22.5, 22.5, 22.5,\n",
       "       22.5, 22.5, 22.6, 22.5, 22.5, 22.6, 22.5, 22.6, 22.6, 22.7, 22.7,\n",
       "       22.7, 22.7, 22.7, 22.7, 22.8, 22.8, 22.8, 22.7, 22.8, 22.9, 22.7,\n",
       "       22.8, 22.8, 22.9, 23. , 22.9, 22.9, 22.9, 23. , 22.9, 22.9, 22.9,\n",
       "       23. , 23. , 23. , 23. , 23. , 23.1, 23. , 23. , 23.1, 23.1, 23.1,\n",
       "       23.1, 23.1, 23.1, 23.2, 23.1, 23.1, 23.1, 23.1, 23.2, 23.2, 23.2,\n",
       "       23.3, 23.2, 23.2, 23.2, 23.3, 23.2, 23.3, 23.3, 23.4, 23.3, 23.3,\n",
       "       23.4, 23.3, 23.4, 23.4, 23.4, 23.4, 23.4, 23.4, 23.4, 23.6, 23.4])"
      ]
     },
     "execution_count": 56,
     "metadata": {},
     "output_type": "execute_result"
    }
   ],
   "source": [
    "data['TEMPC'][2:200]"
   ]
  }
 ],
 "metadata": {
  "kernelspec": {
   "display_name": "Python 3 (ipykernel)",
   "language": "python",
   "name": "python3"
  },
  "language_info": {
   "codemirror_mode": {
    "name": "ipython",
    "version": 3
   },
   "file_extension": ".py",
   "mimetype": "text/x-python",
   "name": "python",
   "nbconvert_exporter": "python",
   "pygments_lexer": "ipython3",
   "version": "3.7.3"
  }
 },
 "nbformat": 4,
 "nbformat_minor": 5
}
