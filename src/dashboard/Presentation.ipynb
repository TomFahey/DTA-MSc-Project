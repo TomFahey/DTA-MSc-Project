{
 "cells": [
  {
   "cell_type": "code",
   "execution_count": 1,
   "id": "9396747d-7672-4a61-8c1a-300b41a324c6",
   "metadata": {
    "autorun": true,
    "tags": []
   },
   "outputs": [
    {
     "data": {
      "text/html": [
       "<style>.jp-Cell { padding: 0 !important; }</style>"
      ],
      "text/plain": [
       "<IPython.core.display.HTML object>"
      ]
     },
     "metadata": {},
     "output_type": "display_data"
    },
    {
     "data": {
      "text/html": [
       "<style>.jp-Notebook { padding: 0 !important;}</style>"
      ],
      "text/plain": [
       "<IPython.core.display.HTML object>"
      ]
     },
     "metadata": {},
     "output_type": "display_data"
    },
    {
     "data": {
      "text/html": [
       "<style>.body { margin: 0 !important; }</style>"
      ],
      "text/plain": [
       "<IPython.core.display.HTML object>"
      ]
     },
     "metadata": {},
     "output_type": "display_data"
    },
    {
     "data": {
      "text/html": [
       "<style>.html { margin: 0 !important; }</style>"
      ],
      "text/plain": [
       "<IPython.core.display.HTML object>"
      ]
     },
     "metadata": {},
     "output_type": "display_data"
    },
    {
     "data": {
      "application/vnd.jupyter.widget-view+json": {
       "model_id": "11f35cae2e364e2c9e50c5b1fc144e52",
       "version_major": 2,
       "version_minor": 0
      },
      "text/plain": [
       "Tab(children=(VBox(children=(HBox(children=(Button(button_style='warning', description='Run', icon='play', lay…"
      ]
     },
     "metadata": {},
     "output_type": "display_data"
    }
   ],
   "source": [
    "%matplotlib ipympl\n",
    "%gui asyncio\n",
    "#%autoawait asyncio\n",
    "%run app.py"
   ]
  },
  {
   "cell_type": "code",
   "execution_count": 7,
   "id": "20784a78-809c-462b-9237-d4bebfe6c7d1",
   "metadata": {},
   "outputs": [
    {
     "data": {
      "text/plain": [
       "0.0"
      ]
     },
     "execution_count": 7,
     "metadata": {},
     "output_type": "execute_result"
    }
   ],
   "source": [
    "graph.y_sc_r.max"
   ]
  },
  {
   "cell_type": "code",
   "execution_count": null,
   "id": "28e631ea-47cf-43ff-a490-87a07560c296",
   "metadata": {},
   "outputs": [],
   "source": [
    "shared.programme"
   ]
  },
  {
   "cell_type": "code",
   "execution_count": 3,
   "id": "34a78bbf-fba2-4e3e-b77f-4d38d6f7764d",
   "metadata": {},
   "outputs": [
    {
     "data": {
      "text/plain": [
       "'8.0.4'"
      ]
     },
     "execution_count": 3,
     "metadata": {},
     "output_type": "execute_result"
    }
   ],
   "source": [
    "ipw.__version__"
   ]
  },
  {
   "cell_type": "code",
   "execution_count": 1,
   "id": "18e966e0-0341-47b1-8f93-c6a1b80c5c64",
   "metadata": {},
   "outputs": [
    {
     "name": "stderr",
     "output_type": "stream",
     "text": [
      "ERROR:root:No traceback has been produced, nothing to debug.\n"
     ]
    }
   ],
   "source": [
    "%debug"
   ]
  },
  {
   "cell_type": "code",
   "execution_count": 4,
   "id": "65a27ee7-888f-4ad8-8205-46d9d6003234",
   "metadata": {},
   "outputs": [
    {
     "name": "stdout",
     "output_type": "stream",
     "text": [
      "Current config: {'RUN': True, 'MODE': True, 'LOG': True, 'TARGET': 20, 'KP': 35.0, 'KD': 2.0, 'KI': 3.5, 'INTERVAL': 0.25}\n"
     ]
    },
    {
     "ename": "AttributeError",
     "evalue": "module 'settings' has no attribute 'appReading'",
     "output_type": "error",
     "traceback": [
      "\u001b[0;31m---------------------------------------------------------------------------\u001b[0m",
      "\u001b[0;31mAttributeError\u001b[0m                            Traceback (most recent call last)",
      "\u001b[0;32m/tmp/ipykernel_5446/2118892930.py\u001b[0m in \u001b[0;36m<module>\u001b[0;34m\u001b[0m\n\u001b[1;32m      1\u001b[0m \u001b[0mprint\u001b[0m\u001b[0;34m(\u001b[0m\u001b[0;34m'Current config: '\u001b[0m \u001b[0;34m+\u001b[0m \u001b[0mstr\u001b[0m\u001b[0;34m(\u001b[0m\u001b[0msettings\u001b[0m\u001b[0;34m.\u001b[0m\u001b[0mappConfig\u001b[0m\u001b[0;34m)\u001b[0m\u001b[0;34m)\u001b[0m\u001b[0;34m;\u001b[0m\u001b[0;34m\u001b[0m\u001b[0;34m\u001b[0m\u001b[0m\n\u001b[0;32m----> 2\u001b[0;31m \u001b[0mprint\u001b[0m\u001b[0;34m(\u001b[0m\u001b[0;34m'Device readings: '\u001b[0m \u001b[0;34m+\u001b[0m \u001b[0mstr\u001b[0m\u001b[0;34m(\u001b[0m\u001b[0msettings\u001b[0m\u001b[0;34m.\u001b[0m\u001b[0mappReading\u001b[0m\u001b[0;34m)\u001b[0m\u001b[0;34m)\u001b[0m\u001b[0;34m;\u001b[0m\u001b[0;34m\u001b[0m\u001b[0;34m\u001b[0m\u001b[0m\n\u001b[0m\u001b[1;32m      3\u001b[0m \u001b[0mprint\u001b[0m\u001b[0;34m(\u001b[0m\u001b[0;34m'Program stages: '\u001b[0m \u001b[0;34m+\u001b[0m \u001b[0mstr\u001b[0m\u001b[0;34m(\u001b[0m\u001b[0msettings\u001b[0m\u001b[0;34m.\u001b[0m\u001b[0mappProgramme\u001b[0m\u001b[0;34m.\u001b[0m\u001b[0mstages\u001b[0m\u001b[0;34m)\u001b[0m\u001b[0;34m)\u001b[0m\u001b[0;34m;\u001b[0m\u001b[0;34m\u001b[0m\u001b[0;34m\u001b[0m\u001b[0m\n\u001b[1;32m      4\u001b[0m \u001b[0mprint\u001b[0m\u001b[0;34m(\u001b[0m\u001b[0;34m'Current stage: '\u001b[0m \u001b[0;34m+\u001b[0m \u001b[0mstr\u001b[0m\u001b[0;34m(\u001b[0m\u001b[0msettings\u001b[0m\u001b[0;34m.\u001b[0m\u001b[0mappProgramme\u001b[0m\u001b[0;34m.\u001b[0m\u001b[0mcurrent_stage\u001b[0m\u001b[0;34m)\u001b[0m\u001b[0;34m)\u001b[0m\u001b[0;34m;\u001b[0m\u001b[0;34m\u001b[0m\u001b[0;34m\u001b[0m\u001b[0m\n",
      "\u001b[0;31mAttributeError\u001b[0m: module 'settings' has no attribute 'appReading'"
     ]
    }
   ],
   "source": [
    "print('Current config: ' + str(settings.appConfig));\n",
    "print('Device readings: ' + str(settings.appReading));\n",
    "print('Program stages: ' + str(settings.appProgramme.stages));\n",
    "print('Current stage: ' + str(settings.appProgramme.current_stage));"
   ]
  },
  {
   "cell_type": "code",
   "execution_count": 5,
   "id": "997bd624-a5fe-4efa-bc97-b5495099f4c7",
   "metadata": {},
   "outputs": [
    {
     "data": {
      "text/plain": [
       "array([27.1, 60.7, 60.7, 60.7, 60.8, 60.8, 60.8, 60.9, 60.9, 60.9, 60.9,\n",
       "       60.9, 61. , 61. , 61. , 61. , 61. , 61.1, 61.1, 61.1, 61.1, 61.1,\n",
       "       61.1, 61.1, 61.1, 61.1, 61.1, 61.1, 60.9, 60.4, 59.9, 59.5, 58.9,\n",
       "       58.4, 57.8, 57.4, 56.9, 56.6, 56.2, 55.9, 55.6, 55.3, 55.1, 54.8,\n",
       "       54.5, 54.3, 54.1, 53.9, 53.6, 53.4, 53.2, 52.9, 52.7, 52.4, 52.3,\n",
       "       52.1, 51.9, 51.6, 51.4, 51.2, 51. , 50.9, 50.7, 50.5, 50.3, 50.2,\n",
       "       50. , 49.8, 49.6, 49.5, 49.3, 49.2, 49.1, 48.9, 48.8, 48.6, 48.4,\n",
       "       48.3, 48.2, 48. , 47.9, 47.8, 47.6, 47.5, 47.4, 47.2, 47.2, 47. ,\n",
       "       46.9, 46.8, 46.7, 46.6, 46.5, 46.4, 46.3, 46.2, 46.1, 46. , 45.8,\n",
       "       45.8, 45.7, 45.6, 45.5, 45.4, 45.3, 45.2, 45.2, 45.1, 45. , 44.8,\n",
       "       44.8, 44.6, 44.6, 44.5, 44.4, 44.3, 44.2, 44.1, 44.1, 44. , 44. ,\n",
       "       43.9, 43.8, 43.7, 43.6, 43.6, 43.5, 43.5, 43.4, 43.3, 43.3, 43.2,\n",
       "       43.2, 43.1, 43. , 43. , 42.9, 42.9, 42.8, 42.8, 42.7, 42.7, 42.6,\n",
       "       42.6, 42.5, 42.4, 42.4, 42.3, 42.3, 42.2, 42.2, 42.2, 42.1, 42. ,\n",
       "       42. , 41.9, 41.9, 41.9, 41.8, 41.8, 41.7, 41.6, 41.6, 41.5, 41.5,\n",
       "       41.5, 41.5, 41.4, 41.4, 41.3, 41.3, 41.2, 41.2, 41.1, 41.1, 41.1,\n",
       "       41. , 41. , 41. , 40.9, 40.9, 40.9, 40.8, 40.8, 40.8, 40.8, 40.8,\n",
       "       40.7, 40.7, 40.7, 40.7, 40.6, 40.6, 40.6, 40.6, 40.5, 40.5, 40.5,\n",
       "       40.4, 40.3, 40.3, 40.3, 40.2, 40.2, 40.2, 40.1, 40.1, 40.1, 40.1,\n",
       "       40.1, 40.1, 40.1, 40. , 40. , 39.9, 39.9, 39.9, 39.8, 39.9, 39.9,\n",
       "       39.8, 39.8, 39.8, 39.8, 39.7, 39.7, 39.7, 39.6, 39.6, 39.6, 39.6,\n",
       "       39.6, 39.6, 39.5, 39.5, 39.5, 39.5, 39.5, 39.5, 39.5, 39.4, 39.4,\n",
       "       39.4, 39.4, 39.4, 39.3, 39.3, 39.3, 39.3, 39.3, 39.2, 39.2, 39.2,\n",
       "       39.2, 39.1, 39.2, 39.1, 39.1, 39.1, 39. , 39. , 39. , 39. , 39. ,\n",
       "       38.9, 38.9, 38.9, 38.9, 38.8, 38.8, 38.8, 38.7, 38.7, 38.7, 38.6,\n",
       "       38.6, 38.6, 38.6, 38.5, 38.5, 38.5, 38.5, 38.5, 38.5, 38.5, 38.5,\n",
       "       38.5, 38.5, 38.5, 38.5, 38.5, 38.5, 38.6, 38.6, 39.7, 43.6, 46.1,\n",
       "       47.4, 48.5, 49.1, 49.6, 50. , 50.3, 50.5, 50.7, 50.8, 51. , 51. ,\n",
       "       51.2, 51.2, 51.3, 51.4, 51.4, 51.4, 51.4, 51.4, 51.5, 51.5, 51.5,\n",
       "       51.5, 51.5, 51.5, 51.5, 51.5, 51.5, 51.5, 51.5, 51.5, 51.5, 51.5,\n",
       "       51.5, 51.5, 51.5, 51.4, 51.4, 51.4, 51.4, 51.5, 51.4, 51.4, 51.4,\n",
       "       51.4, 51.4, 51.4, 51.4, 51.4, 51.4, 51.4, 51.4, 51.3, 51.3, 51.4,\n",
       "       51.4, 51.4, 51.4, 51.4, 51.4, 51.4, 51.5, 51.5, 51.5, 51.5, 51.6,\n",
       "       51.6, 51.6, 51.7, 51.7, 51.7, 51.8, 51.8, 51.8, 51.9, 51.9, 51.9,\n",
       "       52. , 52. , 52.1, 52.1, 52.2, 52.2, 52.2, 52.3, 52.3, 52.4, 52.4,\n",
       "       52.4, 52.5, 52.5, 52.6, 52.6, 52.7, 52.7, 52.8, 52.8, 52.9, 52.9,\n",
       "       53. , 53. , 53.1, 53.1, 53.2, 53.3, 53.3, 53.4, 53.4, 53.4, 53.5,\n",
       "       53.6, 53.6, 53.7, 53.7, 53.8, 53.8, 53.8, 53.9, 53.9, 54. , 54.1,\n",
       "       54.1, 54.2, 54.2, 54.2, 54.3, 54.3, 54.4, 54.4, 54.5, 54.6, 54.6,\n",
       "       54.6, 54.7, 54.8, 54.8])"
      ]
     },
     "execution_count": 5,
     "metadata": {},
     "output_type": "execute_result"
    }
   ],
   "source": [
    "settings.appData['TEMP']"
   ]
  },
  {
   "cell_type": "code",
   "execution_count": null,
   "id": "bf2f8880-c271-4339-be80-593f5f6f221e",
   "metadata": {},
   "outputs": [],
   "source": [
    "settings.appConfig['RUN']"
   ]
  },
  {
   "cell_type": "code",
   "execution_count": null,
   "id": "3b867cfc-d86b-4773-ad73-ff74bb60d3d8",
   "metadata": {},
   "outputs": [],
   "source": [
    "import pickle as pkl\n",
    "configs = [str(config) for config in settings.appProgramme.stages]\n",
    "testresults = {'stages': [*configs], 'data':settings.appData, 'config':settings.appConfig}\n",
    "with open('./data/13-10/data-14-45-Isomalt-Oil-5g-30-50-30-new', 'wb') as f:\n",
    "    pkl.dump(testresults, f)"
   ]
  },
  {
   "cell_type": "code",
   "execution_count": null,
   "id": "e4f42833-1872-4a6d-8d34-9501045dbad3",
   "metadata": {
    "tags": []
   },
   "outputs": [],
   "source": [
    "import asyncio\n",
    "loop = asyncio.get_event_loop()\n",
    "asyncio.all_tasks()"
   ]
  }
 ],
 "metadata": {
  "kernelspec": {
   "display_name": "Python 3 (ipykernel)",
   "language": "python",
   "name": "python3"
  },
  "language_info": {
   "codemirror_mode": {
    "name": "ipython",
    "version": 3
   },
   "file_extension": ".py",
   "mimetype": "text/x-python",
   "name": "python",
   "nbconvert_exporter": "python",
   "pygments_lexer": "ipython3",
   "version": "3.7.3"
  },
  "vscode": {
   "interpreter": {
    "hash": "916dbcbb3f70747c44a77c7bcd40155683ae19c65e1c03b4aa3499c5328201f1"
   }
  }
 },
 "nbformat": 4,
 "nbformat_minor": 5
}
