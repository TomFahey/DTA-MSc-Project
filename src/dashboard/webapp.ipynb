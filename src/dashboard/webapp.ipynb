{
 "cells": [
  {
   "cell_type": "code",
   "execution_count": 1,
   "id": "9396747d-7672-4a61-8c1a-300b41a324c6",
   "metadata": {
    "autorun": true,
    "tags": []
   },
   "outputs": [
    {
     "data": {
      "text/html": [
       "<style>.jp-Cell { padding: 0 !important; }</style>"
      ],
      "text/plain": [
       "<IPython.core.display.HTML object>"
      ]
     },
     "metadata": {},
     "output_type": "display_data"
    },
    {
     "data": {
      "text/html": [
       "<style>.jp-Notebook { padding: 0 !important;}</style>"
      ],
      "text/plain": [
       "<IPython.core.display.HTML object>"
      ]
     },
     "metadata": {},
     "output_type": "display_data"
    },
    {
     "data": {
      "text/html": [
       "<style>.body { margin: 0 !important; }</style>"
      ],
      "text/plain": [
       "<IPython.core.display.HTML object>"
      ]
     },
     "metadata": {},
     "output_type": "display_data"
    },
    {
     "data": {
      "text/html": [
       "<style>.html { margin: 0 !important; }</style>"
      ],
      "text/plain": [
       "<IPython.core.display.HTML object>"
      ]
     },
     "metadata": {},
     "output_type": "display_data"
    },
    {
     "data": {
      "application/vnd.jupyter.widget-view+json": {
       "model_id": "4e2439c2f7b746ce9e77dc92bf02e945",
       "version_major": 2,
       "version_minor": 0
      },
      "text/plain": [
       "Tab(children=(VBox(children=(HBox(children=(Button(button_style='warning', description='Run', icon='play', lay…"
      ]
     },
     "metadata": {},
     "output_type": "display_data"
    }
   ],
   "source": [
    "%matplotlib ipympl\n",
    "%gui asyncio\n",
    "#%autoawait asyncio\n",
    "%run app.py"
   ]
  }
 ],
 "metadata": {
  "kernelspec": {
   "display_name": "Python 3 (ipykernel)",
   "language": "python",
   "name": "python3"
  },
  "language_info": {
   "codemirror_mode": {
    "name": "ipython",
    "version": 3
   },
   "file_extension": ".py",
   "mimetype": "text/x-python",
   "name": "python",
   "nbconvert_exporter": "python",
   "pygments_lexer": "ipython3",
   "version": "3.7.3"
  },
  "vscode": {
   "interpreter": {
    "hash": "916dbcbb3f70747c44a77c7bcd40155683ae19c65e1c03b4aa3499c5328201f1"
   }
  },
  "widgets": {
   "application/vnd.jupyter.widget-state+json": {
    "state": {
     "002b922eb64c40148d022660d2940ff5": {
      "model_module": "@jupyter-widgets/base",
      "model_module_version": "2.0.0",
      "model_name": "LayoutModel",
      "state": {
       "width": "100%"
      }
     },
     "005ddfeab0804f12ab662bf0e3be9396": {
      "model_module": "@jupyter-widgets/base",
      "model_module_version": "2.0.0",
      "model_name": "LayoutModel",
      "state": {}
     },
     "036aca8aa8334cf8a33eac8ca13b90f1": {
      "model_module": "@jupyter-widgets/controls",
      "model_module_version": "2.0.0",
      "model_name": "ButtonStyleModel",
      "state": {
       "font_family": null,
       "font_size": null,
       "font_style": null,
       "font_variant": null,
       "font_weight": null,
       "text_color": null,
       "text_decoration": null
      }
     },
     "047cabc74d9e43a3ac0730ed5322a229": {
      "model_module": "@jupyter-widgets/base",
      "model_module_version": "2.0.0",
      "model_name": "LayoutModel",
      "state": {
       "width": "100%"
      }
     },
     "05dab972a70944b4a8d4fe9c002a22d5": {
      "model_module": "@jupyter-widgets/base",
      "model_module_version": "2.0.0",
      "model_name": "LayoutModel",
      "state": {
       "margin": "0 0 0 0",
       "padding": "0 0 0 0"
      }
     },
     "06111892603749f980df5a3b76f78be7": {
      "model_module": "@jupyter-widgets/base",
      "model_module_version": "2.0.0",
      "model_name": "LayoutModel",
      "state": {
       "height": "25em",
       "width": "100%"
      }
     },
     "06a5b43d45fc4cdeb34a6a1eb243ca09": {
      "model_module": "@jupyter-widgets/controls",
      "model_module_version": "2.0.0",
      "model_name": "VBoxModel",
      "state": {
       "children": [
        "IPY_MODEL_48f0299a358146bbb420d1633f37caed",
        "IPY_MODEL_760a2b5e84474ed4af01a824f4af109b",
        "IPY_MODEL_bc6ec0bc984843d4a41dc1b33b1f6618"
       ],
       "layout": "IPY_MODEL_0ba466fe4d034cb4860bc4647a63396a"
      }
     },
     "08416160d0c2412784a3c047f03d9778": {
      "model_module": "@jupyter-widgets/controls",
      "model_module_version": "2.0.0",
      "model_name": "FloatSliderModel",
      "state": {
       "behavior": "drag-tap",
       "continuous_update": false,
       "layout": "IPY_MODEL_697b6bbee41a45c4a641384f2e3a3f5f",
       "step": 0.5,
       "style": "IPY_MODEL_edf78bfe8e9f4182ab5768a843c2c4e1",
       "value": 2
      }
     },
     "0ba466fe4d034cb4860bc4647a63396a": {
      "model_module": "@jupyter-widgets/base",
      "model_module_version": "2.0.0",
      "model_name": "LayoutModel",
      "state": {
       "height": "15%",
       "width": "75%"
      }
     },
     "0bddc39fd11e4b00b88cc5404204ba20": {
      "model_module": "@jupyter-widgets/base",
      "model_module_version": "2.0.0",
      "model_name": "LayoutModel",
      "state": {
       "height": "100%",
       "margin": "0 0 0 0",
       "width": "94%"
      }
     },
     "0e4efc5212264429aa1e000030f5a625": {
      "model_module": "@jupyter-widgets/base",
      "model_module_version": "2.0.0",
      "model_name": "LayoutModel",
      "state": {
       "height": "10%",
       "width": "87.5%"
      }
     },
     "1231d7e808ca41c4a9280545c132265b": {
      "model_module": "@jupyter-widgets/controls",
      "model_module_version": "2.0.0",
      "model_name": "ButtonModel",
      "state": {
       "button_style": "warning",
       "description": "Run",
       "icon": "play",
       "layout": "IPY_MODEL_9d95f68293934d3dac8b391bfe47166a",
       "style": "IPY_MODEL_97b9535664d64e0b9597662884b7217d",
       "tooltip": null
      }
     },
     "15686bf06b4947f9972fa9fcdb904540": {
      "model_module": "@jupyter-widgets/base",
      "model_module_version": "2.0.0",
      "model_name": "LayoutModel",
      "state": {
       "height": "33%",
       "width": "72%"
      }
     },
     "166fcac8d77d4293830221044ea03953": {
      "buffers": [
       {
        "data": "AAAAAAAAAAA=",
        "encoding": "base64",
        "path": [
         "x",
         "value"
        ]
       },
       {
        "data": "AAAAAAAAAAA=",
        "encoding": "base64",
        "path": [
         "y",
         "value"
        ]
       }
      ],
      "model_module": "bqplot",
      "model_module_version": "^0.5.34",
      "model_name": "LinesModel",
      "state": {
       "colors": [
        "#ff000f"
       ],
       "display_legend": true,
       "fill_colors": [],
       "labels": [
        "Programme"
       ],
       "line_style": "dashed",
       "scales": {
        "x": "IPY_MODEL_d49538fcbc784a6cb74f5c87e1a24a16",
        "y": "IPY_MODEL_cf893e093e5348699219e92cdd1b61ca"
       },
       "x": {
        "dtype": "float64",
        "shape": [
         1
        ],
        "type": null
       },
       "y": {
        "dtype": "float64",
        "shape": [
         1
        ],
        "type": null
       }
      }
     },
     "16f4a200fe28417e9bdb8ffbfb0522ff": {
      "model_module": "@jupyter-widgets/controls",
      "model_module_version": "2.0.0",
      "model_name": "SliderStyleModel",
      "state": {
       "description_width": ""
      }
     },
     "1a6c05cf62a8430d805611be819f73dd": {
      "model_module": "@jupyter-widgets/controls",
      "model_module_version": "2.0.0",
      "model_name": "IntSliderModel",
      "state": {
       "behavior": "drag-tap",
       "continuous_update": false,
       "layout": "IPY_MODEL_85ee3b54a3544585b6605dbbab944840",
       "max": 200,
       "style": "IPY_MODEL_3a45fe662240479e8fa81d61022056b1",
       "value": 23
      }
     },
     "209f2e5bd760401da8a5a6b5a079aeff": {
      "model_module": "@jupyter-widgets/controls",
      "model_module_version": "2.0.0",
      "model_name": "TextModel",
      "state": {
       "layout": "IPY_MODEL_70cba80619a5431cb092c166fada4901",
       "style": "IPY_MODEL_e94bd82451db4676bc282601a192e44b",
       "value": "DATA-2023-02-25-18-12-51.csv"
      }
     },
     "2247533592c647b38cdc4eb213254e02": {
      "model_module": "@jupyter-widgets/base",
      "model_module_version": "2.0.0",
      "model_name": "LayoutModel",
      "state": {
       "height": "100%",
       "margin": "0 0 0 0",
       "width": "100%"
      }
     },
     "2532495ba8bc4efe9d5e2769b425edf5": {
      "model_module": "@jupyter-widgets/controls",
      "model_module_version": "2.0.0",
      "model_name": "TabModel",
      "state": {
       "children": [
        "IPY_MODEL_2dc44c72f4fd43e8bcc6631f5a12b9c2",
        "IPY_MODEL_60cf1c6fe6d946259f44fc417bcef4c6"
       ],
       "layout": "IPY_MODEL_8ebf7ecfafe4434e82a4ccad88b71236",
       "selected_index": 0,
       "titles": [
        "Stage 1:",
        "+"
       ]
      }
     },
     "28e33c65dd64454699b8a937b3e772c7": {
      "model_module": "@jupyter-widgets/controls",
      "model_module_version": "2.0.0",
      "model_name": "LabelStyleModel",
      "state": {
       "description_width": "",
       "font_family": null,
       "font_size": null,
       "font_style": null,
       "font_variant": null,
       "font_weight": null,
       "text_color": null,
       "text_decoration": null
      }
     },
     "2dc44c72f4fd43e8bcc6631f5a12b9c2": {
      "model_module": "@jupyter-widgets/controls",
      "model_module_version": "2.0.0",
      "model_name": "AccordionModel",
      "state": {
       "children": [
        "IPY_MODEL_1a6c05cf62a8430d805611be819f73dd",
        "IPY_MODEL_974bfe52e5d44a7d880904d97a08893e",
        "IPY_MODEL_bb8ed6f3eb434b4d99e81071faf584df"
       ],
       "layout": "IPY_MODEL_7d46268623524c528087723c89a7f868",
       "titles": [
        "Target Temperature",
        "Heating rate",
        "Hold Time"
       ]
      }
     },
     "2dd5214df418438eaaad45d302bec5c2": {
      "model_module": "@jupyter-widgets/base",
      "model_module_version": "2.0.0",
      "model_name": "LayoutModel",
      "state": {
       "width": "62.5%"
      }
     },
     "33bcf89d4a9040c599679a24f1d7a548": {
      "model_module": "@jupyter-widgets/controls",
      "model_module_version": "2.0.0",
      "model_name": "LabelModel",
      "state": {
       "layout": "IPY_MODEL_fb85a28968254eb0844fda7b636a2f41",
       "style": "IPY_MODEL_8f2f9f048c1b4573933338e7798d27e4",
       "value": "Mounted storage drives:"
      }
     },
     "33d15ed084d2425da84fff87f73b4b6e": {
      "buffers": [
       {
        "data": "AAAAAAAAAAA=",
        "encoding": "base64",
        "path": [
         "x",
         "value"
        ]
       },
       {
        "data": "AAAAAAAAAAA=",
        "encoding": "base64",
        "path": [
         "y",
         "value"
        ]
       }
      ],
      "model_module": "bqplot",
      "model_module_version": "^0.5.34",
      "model_name": "LinesModel",
      "state": {
       "colors": [
        "#46ff33"
       ],
       "fill_colors": [],
       "labels": [
        "C1"
       ],
       "line_style": "dashed",
       "scales": {
        "x": "IPY_MODEL_d49538fcbc784a6cb74f5c87e1a24a16",
        "y": "IPY_MODEL_60c929e06ef84467aa141e6247de01be"
       },
       "x": {
        "dtype": "float64",
        "shape": [
         1
        ],
        "type": null
       },
       "y": {
        "dtype": "float64",
        "shape": [
         1
        ],
        "type": null
       }
      }
     },
     "39fede516f254427a415ce661b7e0053": {
      "model_module": "bqplot",
      "model_module_version": "^0.5.34",
      "model_name": "FigureModel",
      "state": {
       "axes": [
        "IPY_MODEL_916fd3553c0948c1ab1590416f9e7e5f",
        "IPY_MODEL_73945dc2b44b47afa095726181972c8f",
        "IPY_MODEL_87ac9080805d4011aeec84f9657a1930"
       ],
       "fig_margin": {
        "bottom": 50,
        "left": 45,
        "right": 70,
        "top": 25
       },
       "layout": "IPY_MODEL_06111892603749f980df5a3b76f78be7",
       "marks": [
        "IPY_MODEL_ffdc6f4edd1942f4b780d60c1506f24f",
        "IPY_MODEL_438389bd67fd4f84980f420a3fb1a2de",
        "IPY_MODEL_a7e7d1e177bc4b3b861e03442d9e3812",
        "IPY_MODEL_166fcac8d77d4293830221044ea03953",
        "IPY_MODEL_33d15ed084d2425da84fff87f73b4b6e",
        "IPY_MODEL_729e2e6d7dc246cbb5eeb4d570fb1925"
       ],
       "scale_x": "IPY_MODEL_d06c8387b3d943208d21bc9aa5755f26",
       "scale_y": "IPY_MODEL_a55f7346e7d1421fb54ce251faabcf4d"
      }
     },
     "3a45fe662240479e8fa81d61022056b1": {
      "model_module": "@jupyter-widgets/controls",
      "model_module_version": "2.0.0",
      "model_name": "SliderStyleModel",
      "state": {
       "description_width": ""
      }
     },
     "3e6e0bca96d14378aaebc09399ddb6d5": {
      "model_module": "@jupyter-widgets/controls",
      "model_module_version": "2.0.0",
      "model_name": "SliderStyleModel",
      "state": {
       "description_width": ""
      }
     },
     "407876ef978e4271a4fb7cbbe5a70a93": {
      "model_module": "@jupyter-widgets/controls",
      "model_module_version": "2.0.0",
      "model_name": "SliderStyleModel",
      "state": {
       "description_width": ""
      }
     },
     "438389bd67fd4f84980f420a3fb1a2de": {
      "buffers": [
       {
        "data": "AAAAAAAAAAA=",
        "encoding": "base64",
        "path": [
         "x",
         "value"
        ]
       },
       {
        "data": "CtejcD2KMkA=",
        "encoding": "base64",
        "path": [
         "y",
         "value"
        ]
       }
      ],
      "model_module": "bqplot",
      "model_module_version": "^0.5.34",
      "model_name": "LinesModel",
      "state": {
       "colors": [
        "#0000ff"
       ],
       "display_legend": true,
       "fill_colors": [],
       "labels": [
        "Sample"
       ],
       "scales": {
        "x": "IPY_MODEL_d49538fcbc784a6cb74f5c87e1a24a16",
        "y": "IPY_MODEL_cf893e093e5348699219e92cdd1b61ca"
       },
       "x": {
        "dtype": "float64",
        "shape": [
         1
        ],
        "type": null
       },
       "y": {
        "dtype": "float64",
        "shape": [
         1
        ],
        "type": null
       }
      }
     },
     "48f0299a358146bbb420d1633f37caed": {
      "model_module": "@jupyter-widgets/controls",
      "model_module_version": "2.0.0",
      "model_name": "FloatProgressModel",
      "state": {
       "description": "Heating run:",
       "layout": "IPY_MODEL_4dc7c44b1ee74d09b7f41b27ad658052",
       "max": 1800,
       "style": "IPY_MODEL_f7494a843af14bc1aca2e45c3193d838"
      }
     },
     "4dc7c44b1ee74d09b7f41b27ad658052": {
      "model_module": "@jupyter-widgets/base",
      "model_module_version": "2.0.0",
      "model_name": "LayoutModel",
      "state": {
       "height": "33%",
       "width": "56%"
      }
     },
     "4e2439c2f7b746ce9e77dc92bf02e945": {
      "model_module": "@jupyter-widgets/controls",
      "model_module_version": "2.0.0",
      "model_name": "TabModel",
      "state": {
       "children": [
        "IPY_MODEL_ea273e08bb9b44abbb25bf87423d8dbf",
        "IPY_MODEL_2532495ba8bc4efe9d5e2769b425edf5",
        "IPY_MODEL_61fc1d7a835e45128c802ffd22939652",
        "IPY_MODEL_609596d66fe7404ba0b9e35f35719c55"
       ],
       "layout": "IPY_MODEL_2247533592c647b38cdc4eb213254e02",
       "selected_index": 0,
       "titles": [
        "Main",
        "Programme",
        "Settings",
        "Save"
       ]
      }
     },
     "597e26bf4c954b1c8c20c007a4e0eb23": {
      "model_module": "@jupyter-widgets/controls",
      "model_module_version": "2.0.0",
      "model_name": "SelectModel",
      "state": {
       "_options_labels": [
        "Local storage",
        "USBDRIVE"
       ],
       "index": 0,
       "layout": "IPY_MODEL_a9d0ca64961e46f4a8085cba6267f541",
       "style": "IPY_MODEL_7ecc9d17da174bcf972ede281ffb7ab5"
      }
     },
     "5dd4ae9f090f449390c020b1823958f1": {
      "model_module": "@jupyter-widgets/controls",
      "model_module_version": "2.0.0",
      "model_name": "SliderStyleModel",
      "state": {
       "description_width": ""
      }
     },
     "609596d66fe7404ba0b9e35f35719c55": {
      "model_module": "@jupyter-widgets/controls",
      "model_module_version": "2.0.0",
      "model_name": "VBoxModel",
      "state": {
       "children": [
        "IPY_MODEL_dcb7923719fe4d14a42162ad16f7b38f",
        "IPY_MODEL_7d76391468f24897a8b35aac3183bf8a"
       ],
       "layout": "IPY_MODEL_0bddc39fd11e4b00b88cc5404204ba20"
      }
     },
     "6099a7dcb5c446c39855159448403a4b": {
      "model_module": "@jupyter-widgets/controls",
      "model_module_version": "2.0.0",
      "model_name": "LabelModel",
      "state": {
       "layout": "IPY_MODEL_8361f7c67521485eaed9b004eb85b6d0",
       "style": "IPY_MODEL_28e33c65dd64454699b8a937b3e772c7",
       "value": "Filename:"
      }
     },
     "60c929e06ef84467aa141e6247de01be": {
      "model_module": "bqplot",
      "model_module_version": "^0.5.34",
      "model_name": "LinearScaleModel",
      "state": {
       "max": 30,
       "min": -30,
       "stabilized": false
      }
     },
     "60cf1c6fe6d946259f44fc417bcef4c6": {
      "model_module": "@jupyter-widgets/controls",
      "model_module_version": "2.0.0",
      "model_name": "AccordionModel",
      "state": {
       "children": [
        "IPY_MODEL_860308c0a4464592b58fc6cc6c60564b",
        "IPY_MODEL_76204da0c4d2441fa96549d3c235b1f9",
        "IPY_MODEL_eae2e9ec4f6b4c249a436a6a139fa908"
       ],
       "layout": "IPY_MODEL_002b922eb64c40148d022660d2940ff5",
       "titles": [
        "Target Temperature",
        "Heating rate",
        "Hold Time"
       ]
      }
     },
     "61d75ab78fea44b6bbdbb5eef5f637bc": {
      "model_module": "@jupyter-widgets/controls",
      "model_module_version": "2.0.0",
      "model_name": "ButtonModel",
      "state": {
       "button_style": "success",
       "description": "Save data",
       "icon": "download",
       "layout": "IPY_MODEL_005ddfeab0804f12ab662bf0e3be9396",
       "style": "IPY_MODEL_036aca8aa8334cf8a33eac8ca13b90f1",
       "tooltip": "Save readings to mounted storage drive"
      }
     },
     "61fc1d7a835e45128c802ffd22939652": {
      "model_module": "@jupyter-widgets/controls",
      "model_module_version": "2.0.0",
      "model_name": "AccordionModel",
      "state": {
       "children": [
        "IPY_MODEL_a450a1212236486a95966388f2c98995",
        "IPY_MODEL_08416160d0c2412784a3c047f03d9778",
        "IPY_MODEL_fc0fbae1d18547a8bbf7dfc71814ff9f",
        "IPY_MODEL_f278f796ade94d75a466ca6126b31ec3"
       ],
       "layout": "IPY_MODEL_05dab972a70944b4a8d4fe9c002a22d5",
       "titles": [
        "Proportional gain",
        "Integral gain",
        "Derivative gain",
        "Time interval"
       ]
      }
     },
     "67ac3273b89441048dd75aab4bcf3b1d": {
      "model_module": "@jupyter-widgets/base",
      "model_module_version": "2.0.0",
      "model_name": "LayoutModel",
      "state": {
       "width": "62.5%"
      }
     },
     "697b6bbee41a45c4a641384f2e3a3f5f": {
      "model_module": "@jupyter-widgets/base",
      "model_module_version": "2.0.0",
      "model_name": "LayoutModel",
      "state": {
       "width": "62.5%"
      }
     },
     "6d39daf5b91e4c34bc010fd4f6a5fd2d": {
      "model_module": "@jupyter-widgets/base",
      "model_module_version": "2.0.0",
      "model_name": "LayoutModel",
      "state": {
       "width": "100%"
      }
     },
     "704cc248e0c44dd7b1af4760e6d85269": {
      "model_module": "@jupyter-widgets/controls",
      "model_module_version": "2.0.0",
      "model_name": "HBoxModel",
      "state": {
       "children": [
        "IPY_MODEL_1231d7e808ca41c4a9280545c132265b",
        "IPY_MODEL_e0ebcbb999314dbeba0bb6a6ceaee849",
        "IPY_MODEL_c85f987edbc2486ab883e0e81aa0761f"
       ],
       "layout": "IPY_MODEL_0e4efc5212264429aa1e000030f5a625"
      }
     },
     "70cba80619a5431cb092c166fada4901": {
      "model_module": "@jupyter-widgets/base",
      "model_module_version": "2.0.0",
      "model_name": "LayoutModel",
      "state": {
       "width": "87.5%"
      }
     },
     "729e2e6d7dc246cbb5eeb4d570fb1925": {
      "buffers": [
       {
        "data": "AAAAAAAAAAA=",
        "encoding": "base64",
        "path": [
         "x",
         "value"
        ]
       },
       {
        "data": "KVyPwvUovL8=",
        "encoding": "base64",
        "path": [
         "y",
         "value"
        ]
       }
      ],
      "model_module": "bqplot",
      "model_module_version": "^0.5.34",
      "model_name": "LinesModel",
      "state": {
       "colors": [
        "#f7a500"
       ],
       "display_legend": true,
       "fill_colors": [],
       "labels": [
        "ΔT"
       ],
       "scales": {
        "x": "IPY_MODEL_d49538fcbc784a6cb74f5c87e1a24a16",
        "y": "IPY_MODEL_60c929e06ef84467aa141e6247de01be"
       },
       "x": {
        "dtype": "float64",
        "shape": [
         1
        ],
        "type": null
       },
       "y": {
        "dtype": "float64",
        "shape": [
         1
        ],
        "type": null
       }
      }
     },
     "73945dc2b44b47afa095726181972c8f": {
      "model_module": "bqplot",
      "model_module_version": "^0.5.34",
      "model_name": "AxisModel",
      "state": {
       "label": "Temperature (C)",
       "num_ticks": 7,
       "orientation": "vertical",
       "scale": "IPY_MODEL_cf893e093e5348699219e92cdd1b61ca",
       "side": "left",
       "tick_format": "0.0f",
       "tick_values": null
      }
     },
     "75ebf7e692da4091801097a19e115ee3": {
      "model_module": "@jupyter-widgets/controls",
      "model_module_version": "2.0.0",
      "model_name": "SliderStyleModel",
      "state": {
       "description_width": ""
      }
     },
     "760a2b5e84474ed4af01a824f4af109b": {
      "model_module": "@jupyter-widgets/controls",
      "model_module_version": "2.0.0",
      "model_name": "LabelModel",
      "state": {
       "layout": "IPY_MODEL_fa12b31e33944aa69b525b206e933e07",
       "style": "IPY_MODEL_a2f5452ce5fd428e9bfb0dd6b64d421b",
       "value": "Current temp: 21.65 ℃"
      }
     },
     "76204da0c4d2441fa96549d3c235b1f9": {
      "model_module": "@jupyter-widgets/controls",
      "model_module_version": "2.0.0",
      "model_name": "IntSliderModel",
      "state": {
       "behavior": "drag-tap",
       "continuous_update": false,
       "layout": "IPY_MODEL_e787645469e14967a7bdd590e0feccf2",
       "max": 30,
       "style": "IPY_MODEL_5dd4ae9f090f449390c020b1823958f1"
      }
     },
     "79fe5c14abfc4df59d77ea48e8696649": {
      "model_module": "@jupyter-widgets/controls",
      "model_module_version": "2.0.0",
      "model_name": "SliderStyleModel",
      "state": {
       "description_width": ""
      }
     },
     "7d46268623524c528087723c89a7f868": {
      "model_module": "@jupyter-widgets/base",
      "model_module_version": "2.0.0",
      "model_name": "LayoutModel",
      "state": {
       "width": "100%"
      }
     },
     "7d76391468f24897a8b35aac3183bf8a": {
      "model_module": "@jupyter-widgets/controls",
      "model_module_version": "2.0.0",
      "model_name": "HBoxModel",
      "state": {
       "children": [
        "IPY_MODEL_61d75ab78fea44b6bbdbb5eef5f637bc",
        "IPY_MODEL_bee9054dfa7b41118380dc402a2f1006"
       ],
       "layout": "IPY_MODEL_c267dc321d554edabb77fa3e715190ee"
      }
     },
     "7ecc9d17da174bcf972ede281ffb7ab5": {
      "model_module": "@jupyter-widgets/controls",
      "model_module_version": "2.0.0",
      "model_name": "DescriptionStyleModel",
      "state": {
       "description_width": ""
      }
     },
     "7f51f530ae5749cc9e2e9a20f07d8ddd": {
      "model_module": "@jupyter-widgets/controls",
      "model_module_version": "2.0.0",
      "model_name": "ButtonStyleModel",
      "state": {
       "font_family": null,
       "font_size": null,
       "font_style": null,
       "font_variant": null,
       "font_weight": null,
       "text_color": null,
       "text_decoration": null
      }
     },
     "8361f7c67521485eaed9b004eb85b6d0": {
      "model_module": "@jupyter-widgets/base",
      "model_module_version": "2.0.0",
      "model_name": "LayoutModel",
      "state": {}
     },
     "85ee3b54a3544585b6605dbbab944840": {
      "model_module": "@jupyter-widgets/base",
      "model_module_version": "2.0.0",
      "model_name": "LayoutModel",
      "state": {
       "width": "100%"
      }
     },
     "860308c0a4464592b58fc6cc6c60564b": {
      "model_module": "@jupyter-widgets/controls",
      "model_module_version": "2.0.0",
      "model_name": "IntSliderModel",
      "state": {
       "behavior": "drag-tap",
       "continuous_update": false,
       "layout": "IPY_MODEL_6d39daf5b91e4c34bc010fd4f6a5fd2d",
       "max": 200,
       "style": "IPY_MODEL_16f4a200fe28417e9bdb8ffbfb0522ff",
       "value": 23
      }
     },
     "87ac9080805d4011aeec84f9657a1930": {
      "model_module": "bqplot",
      "model_module_version": "^0.5.34",
      "model_name": "AxisModel",
      "state": {
       "label": "ΔT (K)",
       "num_ticks": 7,
       "orientation": "vertical",
       "scale": "IPY_MODEL_60c929e06ef84467aa141e6247de01be",
       "side": "right",
       "tick_format": "0.1f",
       "tick_values": null
      }
     },
     "8ebf7ecfafe4434e82a4ccad88b71236": {
      "model_module": "@jupyter-widgets/base",
      "model_module_version": "2.0.0",
      "model_name": "LayoutModel",
      "state": {}
     },
     "8f2f9f048c1b4573933338e7798d27e4": {
      "model_module": "@jupyter-widgets/controls",
      "model_module_version": "2.0.0",
      "model_name": "LabelStyleModel",
      "state": {
       "description_width": "",
       "font_family": null,
       "font_size": null,
       "font_style": null,
       "font_variant": null,
       "font_weight": null,
       "text_color": null,
       "text_decoration": null
      }
     },
     "916fd3553c0948c1ab1590416f9e7e5f": {
      "model_module": "bqplot",
      "model_module_version": "^0.5.34",
      "model_name": "AxisModel",
      "state": {
       "label": "Time (s)",
       "num_ticks": 6,
       "scale": "IPY_MODEL_d49538fcbc784a6cb74f5c87e1a24a16",
       "side": "bottom",
       "tick_values": null
      }
     },
     "947ffa8fea9f47579b7b91afb498cb0e": {
      "model_module": "@jupyter-widgets/base",
      "model_module_version": "2.0.0",
      "model_name": "LayoutModel",
      "state": {
       "height": "75%",
       "margin": "0 0 0 0",
       "width": "90.5%"
      }
     },
     "974bfe52e5d44a7d880904d97a08893e": {
      "model_module": "@jupyter-widgets/controls",
      "model_module_version": "2.0.0",
      "model_name": "IntSliderModel",
      "state": {
       "behavior": "drag-tap",
       "continuous_update": false,
       "layout": "IPY_MODEL_047cabc74d9e43a3ac0730ed5322a229",
       "max": 30,
       "style": "IPY_MODEL_3e6e0bca96d14378aaebc09399ddb6d5"
      }
     },
     "97b9535664d64e0b9597662884b7217d": {
      "model_module": "@jupyter-widgets/controls",
      "model_module_version": "2.0.0",
      "model_name": "ButtonStyleModel",
      "state": {
       "font_family": null,
       "font_size": null,
       "font_style": null,
       "font_variant": null,
       "font_weight": null,
       "text_color": null,
       "text_decoration": null
      }
     },
     "9819346e849042aa99f2b5c9e8e8ef2a": {
      "buffers": [
       {
        "data": "",
        "encoding": "base64",
        "path": [
         "x",
         "value"
        ]
       },
       {
        "data": "",
        "encoding": "base64",
        "path": [
         "y",
         "value"
        ]
       }
      ],
      "model_module": "bqplot",
      "model_module_version": "^0.5.34",
      "model_name": "LinesModel",
      "state": {
       "colors": [
        "#f7a500"
       ],
       "fill_colors": [],
       "opacities": [
        0.6
       ],
       "scales": {
        "x": "IPY_MODEL_d49538fcbc784a6cb74f5c87e1a24a16",
        "y": "IPY_MODEL_60c929e06ef84467aa141e6247de01be"
       },
       "x": {
        "dtype": "float64",
        "shape": [
         0
        ],
        "type": null
       },
       "y": {
        "dtype": "float64",
        "shape": [
         0
        ],
        "type": null
       }
      }
     },
     "9d95f68293934d3dac8b391bfe47166a": {
      "model_module": "@jupyter-widgets/base",
      "model_module_version": "2.0.0",
      "model_name": "LayoutModel",
      "state": {
       "height": "100%",
       "width": "28%"
      }
     },
     "9ed50fc103204bb0ae71d6ad25b3e8ee": {
      "model_module": "@jupyter-widgets/controls",
      "model_module_version": "2.0.0",
      "model_name": "ButtonStyleModel",
      "state": {
       "font_family": null,
       "font_size": null,
       "font_style": null,
       "font_variant": null,
       "font_weight": null,
       "text_color": null,
       "text_decoration": null
      }
     },
     "a065398757e3463cb2a22d3859e59c4e": {
      "model_module": "@jupyter-widgets/base",
      "model_module_version": "2.0.0",
      "model_name": "LayoutModel",
      "state": {
       "height": "100%",
       "margin": "0 0 0 0",
       "width": "100%"
      }
     },
     "a2f5452ce5fd428e9bfb0dd6b64d421b": {
      "model_module": "@jupyter-widgets/controls",
      "model_module_version": "2.0.0",
      "model_name": "LabelStyleModel",
      "state": {
       "description_width": "",
       "font_family": null,
       "font_size": null,
       "font_style": null,
       "font_variant": null,
       "font_weight": null,
       "text_color": null,
       "text_decoration": null
      }
     },
     "a450a1212236486a95966388f2c98995": {
      "model_module": "@jupyter-widgets/controls",
      "model_module_version": "2.0.0",
      "model_name": "FloatSliderModel",
      "state": {
       "behavior": "drag-tap",
       "continuous_update": false,
       "layout": "IPY_MODEL_2dd5214df418438eaaad45d302bec5c2",
       "step": 0.5,
       "style": "IPY_MODEL_dc0660569d72498ebbaadf572bc8f34b",
       "value": 35
      }
     },
     "a55f7346e7d1421fb54ce251faabcf4d": {
      "model_module": "bqplot",
      "model_module_version": "^0.5.34",
      "model_name": "LinearScaleModel",
      "state": {
       "allow_padding": false,
       "max": 1,
       "min": 0,
       "stabilized": false
      }
     },
     "a7e7d1e177bc4b3b861e03442d9e3812": {
      "buffers": [
       {
        "data": "AAAAAAAAAAA=",
        "encoding": "base64",
        "path": [
         "x",
         "value"
        ]
       },
       {
        "data": "mpmZmZmZN0A=",
        "encoding": "base64",
        "path": [
         "y",
         "value"
        ]
       }
      ],
      "model_module": "bqplot",
      "model_module_version": "^0.5.34",
      "model_name": "LinesModel",
      "state": {
       "colors": [
        "#3c9dd0"
       ],
       "display_legend": true,
       "fill_colors": [],
       "labels": [
        "Reference"
       ],
       "scales": {
        "x": "IPY_MODEL_d49538fcbc784a6cb74f5c87e1a24a16",
        "y": "IPY_MODEL_cf893e093e5348699219e92cdd1b61ca"
       },
       "x": {
        "dtype": "float64",
        "shape": [
         1
        ],
        "type": null
       },
       "y": {
        "dtype": "float64",
        "shape": [
         1
        ],
        "type": null
       }
      }
     },
     "a9d0ca64961e46f4a8085cba6267f541": {
      "model_module": "@jupyter-widgets/base",
      "model_module_version": "2.0.0",
      "model_name": "LayoutModel",
      "state": {
       "height": "29.15%",
       "margin": "0 0 0 0",
       "width": "87.5%"
      }
     },
     "ab572b8c0b014bc1aef8d0c301605fa0": {
      "model_module": "@jupyter-widgets/base",
      "model_module_version": "2.0.0",
      "model_name": "LayoutModel",
      "state": {
       "width": "100%"
      }
     },
     "b5ed13ae955d427c9d5b5cd940a25dd0": {
      "model_module": "@jupyter-widgets/controls",
      "model_module_version": "2.0.0",
      "model_name": "SliderStyleModel",
      "state": {
       "description_width": ""
      }
     },
     "b73153264a8545f28010a942c4dcbb16": {
      "model_module": "@jupyter-widgets/controls",
      "model_module_version": "2.0.0",
      "model_name": "ButtonStyleModel",
      "state": {
       "font_family": null,
       "font_size": null,
       "font_style": null,
       "font_variant": null,
       "font_weight": null,
       "text_color": null,
       "text_decoration": null
      }
     },
     "baa349778fc04dbe9d9829c9eb33346c": {
      "model_module": "@jupyter-widgets/controls",
      "model_module_version": "2.0.0",
      "model_name": "LabelStyleModel",
      "state": {
       "description_width": "",
       "font_family": null,
       "font_size": null,
       "font_style": null,
       "font_variant": null,
       "font_weight": null,
       "text_color": null,
       "text_decoration": null
      }
     },
     "bb8ed6f3eb434b4d99e81071faf584df": {
      "model_module": "@jupyter-widgets/controls",
      "model_module_version": "2.0.0",
      "model_name": "IntSliderModel",
      "state": {
       "behavior": "drag-tap",
       "continuous_update": false,
       "layout": "IPY_MODEL_f12535f7298e4949a350466da4efb726",
       "max": 180,
       "style": "IPY_MODEL_b5ed13ae955d427c9d5b5cd940a25dd0"
      }
     },
     "bc6ec0bc984843d4a41dc1b33b1f6618": {
      "model_module": "@jupyter-widgets/controls",
      "model_module_version": "2.0.0",
      "model_name": "LabelModel",
      "state": {
       "layout": "IPY_MODEL_15686bf06b4947f9972fa9fcdb904540",
       "style": "IPY_MODEL_baa349778fc04dbe9d9829c9eb33346c",
       "value": "Current ΔT: -0.16 K"
      }
     },
     "bee9054dfa7b41118380dc402a2f1006": {
      "model_module": "@jupyter-widgets/controls",
      "model_module_version": "2.0.0",
      "model_name": "ButtonModel",
      "state": {
       "button_style": "success",
       "description": "Eject disk",
       "icon": "eject",
       "layout": "IPY_MODEL_e9e63c808e14406ea7ce8f37611e1e2b",
       "style": "IPY_MODEL_9ed50fc103204bb0ae71d6ad25b3e8ee",
       "tooltip": "Eject mounted storage drive"
      }
     },
     "c267dc321d554edabb77fa3e715190ee": {
      "model_module": "@jupyter-widgets/base",
      "model_module_version": "2.0.0",
      "model_name": "LayoutModel",
      "state": {
       "height": "21%",
       "margin": "0 0 0 0",
       "width": "90.5%"
      }
     },
     "c7122f6d215a4f92a63fa7e2ce3cd173": {
      "model_module": "@jupyter-widgets/base",
      "model_module_version": "2.0.0",
      "model_name": "LayoutModel",
      "state": {
       "margin": "0 0 0 0",
       "padding": "0 0 0 0"
      }
     },
     "c85f987edbc2486ab883e0e81aa0761f": {
      "model_module": "@jupyter-widgets/controls",
      "model_module_version": "2.0.0",
      "model_name": "ButtonModel",
      "state": {
       "button_style": "warning",
       "description": "Reset",
       "icon": "restart",
       "layout": "IPY_MODEL_e2e0c2a1b0694d329f7c3b5f531c591d",
       "style": "IPY_MODEL_7f51f530ae5749cc9e2e9a20f07d8ddd",
       "tooltip": null
      }
     },
     "cd77f2ebb7a649f3ac7e6311a8128b79": {
      "model_module": "@jupyter-widgets/base",
      "model_module_version": "2.0.0",
      "model_name": "LayoutModel",
      "state": {
       "width": "62.5%"
      }
     },
     "cf893e093e5348699219e92cdd1b61ca": {
      "model_module": "bqplot",
      "model_module_version": "^0.5.34",
      "model_name": "LinearScaleModel",
      "state": {
       "max": 21.62,
       "min": 0,
       "stabilized": false
      }
     },
     "d06c8387b3d943208d21bc9aa5755f26": {
      "model_module": "bqplot",
      "model_module_version": "^0.5.34",
      "model_name": "LinearScaleModel",
      "state": {
       "allow_padding": false,
       "max": 1,
       "min": 0,
       "stabilized": false
      }
     },
     "d49538fcbc784a6cb74f5c87e1a24a16": {
      "model_module": "bqplot",
      "model_module_version": "^0.5.34",
      "model_name": "LinearScaleModel",
      "state": {
       "max": 0,
       "min": 0,
       "stabilized": false
      }
     },
     "dc0660569d72498ebbaadf572bc8f34b": {
      "model_module": "@jupyter-widgets/controls",
      "model_module_version": "2.0.0",
      "model_name": "SliderStyleModel",
      "state": {
       "description_width": ""
      }
     },
     "dcb7923719fe4d14a42162ad16f7b38f": {
      "model_module": "@jupyter-widgets/controls",
      "model_module_version": "2.0.0",
      "model_name": "VBoxModel",
      "state": {
       "children": [
        "IPY_MODEL_33bcf89d4a9040c599679a24f1d7a548",
        "IPY_MODEL_597e26bf4c954b1c8c20c007a4e0eb23",
        "IPY_MODEL_6099a7dcb5c446c39855159448403a4b",
        "IPY_MODEL_209f2e5bd760401da8a5a6b5a079aeff"
       ],
       "layout": "IPY_MODEL_947ffa8fea9f47579b7b91afb498cb0e"
      }
     },
     "e0ebcbb999314dbeba0bb6a6ceaee849": {
      "model_module": "@jupyter-widgets/controls",
      "model_module_version": "2.0.0",
      "model_name": "ButtonModel",
      "state": {
       "button_style": "warning",
       "description": "Stop",
       "icon": "stop",
       "layout": "IPY_MODEL_fff8e7b54be54a599a8f4b10ff21efe4",
       "style": "IPY_MODEL_b73153264a8545f28010a942c4dcbb16",
       "tooltip": null
      }
     },
     "e2e0c2a1b0694d329f7c3b5f531c591d": {
      "model_module": "@jupyter-widgets/base",
      "model_module_version": "2.0.0",
      "model_name": "LayoutModel",
      "state": {
       "height": "100%",
       "width": "28%"
      }
     },
     "e787645469e14967a7bdd590e0feccf2": {
      "model_module": "@jupyter-widgets/base",
      "model_module_version": "2.0.0",
      "model_name": "LayoutModel",
      "state": {
       "width": "100%"
      }
     },
     "e94bd82451db4676bc282601a192e44b": {
      "model_module": "@jupyter-widgets/controls",
      "model_module_version": "2.0.0",
      "model_name": "TextStyleModel",
      "state": {
       "description_width": "",
       "font_size": null,
       "text_color": null
      }
     },
     "e9e63c808e14406ea7ce8f37611e1e2b": {
      "model_module": "@jupyter-widgets/base",
      "model_module_version": "2.0.0",
      "model_name": "LayoutModel",
      "state": {}
     },
     "ea273e08bb9b44abbb25bf87423d8dbf": {
      "model_module": "@jupyter-widgets/controls",
      "model_module_version": "2.0.0",
      "model_name": "VBoxModel",
      "state": {
       "children": [
        "IPY_MODEL_704cc248e0c44dd7b1af4760e6d85269",
        "IPY_MODEL_39fede516f254427a415ce661b7e0053",
        "IPY_MODEL_06a5b43d45fc4cdeb34a6a1eb243ca09"
       ],
       "layout": "IPY_MODEL_a065398757e3463cb2a22d3859e59c4e"
      }
     },
     "eae2e9ec4f6b4c249a436a6a139fa908": {
      "model_module": "@jupyter-widgets/controls",
      "model_module_version": "2.0.0",
      "model_name": "IntSliderModel",
      "state": {
       "behavior": "drag-tap",
       "continuous_update": false,
       "layout": "IPY_MODEL_ab572b8c0b014bc1aef8d0c301605fa0",
       "max": 180,
       "style": "IPY_MODEL_75ebf7e692da4091801097a19e115ee3"
      }
     },
     "edf78bfe8e9f4182ab5768a843c2c4e1": {
      "model_module": "@jupyter-widgets/controls",
      "model_module_version": "2.0.0",
      "model_name": "SliderStyleModel",
      "state": {
       "description_width": ""
      }
     },
     "f12535f7298e4949a350466da4efb726": {
      "model_module": "@jupyter-widgets/base",
      "model_module_version": "2.0.0",
      "model_name": "LayoutModel",
      "state": {
       "width": "100%"
      }
     },
     "f278f796ade94d75a466ca6126b31ec3": {
      "model_module": "@jupyter-widgets/controls",
      "model_module_version": "2.0.0",
      "model_name": "FloatSliderModel",
      "state": {
       "behavior": "drag-tap",
       "continuous_update": false,
       "layout": "IPY_MODEL_cd77f2ebb7a649f3ac7e6311a8128b79",
       "max": 5,
       "step": 0.05,
       "style": "IPY_MODEL_407876ef978e4271a4fb7cbbe5a70a93",
       "value": 0.25
      }
     },
     "f7494a843af14bc1aca2e45c3193d838": {
      "model_module": "@jupyter-widgets/controls",
      "model_module_version": "2.0.0",
      "model_name": "ProgressStyleModel",
      "state": {
       "description_width": "initial"
      }
     },
     "fa12b31e33944aa69b525b206e933e07": {
      "model_module": "@jupyter-widgets/base",
      "model_module_version": "2.0.0",
      "model_name": "LayoutModel",
      "state": {
       "height": "33%",
       "width": "72%"
      }
     },
     "fb85a28968254eb0844fda7b636a2f41": {
      "model_module": "@jupyter-widgets/base",
      "model_module_version": "2.0.0",
      "model_name": "LayoutModel",
      "state": {}
     },
     "fc0fbae1d18547a8bbf7dfc71814ff9f": {
      "model_module": "@jupyter-widgets/controls",
      "model_module_version": "2.0.0",
      "model_name": "FloatSliderModel",
      "state": {
       "behavior": "drag-tap",
       "continuous_update": false,
       "layout": "IPY_MODEL_67ac3273b89441048dd75aab4bcf3b1d",
       "step": 0.5,
       "style": "IPY_MODEL_79fe5c14abfc4df59d77ea48e8696649",
       "value": 3.5
      }
     },
     "ffdc6f4edd1942f4b780d60c1506f24f": {
      "buffers": [
       {
        "data": "AAAAAAAAAAA=",
        "encoding": "base64",
        "path": [
         "x",
         "value"
        ]
       },
       {
        "data": "H4XrUbieNUA=",
        "encoding": "base64",
        "path": [
         "y",
         "value"
        ]
       }
      ],
      "model_module": "bqplot",
      "model_module_version": "^0.5.34",
      "model_name": "LinesModel",
      "state": {
       "colors": [
        "#ff000f"
       ],
       "display_legend": true,
       "fill_colors": [],
       "labels": [
        "Measured"
       ],
       "scales": {
        "x": "IPY_MODEL_d49538fcbc784a6cb74f5c87e1a24a16",
        "y": "IPY_MODEL_cf893e093e5348699219e92cdd1b61ca"
       },
       "x": {
        "dtype": "float64",
        "shape": [
         1
        ],
        "type": null
       },
       "y": {
        "dtype": "float64",
        "shape": [
         1
        ],
        "type": null
       }
      }
     },
     "fff8e7b54be54a599a8f4b10ff21efe4": {
      "model_module": "@jupyter-widgets/base",
      "model_module_version": "2.0.0",
      "model_name": "LayoutModel",
      "state": {
       "height": "100%",
       "width": "28%"
      }
     }
    },
    "version_major": 2,
    "version_minor": 0
   }
  }
 },
 "nbformat": 4,
 "nbformat_minor": 5
}
