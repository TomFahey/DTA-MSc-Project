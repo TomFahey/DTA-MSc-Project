{
 "cells": [
  {
   "cell_type": "code",
   "execution_count": 1,
   "id": "9396747d-7672-4a61-8c1a-300b41a324c6",
   "metadata": {
    "autorun": true,
    "tags": []
   },
   "outputs": [
    {
     "data": {
      "text/html": [
       "<style>.jp-Cell { padding: 0 !important; }</style>"
      ],
      "text/plain": [
       "<IPython.core.display.HTML object>"
      ]
     },
     "metadata": {},
     "output_type": "display_data"
    },
    {
     "data": {
      "text/html": [
       "<style>.jp-Notebook { padding: 0 !important;}</style>"
      ],
      "text/plain": [
       "<IPython.core.display.HTML object>"
      ]
     },
     "metadata": {},
     "output_type": "display_data"
    },
    {
     "data": {
      "text/html": [
       "<style>.body { margin: 0 !important; }</style>"
      ],
      "text/plain": [
       "<IPython.core.display.HTML object>"
      ]
     },
     "metadata": {},
     "output_type": "display_data"
    },
    {
     "data": {
      "text/html": [
       "<style>.html { margin: 0 !important; }</style>"
      ],
      "text/plain": [
       "<IPython.core.display.HTML object>"
      ]
     },
     "metadata": {},
     "output_type": "display_data"
    },
    {
     "data": {
      "application/vnd.jupyter.widget-view+json": {
       "model_id": "2b28db6a56ac463eae6a8d23f6a9115b",
       "version_major": 2,
       "version_minor": 0
      },
      "text/plain": [
       "Tab(children=(VBox(children=(HBox(children=(Button(button_style='warning', description='Run', icon='play', lay…"
      ]
     },
     "metadata": {},
     "output_type": "display_data"
    }
   ],
   "source": [
    "%matplotlib ipympl\n",
    "%gui asyncio\n",
    "#%autoawait asyncio\n",
    "%run app.py"
   ]
  }
 ],
 "metadata": {
  "kernelspec": {
   "display_name": "Python 3 (ipykernel)",
   "language": "python",
   "name": "python3"
  },
  "language_info": {
   "codemirror_mode": {
    "name": "ipython",
    "version": 3
   },
   "file_extension": ".py",
   "mimetype": "text/x-python",
   "name": "python",
   "nbconvert_exporter": "python",
   "pygments_lexer": "ipython3",
   "version": "3.7.3"
  },
  "vscode": {
   "interpreter": {
    "hash": "916dbcbb3f70747c44a77c7bcd40155683ae19c65e1c03b4aa3499c5328201f1"
   }
  },
  "widgets": {
   "application/vnd.jupyter.widget-state+json": {
    "state": {
     "06be7604849649e69c8e108125a87943": {
      "model_module": "@jupyter-widgets/controls",
      "model_module_version": "2.0.0",
      "model_name": "SliderStyleModel",
      "state": {
       "description_width": ""
      }
     },
     "0860d81ac24f4c7fa5bc63e4681033cc": {
      "model_module": "@jupyter-widgets/controls",
      "model_module_version": "2.0.0",
      "model_name": "FloatSliderModel",
      "state": {
       "behavior": "drag-tap",
       "continuous_update": false,
       "layout": "IPY_MODEL_912b4d7b10e74e11905a931da0d40c1d",
       "step": 0.5,
       "style": "IPY_MODEL_49a7a2472d344b739e5ce5395439617b",
       "value": 3.5
      }
     },
     "0c571cbc60654cebbe696c1e6010e759": {
      "model_module": "@jupyter-widgets/controls",
      "model_module_version": "2.0.0",
      "model_name": "TabModel",
      "state": {
       "children": [
        "IPY_MODEL_b59c070f0d9a4c63b005dbfb80700c69",
        "IPY_MODEL_71c94c38e9484b4ab5e0125050439d1f"
       ],
       "layout": "IPY_MODEL_0c6cc21ac11f43b09cf04ab1f7db6166",
       "selected_index": 0,
       "titles": [
        "Stage 1:",
        "+"
       ]
      }
     },
     "0c6cc21ac11f43b09cf04ab1f7db6166": {
      "model_module": "@jupyter-widgets/base",
      "model_module_version": "2.0.0",
      "model_name": "LayoutModel",
      "state": {}
     },
     "1275537111774a38aebf00dbb9316ab5": {
      "model_module": "@jupyter-widgets/controls",
      "model_module_version": "2.0.0",
      "model_name": "LabelStyleModel",
      "state": {
       "description_width": "",
       "font_family": null,
       "font_size": null,
       "font_style": null,
       "font_variant": null,
       "font_weight": null,
       "text_color": null,
       "text_decoration": null
      }
     },
     "12b69ccc4da04f7ea369ddc48ce52cad": {
      "model_module": "@jupyter-widgets/controls",
      "model_module_version": "2.0.0",
      "model_name": "VBoxModel",
      "state": {
       "children": [
        "IPY_MODEL_83a1e1c819a6403d80bc253f40ffce1b",
        "IPY_MODEL_4445fa2ce03e4159ab66a5799587ca05",
        "IPY_MODEL_ebb098e3612a4b13811dc695296bf9b3",
        "IPY_MODEL_eeb3855b770a499c8d42612c3210a937"
       ],
       "layout": "IPY_MODEL_c5909aff306b4ad688dd266ca6dd2a47"
      }
     },
     "1386106969ce4fe5b74647cde71e487a": {
      "model_module": "@jupyter-widgets/controls",
      "model_module_version": "2.0.0",
      "model_name": "ProgressStyleModel",
      "state": {
       "description_width": "initial"
      }
     },
     "155d900be3a94a69ab40b216b6645147": {
      "buffers": [
       {
        "data": "AAAAAAAAAAA=",
        "encoding": "base64",
        "path": [
         "x",
         "value"
        ]
       },
       {
        "data": "9ihcj8K1NEA=",
        "encoding": "base64",
        "path": [
         "y",
         "value"
        ]
       }
      ],
      "model_module": "bqplot",
      "model_module_version": "^0.5.34",
      "model_name": "LinesModel",
      "state": {
       "colors": [
        "#ff000f"
       ],
       "display_legend": true,
       "fill_colors": [],
       "labels": [
        "Measured"
       ],
       "scales": {
        "x": "IPY_MODEL_3edf36b9b63e4d9c83d86ea1b4a4b1b5",
        "y": "IPY_MODEL_63b01db0de33467cb866a226d2c32ed2"
       },
       "x": {
        "dtype": "float64",
        "shape": [
         1
        ],
        "type": null
       },
       "y": {
        "dtype": "float64",
        "shape": [
         1
        ],
        "type": null
       }
      }
     },
     "1a30f66986e344159d6042bdedb045dd": {
      "model_module": "@jupyter-widgets/base",
      "model_module_version": "2.0.0",
      "model_name": "LayoutModel",
      "state": {
       "height": "100%",
       "width": "28%"
      }
     },
     "1b521728e83c450b8d6725b5dce1e3a8": {
      "model_module": "@jupyter-widgets/controls",
      "model_module_version": "2.0.0",
      "model_name": "IntSliderModel",
      "state": {
       "behavior": "drag-tap",
       "continuous_update": false,
       "layout": "IPY_MODEL_b50906cd5c3a45ae87949de1f0f0497e",
       "max": 30,
       "style": "IPY_MODEL_296d635bcd90489d951f3a9b6796cde5"
      }
     },
     "1ddd8c65c5254178aa6b2ad094d3b590": {
      "model_module": "@jupyter-widgets/controls",
      "model_module_version": "2.0.0",
      "model_name": "SliderStyleModel",
      "state": {
       "description_width": ""
      }
     },
     "1e0b013d89d64c21879e64c018d61738": {
      "model_module": "bqplot",
      "model_module_version": "^0.5.34",
      "model_name": "FigureModel",
      "state": {
       "axes": [
        "IPY_MODEL_5eea3c1489614cd9ade7913deae02e79",
        "IPY_MODEL_800be4ef3ee54f39869478d22a5a6cd8",
        "IPY_MODEL_b590891e25e64ce1a351cc1b78bf9adb"
       ],
       "fig_margin": {
        "bottom": 50,
        "left": 45,
        "right": 70,
        "top": 25
       },
       "layout": "IPY_MODEL_f66b7e4f9e944e29a6eb87faaeba4154",
       "marks": [
        "IPY_MODEL_155d900be3a94a69ab40b216b6645147",
        "IPY_MODEL_ea17c850c8114c9b9ff7211ad21d554e",
        "IPY_MODEL_379506c77c07432399d2bbbb9786d025",
        "IPY_MODEL_6eaac2dd68e4481bb3eb0a40ad41b35e",
        "IPY_MODEL_332b54496b0b4e5f83d9c287c1a9e41b",
        "IPY_MODEL_490251dfa36a413698bda379de4f966a"
       ],
       "scale_x": "IPY_MODEL_1ff26faf05ca4c3f9c81f94b52cf2c3f",
       "scale_y": "IPY_MODEL_9363bc83b9094ba0b1b3d4401a0030e0"
      }
     },
     "1f868dc0f81a4da2a373acdb2dd8c8e1": {
      "model_module": "@jupyter-widgets/controls",
      "model_module_version": "2.0.0",
      "model_name": "SliderStyleModel",
      "state": {
       "description_width": ""
      }
     },
     "1ff26faf05ca4c3f9c81f94b52cf2c3f": {
      "model_module": "bqplot",
      "model_module_version": "^0.5.34",
      "model_name": "LinearScaleModel",
      "state": {
       "allow_padding": false,
       "max": 1,
       "min": 0,
       "stabilized": false
      }
     },
     "217ac0a410954b8795e75b6843615962": {
      "model_module": "@jupyter-widgets/base",
      "model_module_version": "2.0.0",
      "model_name": "LayoutModel",
      "state": {
       "height": "33%",
       "width": "72%"
      }
     },
     "24af71f43edc4cba81395de377a5b0ec": {
      "model_module": "bqplot",
      "model_module_version": "^0.5.34",
      "model_name": "LinearScaleModel",
      "state": {
       "max": 30,
       "min": -30,
       "stabilized": false
      }
     },
     "296d635bcd90489d951f3a9b6796cde5": {
      "model_module": "@jupyter-widgets/controls",
      "model_module_version": "2.0.0",
      "model_name": "SliderStyleModel",
      "state": {
       "description_width": ""
      }
     },
     "2b28db6a56ac463eae6a8d23f6a9115b": {
      "model_module": "@jupyter-widgets/controls",
      "model_module_version": "2.0.0",
      "model_name": "TabModel",
      "state": {
       "children": [
        "IPY_MODEL_e8dce3b27d414c9fa33db0674881f0b2",
        "IPY_MODEL_0c571cbc60654cebbe696c1e6010e759",
        "IPY_MODEL_608c0eead16048879cae9614c00eeab4",
        "IPY_MODEL_31fdf4c209324bc39d3563f783cacf27"
       ],
       "layout": "IPY_MODEL_d1502b6ad1cd424fb838c65919040cf5",
       "selected_index": 0,
       "titles": [
        "Main",
        "Programme",
        "Settings",
        "Save"
       ]
      }
     },
     "2b930f4a19c040cb99aae9aac80e0340": {
      "model_module": "@jupyter-widgets/base",
      "model_module_version": "2.0.0",
      "model_name": "LayoutModel",
      "state": {
       "width": "100%"
      }
     },
     "31fdf4c209324bc39d3563f783cacf27": {
      "model_module": "@jupyter-widgets/controls",
      "model_module_version": "2.0.0",
      "model_name": "VBoxModel",
      "state": {
       "children": [
        "IPY_MODEL_12b69ccc4da04f7ea369ddc48ce52cad",
        "IPY_MODEL_7fbb6b1fee084e72a02af9ce41da02e4"
       ],
       "layout": "IPY_MODEL_74415b4c3be942a7b8261d4f3bceb8cb"
      }
     },
     "332b54496b0b4e5f83d9c287c1a9e41b": {
      "buffers": [
       {
        "data": "AAAAAAAAAAA=",
        "encoding": "base64",
        "path": [
         "x",
         "value"
        ]
       },
       {
        "data": "AAAAAAAAAAA=",
        "encoding": "base64",
        "path": [
         "y",
         "value"
        ]
       }
      ],
      "model_module": "bqplot",
      "model_module_version": "^0.5.34",
      "model_name": "LinesModel",
      "state": {
       "colors": [
        "#46ff33"
       ],
       "fill_colors": [],
       "labels": [
        "C1"
       ],
       "line_style": "dashed",
       "scales": {
        "x": "IPY_MODEL_3edf36b9b63e4d9c83d86ea1b4a4b1b5",
        "y": "IPY_MODEL_24af71f43edc4cba81395de377a5b0ec"
       },
       "x": {
        "dtype": "float64",
        "shape": [
         1
        ],
        "type": null
       },
       "y": {
        "dtype": "float64",
        "shape": [
         1
        ],
        "type": null
       }
      }
     },
     "379506c77c07432399d2bbbb9786d025": {
      "buffers": [
       {
        "data": "AAAAAAAAAAA=",
        "encoding": "base64",
        "path": [
         "x",
         "value"
        ]
       },
       {
        "data": "16NwPQqXNkA=",
        "encoding": "base64",
        "path": [
         "y",
         "value"
        ]
       }
      ],
      "model_module": "bqplot",
      "model_module_version": "^0.5.34",
      "model_name": "LinesModel",
      "state": {
       "colors": [
        "#3c9dd0"
       ],
       "display_legend": true,
       "fill_colors": [],
       "labels": [
        "Reference"
       ],
       "scales": {
        "x": "IPY_MODEL_3edf36b9b63e4d9c83d86ea1b4a4b1b5",
        "y": "IPY_MODEL_63b01db0de33467cb866a226d2c32ed2"
       },
       "x": {
        "dtype": "float64",
        "shape": [
         1
        ],
        "type": null
       },
       "y": {
        "dtype": "float64",
        "shape": [
         1
        ],
        "type": null
       }
      }
     },
     "3b3f948c861842d9a8da23d14cbfff97": {
      "model_module": "@jupyter-widgets/base",
      "model_module_version": "2.0.0",
      "model_name": "LayoutModel",
      "state": {
       "height": "100%",
       "margin": "0 0 0 0",
       "width": "100%"
      }
     },
     "3edf36b9b63e4d9c83d86ea1b4a4b1b5": {
      "model_module": "bqplot",
      "model_module_version": "^0.5.34",
      "model_name": "LinearScaleModel",
      "state": {
       "max": 0,
       "min": 0,
       "stabilized": false
      }
     },
     "432f5c7095c74067ba7b5734f7ba16af": {
      "model_module": "@jupyter-widgets/controls",
      "model_module_version": "2.0.0",
      "model_name": "SliderStyleModel",
      "state": {
       "description_width": ""
      }
     },
     "4445fa2ce03e4159ab66a5799587ca05": {
      "model_module": "@jupyter-widgets/controls",
      "model_module_version": "2.0.0",
      "model_name": "SelectModel",
      "state": {
       "_options_labels": [
        "Local storage",
        "USBDRIVE"
       ],
       "index": 0,
       "layout": "IPY_MODEL_bb5cb1b30ae34c08926a65474ee51652",
       "style": "IPY_MODEL_665552a0799847b9bbdd0a2146a27c96"
      }
     },
     "44e07d6b5f6343a397d2afea1fcb6a3e": {
      "buffers": [
       {
        "data": "",
        "encoding": "base64",
        "path": [
         "x",
         "value"
        ]
       },
       {
        "data": "",
        "encoding": "base64",
        "path": [
         "y",
         "value"
        ]
       }
      ],
      "model_module": "bqplot",
      "model_module_version": "^0.5.34",
      "model_name": "LinesModel",
      "state": {
       "colors": [
        "#f7a500"
       ],
       "fill_colors": [],
       "opacities": [
        0.6
       ],
       "scales": {
        "x": "IPY_MODEL_3edf36b9b63e4d9c83d86ea1b4a4b1b5",
        "y": "IPY_MODEL_24af71f43edc4cba81395de377a5b0ec"
       },
       "x": {
        "dtype": "float64",
        "shape": [
         0
        ],
        "type": null
       },
       "y": {
        "dtype": "float64",
        "shape": [
         0
        ],
        "type": null
       }
      }
     },
     "45fd9710de844be2ac576f37ca5579b1": {
      "model_module": "@jupyter-widgets/controls",
      "model_module_version": "2.0.0",
      "model_name": "HBoxModel",
      "state": {
       "children": [
        "IPY_MODEL_6a762e6b897f4d1296a33ebb56062314",
        "IPY_MODEL_47027ce1607341d9811568a4f79e23ef",
        "IPY_MODEL_63dcc05eba6e42aab4846d9dbcfccfc9"
       ],
       "layout": "IPY_MODEL_ef68abb89fbd46cb8b62a76c0923dc28"
      }
     },
     "47027ce1607341d9811568a4f79e23ef": {
      "model_module": "@jupyter-widgets/controls",
      "model_module_version": "2.0.0",
      "model_name": "ButtonModel",
      "state": {
       "button_style": "warning",
       "description": "Stop",
       "icon": "stop",
       "layout": "IPY_MODEL_1a30f66986e344159d6042bdedb045dd",
       "style": "IPY_MODEL_6a2a8fbc77e54b1c89397a36f44605c4",
       "tooltip": null
      }
     },
     "48c44230b7bc4d82a752bc5125d629ce": {
      "model_module": "@jupyter-widgets/controls",
      "model_module_version": "2.0.0",
      "model_name": "FloatProgressModel",
      "state": {
       "description": "Heating run:",
       "layout": "IPY_MODEL_ab5ee597a4604406ab0688e2777106a6",
       "max": 1800,
       "style": "IPY_MODEL_1386106969ce4fe5b74647cde71e487a"
      }
     },
     "490251dfa36a413698bda379de4f966a": {
      "buffers": [
       {
        "data": "AAAAAAAAAAA=",
        "encoding": "base64",
        "path": [
         "x",
         "value"
        ]
       },
       {
        "data": "7FG4HoXr0T8=",
        "encoding": "base64",
        "path": [
         "y",
         "value"
        ]
       }
      ],
      "model_module": "bqplot",
      "model_module_version": "^0.5.34",
      "model_name": "LinesModel",
      "state": {
       "colors": [
        "#f7a500"
       ],
       "display_legend": true,
       "fill_colors": [],
       "labels": [
        "ΔT"
       ],
       "scales": {
        "x": "IPY_MODEL_3edf36b9b63e4d9c83d86ea1b4a4b1b5",
        "y": "IPY_MODEL_24af71f43edc4cba81395de377a5b0ec"
       },
       "x": {
        "dtype": "float64",
        "shape": [
         1
        ],
        "type": null
       },
       "y": {
        "dtype": "float64",
        "shape": [
         1
        ],
        "type": null
       }
      }
     },
     "49a7a2472d344b739e5ce5395439617b": {
      "model_module": "@jupyter-widgets/controls",
      "model_module_version": "2.0.0",
      "model_name": "SliderStyleModel",
      "state": {
       "description_width": ""
      }
     },
     "4efe747325c14434a14134b7fdf4abad": {
      "model_module": "@jupyter-widgets/controls",
      "model_module_version": "2.0.0",
      "model_name": "LabelModel",
      "state": {
       "layout": "IPY_MODEL_76fc22f86cd44e4ab019a90271a41a4e",
       "style": "IPY_MODEL_ee34adf470404ecfa736c1f968e899fb",
       "value": "Current temp: 20.71 ℃"
      }
     },
     "4fc73a1059614b0fb65aab2adc37f586": {
      "model_module": "@jupyter-widgets/controls",
      "model_module_version": "2.0.0",
      "model_name": "IntSliderModel",
      "state": {
       "behavior": "drag-tap",
       "continuous_update": false,
       "layout": "IPY_MODEL_ebd654f0327b4901a6125f8dad6cf209",
       "max": 200,
       "style": "IPY_MODEL_717852bba5874e488203c92f08291854",
       "value": 23
      }
     },
     "50b9fbe6e4a64aa29943402371677bff": {
      "model_module": "@jupyter-widgets/controls",
      "model_module_version": "2.0.0",
      "model_name": "FloatSliderModel",
      "state": {
       "behavior": "drag-tap",
       "continuous_update": false,
       "layout": "IPY_MODEL_c0b6a3d5bd384d878f27f2a1813e831e",
       "max": 5,
       "step": 0.05,
       "style": "IPY_MODEL_56e0f85af5c34293af2023b6c7b5bd52",
       "value": 0.25
      }
     },
     "56e0f85af5c34293af2023b6c7b5bd52": {
      "model_module": "@jupyter-widgets/controls",
      "model_module_version": "2.0.0",
      "model_name": "SliderStyleModel",
      "state": {
       "description_width": ""
      }
     },
     "5800ba445e59461782f615401c06692b": {
      "model_module": "@jupyter-widgets/base",
      "model_module_version": "2.0.0",
      "model_name": "LayoutModel",
      "state": {
       "height": "100%",
       "width": "28%"
      }
     },
     "5ac6e31317334569b907ec519e190aea": {
      "model_module": "@jupyter-widgets/controls",
      "model_module_version": "2.0.0",
      "model_name": "LabelModel",
      "state": {
       "layout": "IPY_MODEL_217ac0a410954b8795e75b6843615962",
       "style": "IPY_MODEL_c0f9d3c2237741a0b02b6a770608504b",
       "value": "Current ΔT: 0.28 K"
      }
     },
     "5ade4305673e4550ae9c11f46b55d8d6": {
      "model_module": "@jupyter-widgets/base",
      "model_module_version": "2.0.0",
      "model_name": "LayoutModel",
      "state": {}
     },
     "5d11b039b3bf4ddebbf27c8594f8388b": {
      "model_module": "@jupyter-widgets/base",
      "model_module_version": "2.0.0",
      "model_name": "LayoutModel",
      "state": {
       "margin": "0 0 0 0",
       "padding": "0 0 0 0"
      }
     },
     "5dfe548f623b40cd97bd4158155d33dc": {
      "model_module": "@jupyter-widgets/controls",
      "model_module_version": "2.0.0",
      "model_name": "VBoxModel",
      "state": {
       "children": [
        "IPY_MODEL_48c44230b7bc4d82a752bc5125d629ce",
        "IPY_MODEL_4efe747325c14434a14134b7fdf4abad",
        "IPY_MODEL_5ac6e31317334569b907ec519e190aea"
       ],
       "layout": "IPY_MODEL_fc0ae90859a44f73b810b2eb231c3981"
      }
     },
     "5eea3c1489614cd9ade7913deae02e79": {
      "model_module": "bqplot",
      "model_module_version": "^0.5.34",
      "model_name": "AxisModel",
      "state": {
       "label": "Time (s)",
       "num_ticks": 6,
       "scale": "IPY_MODEL_3edf36b9b63e4d9c83d86ea1b4a4b1b5",
       "side": "bottom",
       "tick_values": null
      }
     },
     "608c0eead16048879cae9614c00eeab4": {
      "model_module": "@jupyter-widgets/controls",
      "model_module_version": "2.0.0",
      "model_name": "AccordionModel",
      "state": {
       "children": [
        "IPY_MODEL_9be20369edaa4131adcca31e0135d9c8",
        "IPY_MODEL_af0faaa3645844b9a310f246d2f2408a",
        "IPY_MODEL_0860d81ac24f4c7fa5bc63e4681033cc",
        "IPY_MODEL_50b9fbe6e4a64aa29943402371677bff"
       ],
       "layout": "IPY_MODEL_6fd1faca289f4cf0bc540998711eb7af",
       "titles": [
        "Proportional gain",
        "Integral gain",
        "Derivative gain",
        "Time interval"
       ]
      }
     },
     "60bd228d27914c28b3ad4cd9b90007bd": {
      "model_module": "@jupyter-widgets/base",
      "model_module_version": "2.0.0",
      "model_name": "LayoutModel",
      "state": {
       "height": "100%",
       "width": "28%"
      }
     },
     "63b01db0de33467cb866a226d2c32ed2": {
      "model_module": "bqplot",
      "model_module_version": "^0.5.34",
      "model_name": "LinearScaleModel",
      "state": {
       "max": 20.71,
       "min": 0,
       "stabilized": false
      }
     },
     "63dcc05eba6e42aab4846d9dbcfccfc9": {
      "model_module": "@jupyter-widgets/controls",
      "model_module_version": "2.0.0",
      "model_name": "ButtonModel",
      "state": {
       "button_style": "warning",
       "description": "Reset",
       "icon": "restart",
       "layout": "IPY_MODEL_5800ba445e59461782f615401c06692b",
       "style": "IPY_MODEL_6b22fb17225a4a04b05d0f508bdffd3b",
       "tooltip": null
      }
     },
     "665552a0799847b9bbdd0a2146a27c96": {
      "model_module": "@jupyter-widgets/controls",
      "model_module_version": "2.0.0",
      "model_name": "DescriptionStyleModel",
      "state": {
       "description_width": ""
      }
     },
     "6a2a8fbc77e54b1c89397a36f44605c4": {
      "model_module": "@jupyter-widgets/controls",
      "model_module_version": "2.0.0",
      "model_name": "ButtonStyleModel",
      "state": {
       "font_family": null,
       "font_size": null,
       "font_style": null,
       "font_variant": null,
       "font_weight": null,
       "text_color": null,
       "text_decoration": null
      }
     },
     "6a762e6b897f4d1296a33ebb56062314": {
      "model_module": "@jupyter-widgets/controls",
      "model_module_version": "2.0.0",
      "model_name": "ButtonModel",
      "state": {
       "button_style": "warning",
       "description": "Run",
       "icon": "play",
       "layout": "IPY_MODEL_60bd228d27914c28b3ad4cd9b90007bd",
       "style": "IPY_MODEL_cdba116403434b3386e51db91c198c55",
       "tooltip": null
      }
     },
     "6b22fb17225a4a04b05d0f508bdffd3b": {
      "model_module": "@jupyter-widgets/controls",
      "model_module_version": "2.0.0",
      "model_name": "ButtonStyleModel",
      "state": {
       "font_family": null,
       "font_size": null,
       "font_style": null,
       "font_variant": null,
       "font_weight": null,
       "text_color": null,
       "text_decoration": null
      }
     },
     "6eaac2dd68e4481bb3eb0a40ad41b35e": {
      "buffers": [
       {
        "data": "AAAAAAAAAAA=",
        "encoding": "base64",
        "path": [
         "x",
         "value"
        ]
       },
       {
        "data": "AAAAAAAAAAA=",
        "encoding": "base64",
        "path": [
         "y",
         "value"
        ]
       }
      ],
      "model_module": "bqplot",
      "model_module_version": "^0.5.34",
      "model_name": "LinesModel",
      "state": {
       "colors": [
        "#ff000f"
       ],
       "display_legend": true,
       "fill_colors": [],
       "labels": [
        "Programme"
       ],
       "line_style": "dashed",
       "scales": {
        "x": "IPY_MODEL_3edf36b9b63e4d9c83d86ea1b4a4b1b5",
        "y": "IPY_MODEL_63b01db0de33467cb866a226d2c32ed2"
       },
       "x": {
        "dtype": "float64",
        "shape": [
         1
        ],
        "type": null
       },
       "y": {
        "dtype": "float64",
        "shape": [
         1
        ],
        "type": null
       }
      }
     },
     "6fd1faca289f4cf0bc540998711eb7af": {
      "model_module": "@jupyter-widgets/base",
      "model_module_version": "2.0.0",
      "model_name": "LayoutModel",
      "state": {
       "margin": "0 0 0 0",
       "padding": "0 0 0 0"
      }
     },
     "717852bba5874e488203c92f08291854": {
      "model_module": "@jupyter-widgets/controls",
      "model_module_version": "2.0.0",
      "model_name": "SliderStyleModel",
      "state": {
       "description_width": ""
      }
     },
     "71c94c38e9484b4ab5e0125050439d1f": {
      "model_module": "@jupyter-widgets/controls",
      "model_module_version": "2.0.0",
      "model_name": "AccordionModel",
      "state": {
       "children": [
        "IPY_MODEL_d2cd1f7d56c444d1999f97582565e182",
        "IPY_MODEL_1b521728e83c450b8d6725b5dce1e3a8",
        "IPY_MODEL_d7f2d2b64e0b49bd98fc16e9c53e4b80"
       ],
       "layout": "IPY_MODEL_8c5b56c82cfa42c3ac2b5205edbbf0b9",
       "titles": [
        "Target Temperature",
        "Heating rate",
        "Hold Time"
       ]
      }
     },
     "74415b4c3be942a7b8261d4f3bceb8cb": {
      "model_module": "@jupyter-widgets/base",
      "model_module_version": "2.0.0",
      "model_name": "LayoutModel",
      "state": {
       "height": "100%",
       "margin": "0 0 0 0",
       "width": "94%"
      }
     },
     "76ca05a40d794230aef7eb7bb309cfde": {
      "model_module": "@jupyter-widgets/base",
      "model_module_version": "2.0.0",
      "model_name": "LayoutModel",
      "state": {
       "width": "87.5%"
      }
     },
     "76f440e2fcf541d3a593503a4f8a802c": {
      "model_module": "@jupyter-widgets/base",
      "model_module_version": "2.0.0",
      "model_name": "LayoutModel",
      "state": {
       "width": "62.5%"
      }
     },
     "76fc22f86cd44e4ab019a90271a41a4e": {
      "model_module": "@jupyter-widgets/base",
      "model_module_version": "2.0.0",
      "model_name": "LayoutModel",
      "state": {
       "height": "33%",
       "width": "72%"
      }
     },
     "7fbb6b1fee084e72a02af9ce41da02e4": {
      "model_module": "@jupyter-widgets/controls",
      "model_module_version": "2.0.0",
      "model_name": "HBoxModel",
      "state": {
       "children": [
        "IPY_MODEL_f5d17b2ce0244f62a0d23ba6081d0aee",
        "IPY_MODEL_def0aa3dd36b452a87d35ba527a7410c"
       ],
       "layout": "IPY_MODEL_d2fb6fbd40d64f19bac1ca3c5763c1f7"
      }
     },
     "800be4ef3ee54f39869478d22a5a6cd8": {
      "model_module": "bqplot",
      "model_module_version": "^0.5.34",
      "model_name": "AxisModel",
      "state": {
       "label": "Temperature (C)",
       "num_ticks": 7,
       "orientation": "vertical",
       "scale": "IPY_MODEL_63b01db0de33467cb866a226d2c32ed2",
       "side": "left",
       "tick_format": "0.0f",
       "tick_values": null
      }
     },
     "83a1e1c819a6403d80bc253f40ffce1b": {
      "model_module": "@jupyter-widgets/controls",
      "model_module_version": "2.0.0",
      "model_name": "LabelModel",
      "state": {
       "layout": "IPY_MODEL_ddad1a04d8dc4b7d8aad10242be0952d",
       "style": "IPY_MODEL_99e9b93bd0654c77b7e0f8fc9e7be162",
       "value": "Mounted storage drives:"
      }
     },
     "8c5b56c82cfa42c3ac2b5205edbbf0b9": {
      "model_module": "@jupyter-widgets/base",
      "model_module_version": "2.0.0",
      "model_name": "LayoutModel",
      "state": {
       "width": "100%"
      }
     },
     "8d44b8cb9418401bb8eec5c6f408d111": {
      "model_module": "@jupyter-widgets/base",
      "model_module_version": "2.0.0",
      "model_name": "LayoutModel",
      "state": {}
     },
     "90d91207fd2e4ec1bd663b1b65ef4062": {
      "model_module": "@jupyter-widgets/base",
      "model_module_version": "2.0.0",
      "model_name": "LayoutModel",
      "state": {
       "width": "100%"
      }
     },
     "912b4d7b10e74e11905a931da0d40c1d": {
      "model_module": "@jupyter-widgets/base",
      "model_module_version": "2.0.0",
      "model_name": "LayoutModel",
      "state": {
       "width": "62.5%"
      }
     },
     "9363bc83b9094ba0b1b3d4401a0030e0": {
      "model_module": "bqplot",
      "model_module_version": "^0.5.34",
      "model_name": "LinearScaleModel",
      "state": {
       "allow_padding": false,
       "max": 1,
       "min": 0,
       "stabilized": false
      }
     },
     "99e9b93bd0654c77b7e0f8fc9e7be162": {
      "model_module": "@jupyter-widgets/controls",
      "model_module_version": "2.0.0",
      "model_name": "LabelStyleModel",
      "state": {
       "description_width": "",
       "font_family": null,
       "font_size": null,
       "font_style": null,
       "font_variant": null,
       "font_weight": null,
       "text_color": null,
       "text_decoration": null
      }
     },
     "9be20369edaa4131adcca31e0135d9c8": {
      "model_module": "@jupyter-widgets/controls",
      "model_module_version": "2.0.0",
      "model_name": "FloatSliderModel",
      "state": {
       "behavior": "drag-tap",
       "continuous_update": false,
       "layout": "IPY_MODEL_76f440e2fcf541d3a593503a4f8a802c",
       "step": 0.5,
       "style": "IPY_MODEL_d73c2277784f4924b9c910e647b23846",
       "value": 35
      }
     },
     "ab5ee597a4604406ab0688e2777106a6": {
      "model_module": "@jupyter-widgets/base",
      "model_module_version": "2.0.0",
      "model_name": "LayoutModel",
      "state": {
       "height": "33%",
       "width": "56%"
      }
     },
     "abc7fcbbc6564325bcb8b9ecaae84200": {
      "model_module": "@jupyter-widgets/controls",
      "model_module_version": "2.0.0",
      "model_name": "TextStyleModel",
      "state": {
       "description_width": "",
       "font_size": null,
       "text_color": null
      }
     },
     "af0faaa3645844b9a310f246d2f2408a": {
      "model_module": "@jupyter-widgets/controls",
      "model_module_version": "2.0.0",
      "model_name": "FloatSliderModel",
      "state": {
       "behavior": "drag-tap",
       "continuous_update": false,
       "layout": "IPY_MODEL_f17844c6872e4b84babb7fd000609a5e",
       "step": 0.5,
       "style": "IPY_MODEL_1f868dc0f81a4da2a373acdb2dd8c8e1",
       "value": 2
      }
     },
     "b311b51b62ad4671bf19a021ba879b5c": {
      "model_module": "@jupyter-widgets/controls",
      "model_module_version": "2.0.0",
      "model_name": "SliderStyleModel",
      "state": {
       "description_width": ""
      }
     },
     "b50906cd5c3a45ae87949de1f0f0497e": {
      "model_module": "@jupyter-widgets/base",
      "model_module_version": "2.0.0",
      "model_name": "LayoutModel",
      "state": {
       "width": "100%"
      }
     },
     "b590891e25e64ce1a351cc1b78bf9adb": {
      "model_module": "bqplot",
      "model_module_version": "^0.5.34",
      "model_name": "AxisModel",
      "state": {
       "label": "ΔT (K)",
       "num_ticks": 7,
       "orientation": "vertical",
       "scale": "IPY_MODEL_24af71f43edc4cba81395de377a5b0ec",
       "side": "right",
       "tick_format": "0.1f",
       "tick_values": null
      }
     },
     "b59c070f0d9a4c63b005dbfb80700c69": {
      "model_module": "@jupyter-widgets/controls",
      "model_module_version": "2.0.0",
      "model_name": "AccordionModel",
      "state": {
       "children": [
        "IPY_MODEL_4fc73a1059614b0fb65aab2adc37f586",
        "IPY_MODEL_c2681f8224d5461b8b4d0ab852c5fbc0",
        "IPY_MODEL_d69cf4c9f73e42b48405262717ab526b"
       ],
       "layout": "IPY_MODEL_ca3ae8e951b54702a35450c3dee93808",
       "titles": [
        "Target Temperature",
        "Heating rate",
        "Hold Time"
       ]
      }
     },
     "ba5ab7c90a344e86b0080aa229a6406c": {
      "model_module": "@jupyter-widgets/controls",
      "model_module_version": "2.0.0",
      "model_name": "ButtonStyleModel",
      "state": {
       "font_family": null,
       "font_size": null,
       "font_style": null,
       "font_variant": null,
       "font_weight": null,
       "text_color": null,
       "text_decoration": null
      }
     },
     "bb5cb1b30ae34c08926a65474ee51652": {
      "model_module": "@jupyter-widgets/base",
      "model_module_version": "2.0.0",
      "model_name": "LayoutModel",
      "state": {
       "height": "29.15%",
       "margin": "0 0 0 0",
       "width": "87.5%"
      }
     },
     "c0b6a3d5bd384d878f27f2a1813e831e": {
      "model_module": "@jupyter-widgets/base",
      "model_module_version": "2.0.0",
      "model_name": "LayoutModel",
      "state": {
       "width": "62.5%"
      }
     },
     "c0f9d3c2237741a0b02b6a770608504b": {
      "model_module": "@jupyter-widgets/controls",
      "model_module_version": "2.0.0",
      "model_name": "LabelStyleModel",
      "state": {
       "description_width": "",
       "font_family": null,
       "font_size": null,
       "font_style": null,
       "font_variant": null,
       "font_weight": null,
       "text_color": null,
       "text_decoration": null
      }
     },
     "c159e4e8f0db4d41be25e6eac8e2a6ea": {
      "model_module": "@jupyter-widgets/base",
      "model_module_version": "2.0.0",
      "model_name": "LayoutModel",
      "state": {
       "width": "100%"
      }
     },
     "c2496d7f91c24468a26a7dec0c2c7fef": {
      "model_module": "@jupyter-widgets/base",
      "model_module_version": "2.0.0",
      "model_name": "LayoutModel",
      "state": {
       "width": "100%"
      }
     },
     "c2681f8224d5461b8b4d0ab852c5fbc0": {
      "model_module": "@jupyter-widgets/controls",
      "model_module_version": "2.0.0",
      "model_name": "IntSliderModel",
      "state": {
       "behavior": "drag-tap",
       "continuous_update": false,
       "layout": "IPY_MODEL_90d91207fd2e4ec1bd663b1b65ef4062",
       "max": 30,
       "style": "IPY_MODEL_06be7604849649e69c8e108125a87943"
      }
     },
     "c5909aff306b4ad688dd266ca6dd2a47": {
      "model_module": "@jupyter-widgets/base",
      "model_module_version": "2.0.0",
      "model_name": "LayoutModel",
      "state": {
       "height": "75%",
       "margin": "0 0 0 0",
       "width": "90.5%"
      }
     },
     "ca3ae8e951b54702a35450c3dee93808": {
      "model_module": "@jupyter-widgets/base",
      "model_module_version": "2.0.0",
      "model_name": "LayoutModel",
      "state": {
       "width": "100%"
      }
     },
     "cdba116403434b3386e51db91c198c55": {
      "model_module": "@jupyter-widgets/controls",
      "model_module_version": "2.0.0",
      "model_name": "ButtonStyleModel",
      "state": {
       "font_family": null,
       "font_size": null,
       "font_style": null,
       "font_variant": null,
       "font_weight": null,
       "text_color": null,
       "text_decoration": null
      }
     },
     "d1502b6ad1cd424fb838c65919040cf5": {
      "model_module": "@jupyter-widgets/base",
      "model_module_version": "2.0.0",
      "model_name": "LayoutModel",
      "state": {
       "height": "100%",
       "margin": "0 0 0 0",
       "width": "100%"
      }
     },
     "d2cd1f7d56c444d1999f97582565e182": {
      "model_module": "@jupyter-widgets/controls",
      "model_module_version": "2.0.0",
      "model_name": "IntSliderModel",
      "state": {
       "behavior": "drag-tap",
       "continuous_update": false,
       "layout": "IPY_MODEL_c159e4e8f0db4d41be25e6eac8e2a6ea",
       "max": 200,
       "style": "IPY_MODEL_b311b51b62ad4671bf19a021ba879b5c",
       "value": 23
      }
     },
     "d2fb6fbd40d64f19bac1ca3c5763c1f7": {
      "model_module": "@jupyter-widgets/base",
      "model_module_version": "2.0.0",
      "model_name": "LayoutModel",
      "state": {
       "height": "21%",
       "margin": "0 0 0 0",
       "width": "90.5%"
      }
     },
     "d69cf4c9f73e42b48405262717ab526b": {
      "model_module": "@jupyter-widgets/controls",
      "model_module_version": "2.0.0",
      "model_name": "IntSliderModel",
      "state": {
       "behavior": "drag-tap",
       "continuous_update": false,
       "layout": "IPY_MODEL_c2496d7f91c24468a26a7dec0c2c7fef",
       "max": 180,
       "style": "IPY_MODEL_432f5c7095c74067ba7b5734f7ba16af"
      }
     },
     "d73c2277784f4924b9c910e647b23846": {
      "model_module": "@jupyter-widgets/controls",
      "model_module_version": "2.0.0",
      "model_name": "SliderStyleModel",
      "state": {
       "description_width": ""
      }
     },
     "d7f2d2b64e0b49bd98fc16e9c53e4b80": {
      "model_module": "@jupyter-widgets/controls",
      "model_module_version": "2.0.0",
      "model_name": "IntSliderModel",
      "state": {
       "behavior": "drag-tap",
       "continuous_update": false,
       "layout": "IPY_MODEL_2b930f4a19c040cb99aae9aac80e0340",
       "max": 180,
       "style": "IPY_MODEL_1ddd8c65c5254178aa6b2ad094d3b590"
      }
     },
     "dab602680fbe41209f07d7cb5da224ac": {
      "model_module": "@jupyter-widgets/base",
      "model_module_version": "2.0.0",
      "model_name": "LayoutModel",
      "state": {}
     },
     "ddad1a04d8dc4b7d8aad10242be0952d": {
      "model_module": "@jupyter-widgets/base",
      "model_module_version": "2.0.0",
      "model_name": "LayoutModel",
      "state": {}
     },
     "def0aa3dd36b452a87d35ba527a7410c": {
      "model_module": "@jupyter-widgets/controls",
      "model_module_version": "2.0.0",
      "model_name": "ButtonModel",
      "state": {
       "button_style": "success",
       "description": "Eject disk",
       "icon": "eject",
       "layout": "IPY_MODEL_8d44b8cb9418401bb8eec5c6f408d111",
       "style": "IPY_MODEL_ba5ab7c90a344e86b0080aa229a6406c",
       "tooltip": "Eject mounted storage drive"
      }
     },
     "e8dce3b27d414c9fa33db0674881f0b2": {
      "model_module": "@jupyter-widgets/controls",
      "model_module_version": "2.0.0",
      "model_name": "VBoxModel",
      "state": {
       "children": [
        "IPY_MODEL_45fd9710de844be2ac576f37ca5579b1",
        "IPY_MODEL_1e0b013d89d64c21879e64c018d61738",
        "IPY_MODEL_5dfe548f623b40cd97bd4158155d33dc"
       ],
       "layout": "IPY_MODEL_3b3f948c861842d9a8da23d14cbfff97"
      }
     },
     "ea17c850c8114c9b9ff7211ad21d554e": {
      "buffers": [
       {
        "data": "AAAAAAAAAAA=",
        "encoding": "base64",
        "path": [
         "x",
         "value"
        ]
       },
       {
        "data": "ZmZmZmamM0A=",
        "encoding": "base64",
        "path": [
         "y",
         "value"
        ]
       }
      ],
      "model_module": "bqplot",
      "model_module_version": "^0.5.34",
      "model_name": "LinesModel",
      "state": {
       "colors": [
        "#0000ff"
       ],
       "display_legend": true,
       "fill_colors": [],
       "labels": [
        "Sample"
       ],
       "scales": {
        "x": "IPY_MODEL_3edf36b9b63e4d9c83d86ea1b4a4b1b5",
        "y": "IPY_MODEL_63b01db0de33467cb866a226d2c32ed2"
       },
       "x": {
        "dtype": "float64",
        "shape": [
         1
        ],
        "type": null
       },
       "y": {
        "dtype": "float64",
        "shape": [
         1
        ],
        "type": null
       }
      }
     },
     "ebb098e3612a4b13811dc695296bf9b3": {
      "model_module": "@jupyter-widgets/controls",
      "model_module_version": "2.0.0",
      "model_name": "LabelModel",
      "state": {
       "layout": "IPY_MODEL_5ade4305673e4550ae9c11f46b55d8d6",
       "style": "IPY_MODEL_1275537111774a38aebf00dbb9316ab5",
       "value": "Filename:"
      }
     },
     "ebd654f0327b4901a6125f8dad6cf209": {
      "model_module": "@jupyter-widgets/base",
      "model_module_version": "2.0.0",
      "model_name": "LayoutModel",
      "state": {
       "width": "100%"
      }
     },
     "ee34adf470404ecfa736c1f968e899fb": {
      "model_module": "@jupyter-widgets/controls",
      "model_module_version": "2.0.0",
      "model_name": "LabelStyleModel",
      "state": {
       "description_width": "",
       "font_family": null,
       "font_size": null,
       "font_style": null,
       "font_variant": null,
       "font_weight": null,
       "text_color": null,
       "text_decoration": null
      }
     },
     "eeb3855b770a499c8d42612c3210a937": {
      "model_module": "@jupyter-widgets/controls",
      "model_module_version": "2.0.0",
      "model_name": "TextModel",
      "state": {
       "layout": "IPY_MODEL_76ca05a40d794230aef7eb7bb309cfde",
       "style": "IPY_MODEL_abc7fcbbc6564325bcb8b9ecaae84200",
       "value": "DATA-2023-03-02-11-45-48.csv"
      }
     },
     "ef68abb89fbd46cb8b62a76c0923dc28": {
      "model_module": "@jupyter-widgets/base",
      "model_module_version": "2.0.0",
      "model_name": "LayoutModel",
      "state": {
       "height": "10%",
       "width": "87.5%"
      }
     },
     "f17844c6872e4b84babb7fd000609a5e": {
      "model_module": "@jupyter-widgets/base",
      "model_module_version": "2.0.0",
      "model_name": "LayoutModel",
      "state": {
       "width": "62.5%"
      }
     },
     "f5d17b2ce0244f62a0d23ba6081d0aee": {
      "model_module": "@jupyter-widgets/controls",
      "model_module_version": "2.0.0",
      "model_name": "ButtonModel",
      "state": {
       "button_style": "success",
       "description": "Save data",
       "icon": "download",
       "layout": "IPY_MODEL_dab602680fbe41209f07d7cb5da224ac",
       "style": "IPY_MODEL_fdff1f2bcb66443eac86d250da19987e",
       "tooltip": "Save readings to mounted storage drive"
      }
     },
     "f66b7e4f9e944e29a6eb87faaeba4154": {
      "model_module": "@jupyter-widgets/base",
      "model_module_version": "2.0.0",
      "model_name": "LayoutModel",
      "state": {
       "height": "25em",
       "width": "100%"
      }
     },
     "fc0ae90859a44f73b810b2eb231c3981": {
      "model_module": "@jupyter-widgets/base",
      "model_module_version": "2.0.0",
      "model_name": "LayoutModel",
      "state": {
       "height": "15%",
       "width": "75%"
      }
     },
     "fdff1f2bcb66443eac86d250da19987e": {
      "model_module": "@jupyter-widgets/controls",
      "model_module_version": "2.0.0",
      "model_name": "ButtonStyleModel",
      "state": {
       "font_family": null,
       "font_size": null,
       "font_style": null,
       "font_variant": null,
       "font_weight": null,
       "text_color": null,
       "text_decoration": null
      }
     }
    },
    "version_major": 2,
    "version_minor": 0
   }
  }
 },
 "nbformat": 4,
 "nbformat_minor": 5
}
