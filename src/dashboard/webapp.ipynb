{
 "cells": [
  {
   "cell_type": "code",
   "execution_count": 7,
   "id": "9396747d-7672-4a61-8c1a-300b41a324c6",
   "metadata": {
    "autorun": true,
    "tags": []
   },
   "outputs": [
    {
     "data": {
      "text/html": [
       "<style>.jp-Cell { padding: 0 !important; }</style>"
      ],
      "text/plain": [
       "<IPython.core.display.HTML object>"
      ]
     },
     "metadata": {},
     "output_type": "display_data"
    },
    {
     "data": {
      "text/html": [
       "<style>.jp-Notebook { padding: 0 !important;}</style>"
      ],
      "text/plain": [
       "<IPython.core.display.HTML object>"
      ]
     },
     "metadata": {},
     "output_type": "display_data"
    },
    {
     "data": {
      "text/html": [
       "<style>.body { margin: 0 !important; }</style>"
      ],
      "text/plain": [
       "<IPython.core.display.HTML object>"
      ]
     },
     "metadata": {},
     "output_type": "display_data"
    },
    {
     "data": {
      "text/html": [
       "<style>.html { margin: 0 !important; }</style>"
      ],
      "text/plain": [
       "<IPython.core.display.HTML object>"
      ]
     },
     "metadata": {},
     "output_type": "display_data"
    },
    {
     "data": {
      "application/vnd.jupyter.widget-view+json": {
       "model_id": "87d35ab67ceb41a4843ed51da17c8612",
       "version_major": 2,
       "version_minor": 0
      },
      "text/plain": [
       "Tab(children=(VBox(children=(HBox(children=(Button(button_style='warning', description='Run', icon='play', lay…"
      ]
     },
     "metadata": {},
     "output_type": "display_data"
    },
    {
     "name": "stdout",
     "output_type": "stream",
     "text": [
      "Connected to server\n",
      "Entered main\n"
     ]
    }
   ],
   "source": [
    "%matplotlib ipympl\n",
    "%gui asyncio\n",
    "#%autoawait asyncio\n",
    "%run app.py"
   ]
  }
 ],
 "metadata": {
  "kernelspec": {
   "display_name": "Python 3 (ipykernel)",
   "language": "python",
   "name": "python3"
  },
  "language_info": {
   "codemirror_mode": {
    "name": "ipython",
    "version": 3
   },
   "file_extension": ".py",
   "mimetype": "text/x-python",
   "name": "python",
   "nbconvert_exporter": "python",
   "pygments_lexer": "ipython3",
   "version": "3.7.3"
  },
  "vscode": {
   "interpreter": {
    "hash": "916dbcbb3f70747c44a77c7bcd40155683ae19c65e1c03b4aa3499c5328201f1"
   }
  },
  "widgets": {
   "application/vnd.jupyter.widget-state+json": {
    "state": {
     "031d1a090d4840ee96d5c0b71b0b7eeb": {
      "model_module": "@jupyter-widgets/base",
      "model_module_version": "2.0.0",
      "model_name": "LayoutModel",
      "state": {}
     },
     "0404ef6740a849f2991df0f74092304a": {
      "model_module": "@jupyter-widgets/controls",
      "model_module_version": "2.0.0",
      "model_name": "ProgressStyleModel",
      "state": {
       "description_width": "initial"
      }
     },
     "052a876116734412afcc932aefef2a73": {
      "model_module": "@jupyter-widgets/controls",
      "model_module_version": "2.0.0",
      "model_name": "IntSliderModel",
      "state": {
       "behavior": "drag-tap",
       "continuous_update": false,
       "layout": "IPY_MODEL_26ba7d0d789548b1ba214faa91146bb1",
       "max": 200,
       "style": "IPY_MODEL_386a1e6287a24b3789be425bb08aea7e",
       "value": 23
      }
     },
     "05553f8042ee4c368ca8faf094038816": {
      "model_module": "@jupyter-widgets/base",
      "model_module_version": "2.0.0",
      "model_name": "LayoutModel",
      "state": {
       "width": "100%"
      }
     },
     "06fbd97df6844929b6adef1d4cd5f680": {
      "model_module": "@jupyter-widgets/base",
      "model_module_version": "2.0.0",
      "model_name": "LayoutModel",
      "state": {
       "height": "33%",
       "width": "72%"
      }
     },
     "098c3fe89f144fb49ea50e3f47d2ed53": {
      "model_module": "@jupyter-widgets/base",
      "model_module_version": "2.0.0",
      "model_name": "LayoutModel",
      "state": {
       "margin": "0 0 0 0",
       "padding": "0 0 0 0"
      }
     },
     "0eeb3cf3626c4d788392acb9b0cd3823": {
      "model_module": "bqplot",
      "model_module_version": "^0.5.34",
      "model_name": "LinearScaleModel",
      "state": {
       "allow_padding": false,
       "max": 1,
       "min": 0,
       "stabilized": false
      }
     },
     "0f26ca4dbb7541bcb37b1c8ba164d37c": {
      "model_module": "@jupyter-widgets/base",
      "model_module_version": "2.0.0",
      "model_name": "LayoutModel",
      "state": {
       "height": "33%",
       "width": "56%"
      }
     },
     "13cfd48303d3411f979a2faa02f952b3": {
      "buffers": [
       {
        "data": "AAAAAAAAAAA=",
        "encoding": "base64",
        "path": [
         "x",
         "value"
        ]
       },
       {
        "data": "AAAAAAAAAAA=",
        "encoding": "base64",
        "path": [
         "y",
         "value"
        ]
       }
      ],
      "model_module": "bqplot",
      "model_module_version": "^0.5.34",
      "model_name": "LinesModel",
      "state": {
       "colors": [
        "#46ff33"
       ],
       "fill_colors": [],
       "labels": [
        "C1"
       ],
       "line_style": "dashed",
       "scales": {
        "x": "IPY_MODEL_78d2dd40b1a244baabf14ec4f56fc50c",
        "y": "IPY_MODEL_efc799ebc3794480b5a170040bda904d"
       },
       "x": {
        "dtype": "float64",
        "shape": [
         1
        ],
        "type": null
       },
       "y": {
        "dtype": "float64",
        "shape": [
         1
        ],
        "type": null
       }
      }
     },
     "158015a4863143c987685c15ad8dd070": {
      "buffers": [
       {
        "data": "AAAAAAAAAAA=",
        "encoding": "base64",
        "path": [
         "x",
         "value"
        ]
       },
       {
        "data": "cT0K16NwzT8=",
        "encoding": "base64",
        "path": [
         "y",
         "value"
        ]
       }
      ],
      "model_module": "bqplot",
      "model_module_version": "^0.5.34",
      "model_name": "LinesModel",
      "state": {
       "colors": [
        "#f7a500"
       ],
       "display_legend": true,
       "fill_colors": [],
       "labels": [
        "ΔT"
       ],
       "scales": {
        "x": "IPY_MODEL_78d2dd40b1a244baabf14ec4f56fc50c",
        "y": "IPY_MODEL_efc799ebc3794480b5a170040bda904d"
       },
       "x": {
        "dtype": "float64",
        "shape": [
         1
        ],
        "type": null
       },
       "y": {
        "dtype": "float64",
        "shape": [
         1
        ],
        "type": null
       }
      }
     },
     "16a1e7d97cc649e6b645c698dd33fc77": {
      "buffers": [
       {
        "data": "AAAAAAAAAAA=",
        "encoding": "base64",
        "path": [
         "x",
         "value"
        ]
       },
       {
        "data": "AAAAAADAM0A=",
        "encoding": "base64",
        "path": [
         "y",
         "value"
        ]
       }
      ],
      "model_module": "bqplot",
      "model_module_version": "^0.5.34",
      "model_name": "LinesModel",
      "state": {
       "colors": [
        "#0000ff"
       ],
       "display_legend": true,
       "fill_colors": [],
       "labels": [
        "Sample"
       ],
       "scales": {
        "x": "IPY_MODEL_78d2dd40b1a244baabf14ec4f56fc50c",
        "y": "IPY_MODEL_1ad7b70b67f6485b8f86698e0a8ac9ad"
       },
       "x": {
        "dtype": "float64",
        "shape": [
         1
        ],
        "type": null
       },
       "y": {
        "dtype": "float64",
        "shape": [
         1
        ],
        "type": null
       }
      }
     },
     "17398ae0e6df4479b183e2647046e126": {
      "model_module": "@jupyter-widgets/controls",
      "model_module_version": "2.0.0",
      "model_name": "LabelStyleModel",
      "state": {
       "description_width": "",
       "font_family": null,
       "font_size": null,
       "font_style": null,
       "font_variant": null,
       "font_weight": null,
       "text_color": null,
       "text_decoration": null
      }
     },
     "1ad7b70b67f6485b8f86698e0a8ac9ad": {
      "model_module": "bqplot",
      "model_module_version": "^0.5.34",
      "model_name": "LinearScaleModel",
      "state": {
       "max": 20.8,
       "min": 0,
       "stabilized": false
      }
     },
     "1bd0e30e8f0e4d0585d0d5659a097168": {
      "model_module": "@jupyter-widgets/controls",
      "model_module_version": "2.0.0",
      "model_name": "HBoxModel",
      "state": {
       "children": [
        "IPY_MODEL_6700ac0b82424b7ea0e2fa5e741044b1",
        "IPY_MODEL_807334d4af0d4ee795fe04e9c584d035",
        "IPY_MODEL_68031c01b2c54c7b82ea07c3d7813e69"
       ],
       "layout": "IPY_MODEL_350321aa83704a7094fea0e883c42f91"
      }
     },
     "1f749351e9f1434b85360c4ee042ccfc": {
      "model_module": "@jupyter-widgets/controls",
      "model_module_version": "2.0.0",
      "model_name": "FloatSliderModel",
      "state": {
       "behavior": "drag-tap",
       "continuous_update": false,
       "layout": "IPY_MODEL_70330ef86d37457bb66dd9690d44b44c",
       "max": 5,
       "step": 0.05,
       "style": "IPY_MODEL_56fdd46fa4e048159d86f3ec76884406",
       "value": 0.25
      }
     },
     "207b10e647844307a7a2281799d21eea": {
      "model_module": "@jupyter-widgets/base",
      "model_module_version": "2.0.0",
      "model_name": "LayoutModel",
      "state": {
       "width": "62.5%"
      }
     },
     "26ba7d0d789548b1ba214faa91146bb1": {
      "model_module": "@jupyter-widgets/base",
      "model_module_version": "2.0.0",
      "model_name": "LayoutModel",
      "state": {
       "width": "100%"
      }
     },
     "2a07790fc5584503abb6c7483d5ae3ea": {
      "model_module": "@jupyter-widgets/base",
      "model_module_version": "2.0.0",
      "model_name": "LayoutModel",
      "state": {}
     },
     "329ddbdc8c4c4feba3125ffe2a9ae310": {
      "model_module": "@jupyter-widgets/base",
      "model_module_version": "2.0.0",
      "model_name": "LayoutModel",
      "state": {
       "height": "21%",
       "margin": "0 0 0 0",
       "width": "90.5%"
      }
     },
     "3348125866e14195bba9cc2becbf4fe5": {
      "model_module": "@jupyter-widgets/controls",
      "model_module_version": "2.0.0",
      "model_name": "SliderStyleModel",
      "state": {
       "description_width": ""
      }
     },
     "34221f7b8b7840739ef987122ca3d01e": {
      "model_module": "@jupyter-widgets/base",
      "model_module_version": "2.0.0",
      "model_name": "LayoutModel",
      "state": {
       "width": "100%"
      }
     },
     "34223b677e754bd593a3c4f51dde5b55": {
      "model_module": "@jupyter-widgets/controls",
      "model_module_version": "2.0.0",
      "model_name": "IntSliderModel",
      "state": {
       "behavior": "drag-tap",
       "continuous_update": false,
       "layout": "IPY_MODEL_9b8d0a33312847dabc23f38761d4bdaa",
       "max": 180,
       "style": "IPY_MODEL_3348125866e14195bba9cc2becbf4fe5"
      }
     },
     "350321aa83704a7094fea0e883c42f91": {
      "model_module": "@jupyter-widgets/base",
      "model_module_version": "2.0.0",
      "model_name": "LayoutModel",
      "state": {
       "height": "10%",
       "width": "87.5%"
      }
     },
     "37735d5055b943beabd929f61c39d3e4": {
      "model_module": "bqplot",
      "model_module_version": "^0.5.34",
      "model_name": "LinearScaleModel",
      "state": {
       "allow_padding": false,
       "max": 1,
       "min": 0,
       "stabilized": false
      }
     },
     "37e36401578143c3a7d94d6f781d197a": {
      "model_module": "@jupyter-widgets/controls",
      "model_module_version": "2.0.0",
      "model_name": "LabelModel",
      "state": {
       "layout": "IPY_MODEL_dec2c0d663aa4e129d746d82e910eaa5",
       "style": "IPY_MODEL_fa6ae059283643e8b02a276fdbb524e1",
       "value": "Filename:"
      }
     },
     "386a1e6287a24b3789be425bb08aea7e": {
      "model_module": "@jupyter-widgets/controls",
      "model_module_version": "2.0.0",
      "model_name": "SliderStyleModel",
      "state": {
       "description_width": ""
      }
     },
     "3b4d679df14b4f37b36b3351bf08db2d": {
      "model_module": "@jupyter-widgets/controls",
      "model_module_version": "2.0.0",
      "model_name": "VBoxModel",
      "state": {
       "children": [
        "IPY_MODEL_ccfc87cac47c4596bb8eb64c7a93ae04",
        "IPY_MODEL_58aea782e86845a188ce271a88669dda"
       ],
       "layout": "IPY_MODEL_a6ad2a5e121041c8b068fbb09050ea80"
      }
     },
     "3c58e737830f415c827f0138e7b80764": {
      "model_module": "@jupyter-widgets/controls",
      "model_module_version": "2.0.0",
      "model_name": "ButtonStyleModel",
      "state": {
       "font_family": null,
       "font_size": null,
       "font_style": null,
       "font_variant": null,
       "font_weight": null,
       "text_color": null,
       "text_decoration": null
      }
     },
     "48eabf39b50b45169d46dd42708632dd": {
      "model_module": "@jupyter-widgets/base",
      "model_module_version": "2.0.0",
      "model_name": "LayoutModel",
      "state": {
       "width": "87.5%"
      }
     },
     "493f1cfec5c74ffba115d80e0c224fd1": {
      "model_module": "@jupyter-widgets/controls",
      "model_module_version": "2.0.0",
      "model_name": "VBoxModel",
      "state": {
       "children": [
        "IPY_MODEL_1bd0e30e8f0e4d0585d0d5659a097168",
        "IPY_MODEL_4ceba570702d4721a27aa670a70d4e64",
        "IPY_MODEL_7486744e711b44de80b76d045475f8e4"
       ],
       "layout": "IPY_MODEL_83ee37bd6b14494e86c59383392277ac"
      }
     },
     "4ceba570702d4721a27aa670a70d4e64": {
      "model_module": "bqplot",
      "model_module_version": "^0.5.34",
      "model_name": "FigureModel",
      "state": {
       "axes": [
        "IPY_MODEL_69da4c595b854146b5ce6b731f7d0dc2",
        "IPY_MODEL_7850e3b5fa714998aa7c3e8d52372f4a",
        "IPY_MODEL_cf6ff38162694f04be9f6c06e5d432ed"
       ],
       "fig_margin": {
        "bottom": 50,
        "left": 45,
        "right": 70,
        "top": 25
       },
       "layout": "IPY_MODEL_4da1bfe73556450c8e59d2defccd80f8",
       "marks": [
        "IPY_MODEL_725abb40643249c38361a48eca9d45f2",
        "IPY_MODEL_16a1e7d97cc649e6b645c698dd33fc77",
        "IPY_MODEL_583ef53e46cb40a68af3a14474a6699d",
        "IPY_MODEL_ede261cab9f349f99786b2722284b968",
        "IPY_MODEL_13cfd48303d3411f979a2faa02f952b3",
        "IPY_MODEL_158015a4863143c987685c15ad8dd070"
       ],
       "scale_x": "IPY_MODEL_0eeb3cf3626c4d788392acb9b0cd3823",
       "scale_y": "IPY_MODEL_37735d5055b943beabd929f61c39d3e4"
      }
     },
     "4da1bfe73556450c8e59d2defccd80f8": {
      "model_module": "@jupyter-widgets/base",
      "model_module_version": "2.0.0",
      "model_name": "LayoutModel",
      "state": {
       "height": "25em",
       "width": "100%"
      }
     },
     "4da44a039f2140d591f07b3f79d56ce3": {
      "model_module": "@jupyter-widgets/base",
      "model_module_version": "2.0.0",
      "model_name": "LayoutModel",
      "state": {
       "height": "29.15%",
       "margin": "0 0 0 0",
       "width": "87.5%"
      }
     },
     "50973f4cf9c14972bb6b46e23f5f033e": {
      "model_module": "@jupyter-widgets/controls",
      "model_module_version": "2.0.0",
      "model_name": "AccordionModel",
      "state": {
       "children": [
        "IPY_MODEL_9784f4c61cb543e68d8045392f8ec4ad",
        "IPY_MODEL_fbf5da89a3c841eba728d8226dd567e4",
        "IPY_MODEL_af5acb4cecdd47d4a564a837cf7617a3"
       ],
       "layout": "IPY_MODEL_ae3ec2a5ff614439ab6947caa9319646",
       "titles": [
        "Target Temperature",
        "Heating rate",
        "Hold Time"
       ]
      }
     },
     "548d27af550f45c891104df4cb761e4e": {
      "model_module": "@jupyter-widgets/controls",
      "model_module_version": "2.0.0",
      "model_name": "TabModel",
      "state": {
       "children": [
        "IPY_MODEL_493f1cfec5c74ffba115d80e0c224fd1",
        "IPY_MODEL_dcc9e2fb65de4f5e98e4b5c50bfedf44",
        "IPY_MODEL_d3bedc3c66a840cf85c966544976c613",
        "IPY_MODEL_3b4d679df14b4f37b36b3351bf08db2d"
       ],
       "layout": "IPY_MODEL_9c849d7c985342818bcdbc7d44f2396c",
       "selected_index": 0,
       "titles": [
        "Main",
        "Programme",
        "Settings",
        "Save"
       ]
      }
     },
     "54f41a3263f7499292d9bc9a071228fc": {
      "model_module": "@jupyter-widgets/controls",
      "model_module_version": "2.0.0",
      "model_name": "LabelModel",
      "state": {
       "layout": "IPY_MODEL_c424ddc0932e4e1e95392f2a164bcc6c",
       "style": "IPY_MODEL_fb4960df18834dafab8aeb2de477ae1e",
       "value": "Current temp: 20.8 ℃"
      }
     },
     "56fdd46fa4e048159d86f3ec76884406": {
      "model_module": "@jupyter-widgets/controls",
      "model_module_version": "2.0.0",
      "model_name": "SliderStyleModel",
      "state": {
       "description_width": ""
      }
     },
     "583ef53e46cb40a68af3a14474a6699d": {
      "buffers": [
       {
        "data": "AAAAAAAAAAA=",
        "encoding": "base64",
        "path": [
         "x",
         "value"
        ]
       },
       {
        "data": "KVyPwvWoNkA=",
        "encoding": "base64",
        "path": [
         "y",
         "value"
        ]
       }
      ],
      "model_module": "bqplot",
      "model_module_version": "^0.5.34",
      "model_name": "LinesModel",
      "state": {
       "colors": [
        "#3c9dd0"
       ],
       "display_legend": true,
       "fill_colors": [],
       "labels": [
        "Reference"
       ],
       "scales": {
        "x": "IPY_MODEL_78d2dd40b1a244baabf14ec4f56fc50c",
        "y": "IPY_MODEL_1ad7b70b67f6485b8f86698e0a8ac9ad"
       },
       "x": {
        "dtype": "float64",
        "shape": [
         1
        ],
        "type": null
       },
       "y": {
        "dtype": "float64",
        "shape": [
         1
        ],
        "type": null
       }
      }
     },
     "58aea782e86845a188ce271a88669dda": {
      "model_module": "@jupyter-widgets/controls",
      "model_module_version": "2.0.0",
      "model_name": "HBoxModel",
      "state": {
       "children": [
        "IPY_MODEL_5fd1b9ccd81f450192b6af3a059aa0c6",
        "IPY_MODEL_b032c7524476463fb752220fbaa42dda"
       ],
       "layout": "IPY_MODEL_329ddbdc8c4c4feba3125ffe2a9ae310"
      }
     },
     "5fd1b9ccd81f450192b6af3a059aa0c6": {
      "model_module": "@jupyter-widgets/controls",
      "model_module_version": "2.0.0",
      "model_name": "ButtonModel",
      "state": {
       "button_style": "success",
       "description": "Save data",
       "icon": "download",
       "layout": "IPY_MODEL_2a07790fc5584503abb6c7483d5ae3ea",
       "style": "IPY_MODEL_f6dcc8dc739e439284faaa3dd85ee323",
       "tooltip": "Save readings to mounted storage drive"
      }
     },
     "5feb65d9f9d1494fb476e8bedb84182b": {
      "model_module": "@jupyter-widgets/controls",
      "model_module_version": "2.0.0",
      "model_name": "ButtonStyleModel",
      "state": {
       "font_family": null,
       "font_size": null,
       "font_style": null,
       "font_variant": null,
       "font_weight": null,
       "text_color": null,
       "text_decoration": null
      }
     },
     "6127c14eee9a4c3e8848c930082f3e26": {
      "model_module": "@jupyter-widgets/base",
      "model_module_version": "2.0.0",
      "model_name": "LayoutModel",
      "state": {
       "margin": "0 0 0 0",
       "padding": "0 0 0 0"
      }
     },
     "6700ac0b82424b7ea0e2fa5e741044b1": {
      "model_module": "@jupyter-widgets/controls",
      "model_module_version": "2.0.0",
      "model_name": "ButtonModel",
      "state": {
       "button_style": "warning",
       "description": "Run",
       "icon": "play",
       "layout": "IPY_MODEL_8c528de3268a4451853761669a2f17ea",
       "style": "IPY_MODEL_3c58e737830f415c827f0138e7b80764",
       "tooltip": null
      }
     },
     "6771c27caf804fd78b70557d9eb6b490": {
      "model_module": "@jupyter-widgets/controls",
      "model_module_version": "2.0.0",
      "model_name": "FloatSliderModel",
      "state": {
       "behavior": "drag-tap",
       "continuous_update": false,
       "layout": "IPY_MODEL_207b10e647844307a7a2281799d21eea",
       "step": 0.5,
       "style": "IPY_MODEL_f87ea334c6f04628b949d9fc5e7f8e30",
       "value": 35
      }
     },
     "68031c01b2c54c7b82ea07c3d7813e69": {
      "model_module": "@jupyter-widgets/controls",
      "model_module_version": "2.0.0",
      "model_name": "ButtonModel",
      "state": {
       "button_style": "warning",
       "description": "Reset",
       "icon": "restart",
       "layout": "IPY_MODEL_85e5a270f6744e87844f5235db59686a",
       "style": "IPY_MODEL_852cb8218af3403b8d453a379f1ae355",
       "tooltip": null
      }
     },
     "69ccfa9373a54c2485d46a7c29025ddd": {
      "model_module": "@jupyter-widgets/controls",
      "model_module_version": "2.0.0",
      "model_name": "TextModel",
      "state": {
       "layout": "IPY_MODEL_48eabf39b50b45169d46dd42708632dd",
       "style": "IPY_MODEL_99edf20b1b574b37b5873a7385bcf427",
       "value": "DATA-2023-02-28-11-29-23.csv"
      }
     },
     "69da4c595b854146b5ce6b731f7d0dc2": {
      "model_module": "bqplot",
      "model_module_version": "^0.5.34",
      "model_name": "AxisModel",
      "state": {
       "label": "Time (s)",
       "num_ticks": 6,
       "scale": "IPY_MODEL_78d2dd40b1a244baabf14ec4f56fc50c",
       "side": "bottom",
       "tick_values": null
      }
     },
     "6db74556511749f1821d9f289bfa4f64": {
      "model_module": "@jupyter-widgets/controls",
      "model_module_version": "2.0.0",
      "model_name": "TabModel",
      "state": {
       "children": [
        "IPY_MODEL_493f1cfec5c74ffba115d80e0c224fd1",
        "IPY_MODEL_dcc9e2fb65de4f5e98e4b5c50bfedf44",
        "IPY_MODEL_d3bedc3c66a840cf85c966544976c613",
        "IPY_MODEL_3b4d679df14b4f37b36b3351bf08db2d"
       ],
       "layout": "IPY_MODEL_c887e49772e14a8eba84f8f3205ff48b",
       "selected_index": 0,
       "titles": [
        "Main",
        "Programme",
        "Settings",
        "Save"
       ]
      }
     },
     "6e029bee76af46e4aaa0c8db275ea797": {
      "model_module": "@jupyter-widgets/controls",
      "model_module_version": "2.0.0",
      "model_name": "SliderStyleModel",
      "state": {
       "description_width": ""
      }
     },
     "6eb39cd3c2144b45a91b4200ac320504": {
      "buffers": [
       {
        "data": "",
        "encoding": "base64",
        "path": [
         "x",
         "value"
        ]
       },
       {
        "data": "",
        "encoding": "base64",
        "path": [
         "y",
         "value"
        ]
       }
      ],
      "model_module": "bqplot",
      "model_module_version": "^0.5.34",
      "model_name": "LinesModel",
      "state": {
       "colors": [
        "#f7a500"
       ],
       "fill_colors": [],
       "opacities": [
        0.6
       ],
       "scales": {
        "x": "IPY_MODEL_78d2dd40b1a244baabf14ec4f56fc50c",
        "y": "IPY_MODEL_efc799ebc3794480b5a170040bda904d"
       },
       "x": {
        "dtype": "float64",
        "shape": [
         0
        ],
        "type": null
       },
       "y": {
        "dtype": "float64",
        "shape": [
         0
        ],
        "type": null
       }
      }
     },
     "70330ef86d37457bb66dd9690d44b44c": {
      "model_module": "@jupyter-widgets/base",
      "model_module_version": "2.0.0",
      "model_name": "LayoutModel",
      "state": {
       "width": "62.5%"
      }
     },
     "725abb40643249c38361a48eca9d45f2": {
      "buffers": [
       {
        "data": "AAAAAAAAAAA=",
        "encoding": "base64",
        "path": [
         "x",
         "value"
        ]
       },
       {
        "data": "zczMzMzMNEA=",
        "encoding": "base64",
        "path": [
         "y",
         "value"
        ]
       }
      ],
      "model_module": "bqplot",
      "model_module_version": "^0.5.34",
      "model_name": "LinesModel",
      "state": {
       "colors": [
        "#ff000f"
       ],
       "display_legend": true,
       "fill_colors": [],
       "labels": [
        "Measured"
       ],
       "scales": {
        "x": "IPY_MODEL_78d2dd40b1a244baabf14ec4f56fc50c",
        "y": "IPY_MODEL_1ad7b70b67f6485b8f86698e0a8ac9ad"
       },
       "x": {
        "dtype": "float64",
        "shape": [
         1
        ],
        "type": null
       },
       "y": {
        "dtype": "float64",
        "shape": [
         1
        ],
        "type": null
       }
      }
     },
     "7486744e711b44de80b76d045475f8e4": {
      "model_module": "@jupyter-widgets/controls",
      "model_module_version": "2.0.0",
      "model_name": "VBoxModel",
      "state": {
       "children": [
        "IPY_MODEL_ee6060e07e7a404999cfd1e4cee69452",
        "IPY_MODEL_54f41a3263f7499292d9bc9a071228fc",
        "IPY_MODEL_ae8c556230804c46973b1cdfc694cc4e"
       ],
       "layout": "IPY_MODEL_984281e2087a4d2da508c70ad0533f2c"
      }
     },
     "7850e3b5fa714998aa7c3e8d52372f4a": {
      "model_module": "bqplot",
      "model_module_version": "^0.5.34",
      "model_name": "AxisModel",
      "state": {
       "label": "Temperature (C)",
       "num_ticks": 7,
       "orientation": "vertical",
       "scale": "IPY_MODEL_1ad7b70b67f6485b8f86698e0a8ac9ad",
       "side": "left",
       "tick_format": "0.0f",
       "tick_values": null
      }
     },
     "78d2dd40b1a244baabf14ec4f56fc50c": {
      "model_module": "bqplot",
      "model_module_version": "^0.5.34",
      "model_name": "LinearScaleModel",
      "state": {
       "max": 0,
       "min": 0,
       "stabilized": false
      }
     },
     "7b00a1be37ff4ab9b237174fc7c5770f": {
      "model_module": "@jupyter-widgets/controls",
      "model_module_version": "2.0.0",
      "model_name": "SliderStyleModel",
      "state": {
       "description_width": ""
      }
     },
     "7ff8de08c6d745c68c006d77415a971f": {
      "model_module": "@jupyter-widgets/controls",
      "model_module_version": "2.0.0",
      "model_name": "FloatSliderModel",
      "state": {
       "behavior": "drag-tap",
       "continuous_update": false,
       "layout": "IPY_MODEL_9b46a0f68d724873b526be0ccfc7dd57",
       "step": 0.5,
       "style": "IPY_MODEL_e2f3ea30dad94893848af7390c63adfe",
       "value": 3.5
      }
     },
     "807334d4af0d4ee795fe04e9c584d035": {
      "model_module": "@jupyter-widgets/controls",
      "model_module_version": "2.0.0",
      "model_name": "ButtonModel",
      "state": {
       "button_style": "warning",
       "description": "Stop",
       "icon": "stop",
       "layout": "IPY_MODEL_ef85fa80db52456dae025cf909dffa0e",
       "style": "IPY_MODEL_eac60160e8f54e1ebd7720d068bda516",
       "tooltip": null
      }
     },
     "83ee37bd6b14494e86c59383392277ac": {
      "model_module": "@jupyter-widgets/base",
      "model_module_version": "2.0.0",
      "model_name": "LayoutModel",
      "state": {
       "height": "100%",
       "margin": "0 0 0 0",
       "width": "100%"
      }
     },
     "852cb8218af3403b8d453a379f1ae355": {
      "model_module": "@jupyter-widgets/controls",
      "model_module_version": "2.0.0",
      "model_name": "ButtonStyleModel",
      "state": {
       "font_family": null,
       "font_size": null,
       "font_style": null,
       "font_variant": null,
       "font_weight": null,
       "text_color": null,
       "text_decoration": null
      }
     },
     "85e5a270f6744e87844f5235db59686a": {
      "model_module": "@jupyter-widgets/base",
      "model_module_version": "2.0.0",
      "model_name": "LayoutModel",
      "state": {
       "height": "100%",
       "width": "28%"
      }
     },
     "873f655be3eb4441a3e0b3524a3b2884": {
      "model_module": "@jupyter-widgets/controls",
      "model_module_version": "2.0.0",
      "model_name": "SliderStyleModel",
      "state": {
       "description_width": ""
      }
     },
     "87d35ab67ceb41a4843ed51da17c8612": {
      "model_module": "@jupyter-widgets/controls",
      "model_module_version": "2.0.0",
      "model_name": "TabModel",
      "state": {
       "children": [
        "IPY_MODEL_493f1cfec5c74ffba115d80e0c224fd1",
        "IPY_MODEL_dcc9e2fb65de4f5e98e4b5c50bfedf44",
        "IPY_MODEL_d3bedc3c66a840cf85c966544976c613",
        "IPY_MODEL_3b4d679df14b4f37b36b3351bf08db2d"
       ],
       "layout": "IPY_MODEL_de22676a83a641e39eab77859f06c464",
       "selected_index": 0,
       "titles": [
        "Main",
        "Programme",
        "Settings",
        "Save"
       ]
      }
     },
     "8c528de3268a4451853761669a2f17ea": {
      "model_module": "@jupyter-widgets/base",
      "model_module_version": "2.0.0",
      "model_name": "LayoutModel",
      "state": {
       "height": "100%",
       "width": "28%"
      }
     },
     "8ee83208d5aa4316b5afff246d6b1edb": {
      "model_module": "@jupyter-widgets/controls",
      "model_module_version": "2.0.0",
      "model_name": "FloatSliderModel",
      "state": {
       "behavior": "drag-tap",
       "continuous_update": false,
       "layout": "IPY_MODEL_d2dd582c871b4d849cdf0508d741fe34",
       "step": 0.5,
       "style": "IPY_MODEL_cdf01988b3fd4e41a63941be4e4bd95d",
       "value": 2
      }
     },
     "9618de4017764ae988b210203d98f064": {
      "model_module": "@jupyter-widgets/base",
      "model_module_version": "2.0.0",
      "model_name": "LayoutModel",
      "state": {
       "width": "100%"
      }
     },
     "9784f4c61cb543e68d8045392f8ec4ad": {
      "model_module": "@jupyter-widgets/controls",
      "model_module_version": "2.0.0",
      "model_name": "IntSliderModel",
      "state": {
       "behavior": "drag-tap",
       "continuous_update": false,
       "layout": "IPY_MODEL_9618de4017764ae988b210203d98f064",
       "max": 200,
       "style": "IPY_MODEL_c2108884914e4e5a804bafd6ef9f62de",
       "value": 23
      }
     },
     "984281e2087a4d2da508c70ad0533f2c": {
      "model_module": "@jupyter-widgets/base",
      "model_module_version": "2.0.0",
      "model_name": "LayoutModel",
      "state": {
       "height": "15%",
       "width": "75%"
      }
     },
     "99edf20b1b574b37b5873a7385bcf427": {
      "model_module": "@jupyter-widgets/controls",
      "model_module_version": "2.0.0",
      "model_name": "TextStyleModel",
      "state": {
       "description_width": "",
       "font_size": null,
       "text_color": null
      }
     },
     "9b46a0f68d724873b526be0ccfc7dd57": {
      "model_module": "@jupyter-widgets/base",
      "model_module_version": "2.0.0",
      "model_name": "LayoutModel",
      "state": {
       "width": "62.5%"
      }
     },
     "9b8d0a33312847dabc23f38761d4bdaa": {
      "model_module": "@jupyter-widgets/base",
      "model_module_version": "2.0.0",
      "model_name": "LayoutModel",
      "state": {
       "width": "100%"
      }
     },
     "9c849d7c985342818bcdbc7d44f2396c": {
      "model_module": "@jupyter-widgets/base",
      "model_module_version": "2.0.0",
      "model_name": "LayoutModel",
      "state": {
       "height": "100%",
       "margin": "0 0 0 0",
       "width": "100%"
      }
     },
     "a6ad2a5e121041c8b068fbb09050ea80": {
      "model_module": "@jupyter-widgets/base",
      "model_module_version": "2.0.0",
      "model_name": "LayoutModel",
      "state": {
       "height": "100%",
       "margin": "0 0 0 0",
       "width": "94%"
      }
     },
     "aa1039d4aa99485190c1cbb8faca4a7e": {
      "model_module": "@jupyter-widgets/controls",
      "model_module_version": "2.0.0",
      "model_name": "AccordionModel",
      "state": {
       "children": [
        "IPY_MODEL_052a876116734412afcc932aefef2a73",
        "IPY_MODEL_dc5fc00d2680486b8bf9ef2af5908e47",
        "IPY_MODEL_34223b677e754bd593a3c4f51dde5b55"
       ],
       "layout": "IPY_MODEL_cc29e1e2bb134e668515f3fc992e26b5",
       "titles": [
        "Target Temperature",
        "Heating rate",
        "Hold Time"
       ]
      }
     },
     "aa10de69df3a4a918d621157251533f7": {
      "model_module": "@jupyter-widgets/base",
      "model_module_version": "2.0.0",
      "model_name": "LayoutModel",
      "state": {
       "width": "100%"
      }
     },
     "ab422b1c9f324374acb12a4ee7f2005e": {
      "model_module": "@jupyter-widgets/base",
      "model_module_version": "2.0.0",
      "model_name": "LayoutModel",
      "state": {
       "height": "75%",
       "margin": "0 0 0 0",
       "width": "90.5%"
      }
     },
     "ae3ec2a5ff614439ab6947caa9319646": {
      "model_module": "@jupyter-widgets/base",
      "model_module_version": "2.0.0",
      "model_name": "LayoutModel",
      "state": {
       "width": "100%"
      }
     },
     "ae8c556230804c46973b1cdfc694cc4e": {
      "model_module": "@jupyter-widgets/controls",
      "model_module_version": "2.0.0",
      "model_name": "LabelModel",
      "state": {
       "layout": "IPY_MODEL_06fbd97df6844929b6adef1d4cd5f680",
       "style": "IPY_MODEL_b36ca49f693648c388b3679285dd39fc",
       "value": "Current ΔT: 0.23 K"
      }
     },
     "af5acb4cecdd47d4a564a837cf7617a3": {
      "model_module": "@jupyter-widgets/controls",
      "model_module_version": "2.0.0",
      "model_name": "IntSliderModel",
      "state": {
       "behavior": "drag-tap",
       "continuous_update": false,
       "layout": "IPY_MODEL_05553f8042ee4c368ca8faf094038816",
       "max": 180,
       "style": "IPY_MODEL_7b00a1be37ff4ab9b237174fc7c5770f"
      }
     },
     "b032c7524476463fb752220fbaa42dda": {
      "model_module": "@jupyter-widgets/controls",
      "model_module_version": "2.0.0",
      "model_name": "ButtonModel",
      "state": {
       "button_style": "success",
       "description": "Eject disk",
       "icon": "eject",
       "layout": "IPY_MODEL_bb28582d03d04e60b8cdec6766311b30",
       "style": "IPY_MODEL_5feb65d9f9d1494fb476e8bedb84182b",
       "tooltip": "Eject mounted storage drive"
      }
     },
     "b36ca49f693648c388b3679285dd39fc": {
      "model_module": "@jupyter-widgets/controls",
      "model_module_version": "2.0.0",
      "model_name": "LabelStyleModel",
      "state": {
       "description_width": "",
       "font_family": null,
       "font_size": null,
       "font_style": null,
       "font_variant": null,
       "font_weight": null,
       "text_color": null,
       "text_decoration": null
      }
     },
     "b3954fae4f494f488f2fa76f31c09498": {
      "model_module": "@jupyter-widgets/controls",
      "model_module_version": "2.0.0",
      "model_name": "DescriptionStyleModel",
      "state": {
       "description_width": ""
      }
     },
     "bb28582d03d04e60b8cdec6766311b30": {
      "model_module": "@jupyter-widgets/base",
      "model_module_version": "2.0.0",
      "model_name": "LayoutModel",
      "state": {}
     },
     "be2422f42dd44fe9a26439c7c1466295": {
      "model_module": "@jupyter-widgets/controls",
      "model_module_version": "2.0.0",
      "model_name": "LabelModel",
      "state": {
       "layout": "IPY_MODEL_031d1a090d4840ee96d5c0b71b0b7eeb",
       "style": "IPY_MODEL_17398ae0e6df4479b183e2647046e126",
       "value": "Mounted storage drives:"
      }
     },
     "c2108884914e4e5a804bafd6ef9f62de": {
      "model_module": "@jupyter-widgets/controls",
      "model_module_version": "2.0.0",
      "model_name": "SliderStyleModel",
      "state": {
       "description_width": ""
      }
     },
     "c424ddc0932e4e1e95392f2a164bcc6c": {
      "model_module": "@jupyter-widgets/base",
      "model_module_version": "2.0.0",
      "model_name": "LayoutModel",
      "state": {
       "height": "33%",
       "width": "72%"
      }
     },
     "c887e49772e14a8eba84f8f3205ff48b": {
      "model_module": "@jupyter-widgets/base",
      "model_module_version": "2.0.0",
      "model_name": "LayoutModel",
      "state": {
       "height": "100%",
       "margin": "0 0 0 0",
       "width": "100%"
      }
     },
     "cc29e1e2bb134e668515f3fc992e26b5": {
      "model_module": "@jupyter-widgets/base",
      "model_module_version": "2.0.0",
      "model_name": "LayoutModel",
      "state": {
       "width": "100%"
      }
     },
     "ccfc87cac47c4596bb8eb64c7a93ae04": {
      "model_module": "@jupyter-widgets/controls",
      "model_module_version": "2.0.0",
      "model_name": "VBoxModel",
      "state": {
       "children": [
        "IPY_MODEL_be2422f42dd44fe9a26439c7c1466295",
        "IPY_MODEL_f16628806f45422c9187f206d0da6041",
        "IPY_MODEL_37e36401578143c3a7d94d6f781d197a",
        "IPY_MODEL_69ccfa9373a54c2485d46a7c29025ddd"
       ],
       "layout": "IPY_MODEL_ab422b1c9f324374acb12a4ee7f2005e"
      }
     },
     "cdf01988b3fd4e41a63941be4e4bd95d": {
      "model_module": "@jupyter-widgets/controls",
      "model_module_version": "2.0.0",
      "model_name": "SliderStyleModel",
      "state": {
       "description_width": ""
      }
     },
     "cf6ff38162694f04be9f6c06e5d432ed": {
      "model_module": "bqplot",
      "model_module_version": "^0.5.34",
      "model_name": "AxisModel",
      "state": {
       "label": "ΔT (K)",
       "num_ticks": 7,
       "orientation": "vertical",
       "scale": "IPY_MODEL_efc799ebc3794480b5a170040bda904d",
       "side": "right",
       "tick_format": "0.1f",
       "tick_values": null
      }
     },
     "d2dd582c871b4d849cdf0508d741fe34": {
      "model_module": "@jupyter-widgets/base",
      "model_module_version": "2.0.0",
      "model_name": "LayoutModel",
      "state": {
       "width": "62.5%"
      }
     },
     "d3bedc3c66a840cf85c966544976c613": {
      "model_module": "@jupyter-widgets/controls",
      "model_module_version": "2.0.0",
      "model_name": "AccordionModel",
      "state": {
       "children": [
        "IPY_MODEL_6771c27caf804fd78b70557d9eb6b490",
        "IPY_MODEL_8ee83208d5aa4316b5afff246d6b1edb",
        "IPY_MODEL_7ff8de08c6d745c68c006d77415a971f",
        "IPY_MODEL_1f749351e9f1434b85360c4ee042ccfc"
       ],
       "layout": "IPY_MODEL_6127c14eee9a4c3e8848c930082f3e26",
       "titles": [
        "Proportional gain",
        "Integral gain",
        "Derivative gain",
        "Time interval"
       ]
      }
     },
     "dc5c3a60461f4b07ba2fe2b5751f4ab3": {
      "model_module": "@jupyter-widgets/base",
      "model_module_version": "2.0.0",
      "model_name": "LayoutModel",
      "state": {}
     },
     "dc5fc00d2680486b8bf9ef2af5908e47": {
      "model_module": "@jupyter-widgets/controls",
      "model_module_version": "2.0.0",
      "model_name": "IntSliderModel",
      "state": {
       "behavior": "drag-tap",
       "continuous_update": false,
       "layout": "IPY_MODEL_34221f7b8b7840739ef987122ca3d01e",
       "max": 30,
       "style": "IPY_MODEL_873f655be3eb4441a3e0b3524a3b2884"
      }
     },
     "dcc9e2fb65de4f5e98e4b5c50bfedf44": {
      "model_module": "@jupyter-widgets/controls",
      "model_module_version": "2.0.0",
      "model_name": "TabModel",
      "state": {
       "children": [
        "IPY_MODEL_50973f4cf9c14972bb6b46e23f5f033e",
        "IPY_MODEL_aa1039d4aa99485190c1cbb8faca4a7e"
       ],
       "layout": "IPY_MODEL_dc5c3a60461f4b07ba2fe2b5751f4ab3",
       "selected_index": 0,
       "titles": [
        "Stage 1:",
        "+"
       ]
      }
     },
     "de22676a83a641e39eab77859f06c464": {
      "model_module": "@jupyter-widgets/base",
      "model_module_version": "2.0.0",
      "model_name": "LayoutModel",
      "state": {
       "height": "100%",
       "margin": "0 0 0 0",
       "width": "100%"
      }
     },
     "dec2c0d663aa4e129d746d82e910eaa5": {
      "model_module": "@jupyter-widgets/base",
      "model_module_version": "2.0.0",
      "model_name": "LayoutModel",
      "state": {}
     },
     "e2f3ea30dad94893848af7390c63adfe": {
      "model_module": "@jupyter-widgets/controls",
      "model_module_version": "2.0.0",
      "model_name": "SliderStyleModel",
      "state": {
       "description_width": ""
      }
     },
     "eac60160e8f54e1ebd7720d068bda516": {
      "model_module": "@jupyter-widgets/controls",
      "model_module_version": "2.0.0",
      "model_name": "ButtonStyleModel",
      "state": {
       "font_family": null,
       "font_size": null,
       "font_style": null,
       "font_variant": null,
       "font_weight": null,
       "text_color": null,
       "text_decoration": null
      }
     },
     "ede261cab9f349f99786b2722284b968": {
      "buffers": [
       {
        "data": "AAAAAAAAAAA=",
        "encoding": "base64",
        "path": [
         "x",
         "value"
        ]
       },
       {
        "data": "AAAAAAAAAAA=",
        "encoding": "base64",
        "path": [
         "y",
         "value"
        ]
       }
      ],
      "model_module": "bqplot",
      "model_module_version": "^0.5.34",
      "model_name": "LinesModel",
      "state": {
       "colors": [
        "#ff000f"
       ],
       "display_legend": true,
       "fill_colors": [],
       "labels": [
        "Programme"
       ],
       "line_style": "dashed",
       "scales": {
        "x": "IPY_MODEL_78d2dd40b1a244baabf14ec4f56fc50c",
        "y": "IPY_MODEL_1ad7b70b67f6485b8f86698e0a8ac9ad"
       },
       "x": {
        "dtype": "float64",
        "shape": [
         1
        ],
        "type": null
       },
       "y": {
        "dtype": "float64",
        "shape": [
         1
        ],
        "type": null
       }
      }
     },
     "ee6060e07e7a404999cfd1e4cee69452": {
      "model_module": "@jupyter-widgets/controls",
      "model_module_version": "2.0.0",
      "model_name": "FloatProgressModel",
      "state": {
       "description": "Heating run:",
       "layout": "IPY_MODEL_0f26ca4dbb7541bcb37b1c8ba164d37c",
       "max": 1800,
       "style": "IPY_MODEL_0404ef6740a849f2991df0f74092304a"
      }
     },
     "ef85fa80db52456dae025cf909dffa0e": {
      "model_module": "@jupyter-widgets/base",
      "model_module_version": "2.0.0",
      "model_name": "LayoutModel",
      "state": {
       "height": "100%",
       "width": "28%"
      }
     },
     "efc799ebc3794480b5a170040bda904d": {
      "model_module": "bqplot",
      "model_module_version": "^0.5.34",
      "model_name": "LinearScaleModel",
      "state": {
       "max": 30,
       "min": -30,
       "stabilized": false
      }
     },
     "f16628806f45422c9187f206d0da6041": {
      "model_module": "@jupyter-widgets/controls",
      "model_module_version": "2.0.0",
      "model_name": "SelectModel",
      "state": {
       "_options_labels": [
        "Local storage",
        "USBDRIVE"
       ],
       "index": 0,
       "layout": "IPY_MODEL_4da44a039f2140d591f07b3f79d56ce3",
       "style": "IPY_MODEL_b3954fae4f494f488f2fa76f31c09498"
      }
     },
     "f6dcc8dc739e439284faaa3dd85ee323": {
      "model_module": "@jupyter-widgets/controls",
      "model_module_version": "2.0.0",
      "model_name": "ButtonStyleModel",
      "state": {
       "font_family": null,
       "font_size": null,
       "font_style": null,
       "font_variant": null,
       "font_weight": null,
       "text_color": null,
       "text_decoration": null
      }
     },
     "f87ea334c6f04628b949d9fc5e7f8e30": {
      "model_module": "@jupyter-widgets/controls",
      "model_module_version": "2.0.0",
      "model_name": "SliderStyleModel",
      "state": {
       "description_width": ""
      }
     },
     "fa6ae059283643e8b02a276fdbb524e1": {
      "model_module": "@jupyter-widgets/controls",
      "model_module_version": "2.0.0",
      "model_name": "LabelStyleModel",
      "state": {
       "description_width": "",
       "font_family": null,
       "font_size": null,
       "font_style": null,
       "font_variant": null,
       "font_weight": null,
       "text_color": null,
       "text_decoration": null
      }
     },
     "fb4960df18834dafab8aeb2de477ae1e": {
      "model_module": "@jupyter-widgets/controls",
      "model_module_version": "2.0.0",
      "model_name": "LabelStyleModel",
      "state": {
       "description_width": "",
       "font_family": null,
       "font_size": null,
       "font_style": null,
       "font_variant": null,
       "font_weight": null,
       "text_color": null,
       "text_decoration": null
      }
     },
     "fbf5da89a3c841eba728d8226dd567e4": {
      "model_module": "@jupyter-widgets/controls",
      "model_module_version": "2.0.0",
      "model_name": "IntSliderModel",
      "state": {
       "behavior": "drag-tap",
       "continuous_update": false,
       "layout": "IPY_MODEL_aa10de69df3a4a918d621157251533f7",
       "max": 30,
       "style": "IPY_MODEL_6e029bee76af46e4aaa0c8db275ea797"
      }
     }
    },
    "version_major": 2,
    "version_minor": 0
   }
  }
 },
 "nbformat": 4,
 "nbformat_minor": 5
}
