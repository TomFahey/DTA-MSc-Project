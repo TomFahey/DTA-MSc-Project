{
 "cells": [
  {
   "cell_type": "code",
   "execution_count": 1,
   "id": "9f9e2664",
   "metadata": {
    "execution": {
     "iopub.execute_input": "2023-03-01T19:21:02.991164Z",
     "iopub.status.busy": "2023-03-01T19:21:02.983160Z",
     "iopub.status.idle": "2023-03-01T19:21:04.439755Z",
     "shell.execute_reply": "2023-03-01T19:21:04.434204Z"
    }
   },
   "outputs": [
    {
     "data": {
      "application/vnd.jupyter.widget-view+json": {
       "model_id": "4baa9c006af44e6f9952e027c9cce44c",
       "version_major": 2,
       "version_minor": 0
      },
      "text/plain": [
       "VBox(children=(HBox(children=(Button(button_style='warning', description='Run', icon='play', layout=Layout(hei…"
      ]
     },
     "metadata": {},
     "output_type": "display_data"
    }
   ],
   "source": [
    "import os\n",
    "import sys\n",
    "\n",
    "ROOT_DIR = os.path.abspath('../')\n",
    "WEBAPP_PATH = ROOT_DIR + '/src/dashboard/'\n",
    "sys.path.insert(0, WEBAPP_PATH)\n",
    "\n",
    "from webapp.graph import app\n",
    "display(app)"
   ]
  },
  {
   "cell_type": "code",
   "execution_count": 2,
   "id": "0ab2a58c",
   "metadata": {
    "execution": {
     "iopub.execute_input": "2023-03-01T19:21:04.465531Z",
     "iopub.status.busy": "2023-03-01T19:21:04.461785Z",
     "iopub.status.idle": "2023-03-01T19:21:04.508630Z",
     "shell.execute_reply": "2023-03-01T19:21:04.503681Z"
    }
   },
   "outputs": [
    {
     "data": {
      "application/vnd.jupyter.widget-view+json": {
       "model_id": "dd10f61e1a584c03a5fba0bf36284dfd",
       "version_major": 2,
       "version_minor": 0
      },
      "text/plain": [
       "HBox(children=(Button(button_style='warning', description='Run', icon='play', layout=Layout(height='100%', wid…"
      ]
     },
     "metadata": {},
     "output_type": "display_data"
    }
   ],
   "source": [
    "import os\n",
    "import sys\n",
    "\n",
    "ROOT_DIR = os.path.abspath('../')\n",
    "WEBAPP_PATH = ROOT_DIR + '/src/dashboard/'\n",
    "sys.path.insert(0, WEBAPP_PATH)\n",
    "\n",
    "from webapp.graph import command_box\n",
    "display(command_box)"
   ]
  },
  {
   "cell_type": "code",
   "execution_count": 3,
   "id": "f968528f",
   "metadata": {
    "execution": {
     "iopub.execute_input": "2023-03-01T19:21:04.532078Z",
     "iopub.status.busy": "2023-03-01T19:21:04.529097Z",
     "iopub.status.idle": "2023-03-01T19:21:04.577434Z",
     "shell.execute_reply": "2023-03-01T19:21:04.572537Z"
    }
   },
   "outputs": [
    {
     "data": {
      "application/vnd.jupyter.widget-view+json": {
       "model_id": "cc32320adc744a82a9a7536a4f802f88",
       "version_major": 2,
       "version_minor": 0
      },
      "text/plain": [
       "Figure(axes=[Axis(label='Time (s)', num_ticks=6, scale=LinearScale(min=0.0)), Axis(label='Temperature (C)', nu…"
      ]
     },
     "metadata": {},
     "output_type": "display_data"
    }
   ],
   "source": [
    "import os\n",
    "import sys\n",
    "\n",
    "ROOT_DIR = os.path.abspath('../')\n",
    "WEBAPP_PATH = ROOT_DIR + '/src/dashboard/'\n",
    "sys.path.insert(0, WEBAPP_PATH)\n",
    "\n",
    "from webapp.graph import fig\n",
    "display(fig)"
   ]
  },
  {
   "cell_type": "code",
   "execution_count": 4,
   "id": "27446084",
   "metadata": {
    "execution": {
     "iopub.execute_input": "2023-03-01T19:21:04.598331Z",
     "iopub.status.busy": "2023-03-01T19:21:04.595440Z",
     "iopub.status.idle": "2023-03-01T19:21:04.639462Z",
     "shell.execute_reply": "2023-03-01T19:21:04.632878Z"
    }
   },
   "outputs": [
    {
     "data": {
      "application/vnd.jupyter.widget-view+json": {
       "model_id": "c3e9cf30408d44ce8437b840227b1159",
       "version_major": 2,
       "version_minor": 0
      },
      "text/plain": [
       "VBox(children=(FloatProgress(value=0.0, description='Heating run:', layout=Layout(height='33%', width='56%'), …"
      ]
     },
     "metadata": {},
     "output_type": "display_data"
    }
   ],
   "source": [
    "import os\n",
    "import sys\n",
    "\n",
    "ROOT_DIR = os.path.abspath('../')\n",
    "WEBAPP_PATH = ROOT_DIR + '/src/dashboard/'\n",
    "sys.path.insert(0, WEBAPP_PATH)\n",
    "\n",
    "from webapp.graph import info_box\n",
    "display(info_box)"
   ]
  }
 ],
 "metadata": {
  "kernelspec": {
   "display_name": "Python 3 (ipykernel)",
   "language": "python",
   "name": "python3"
  },
  "language_info": {
   "codemirror_mode": {
    "name": "ipython",
    "version": 3
   },
   "file_extension": ".py",
   "mimetype": "text/x-python",
   "name": "python",
   "nbconvert_exporter": "python",
   "pygments_lexer": "ipython3",
   "version": "3.7.3"
  },
  "widgets": {
   "application/vnd.jupyter.widget-state+json": {
    "state": {
     "0299793c2e294504ae41bb58139c1724": {
      "buffers": [
       {
        "data": "AAAAAAAAAAA=",
        "encoding": "base64",
        "path": [
         "x",
         "value"
        ]
       },
       {
        "data": "AAAAAAAAAAA=",
        "encoding": "base64",
        "path": [
         "y",
         "value"
        ]
       }
      ],
      "model_module": "bqplot",
      "model_module_version": "^0.5",
      "model_name": "LinesModel",
      "state": {
       "_model_module": "bqplot",
       "_model_module_version": "^0.5",
       "_model_name": "LinesModel",
       "_view_count": null,
       "_view_module": "bqplot",
       "_view_module_version": "^0.5",
       "_view_name": "Lines",
       "apply_clip": true,
       "close_path": false,
       "color": null,
       "colors": [
        "#ff000f"
       ],
       "curves_subset": [],
       "display_legend": true,
       "enable_hover": true,
       "fill": "none",
       "fill_colors": [],
       "fill_opacities": [],
       "interactions": {
        "hover": "tooltip"
       },
       "interpolation": "linear",
       "labels": [
        "Measured"
       ],
       "labels_visibility": "none",
       "line_style": "solid",
       "marker": null,
       "marker_size": 64,
       "opacities": [],
       "preserve_domain": {},
       "scales": {
        "x": "IPY_MODEL_24da94a47a46493397daf2009a6ccdde",
        "y": "IPY_MODEL_2f2fbff894d14e4d9c1247a39239d99a"
       },
       "scales_metadata": {
        "color": {
         "dimension": "color"
        },
        "x": {
         "dimension": "x",
         "orientation": "horizontal"
        },
        "y": {
         "dimension": "y",
         "orientation": "vertical"
        }
       },
       "selected": null,
       "selected_style": {},
       "stroke_width": 2.0,
       "tooltip": null,
       "tooltip_location": "mouse",
       "tooltip_style": {
        "opacity": 0.9
       },
       "unselected_style": {},
       "visible": true,
       "x": {
        "dtype": "float64",
        "shape": [
         1
        ],
        "type": null
       },
       "y": {
        "dtype": "float64",
        "shape": [
         1
        ],
        "type": null
       }
      }
     },
     "0871b77ec5bb482480454d24b3b45579": {
      "model_module": "@jupyter-widgets/base",
      "model_module_version": "2.0.0",
      "model_name": "LayoutModel",
      "state": {
       "_model_module": "@jupyter-widgets/base",
       "_model_module_version": "2.0.0",
       "_model_name": "LayoutModel",
       "_view_count": null,
       "_view_module": "@jupyter-widgets/base",
       "_view_module_version": "2.0.0",
       "_view_name": "LayoutView",
       "align_content": null,
       "align_items": null,
       "align_self": null,
       "border_bottom": null,
       "border_left": null,
       "border_right": null,
       "border_top": null,
       "bottom": null,
       "display": null,
       "flex": null,
       "flex_flow": null,
       "grid_area": null,
       "grid_auto_columns": null,
       "grid_auto_flow": null,
       "grid_auto_rows": null,
       "grid_column": null,
       "grid_gap": null,
       "grid_row": null,
       "grid_template_areas": null,
       "grid_template_columns": null,
       "grid_template_rows": null,
       "height": "33%",
       "justify_content": null,
       "justify_items": null,
       "left": null,
       "margin": null,
       "max_height": null,
       "max_width": null,
       "min_height": null,
       "min_width": null,
       "object_fit": null,
       "object_position": null,
       "order": null,
       "overflow": null,
       "padding": null,
       "right": null,
       "top": null,
       "visibility": null,
       "width": "56%"
      }
     },
     "0b891c7135bb48f4a88c22875b17dcab": {
      "model_module": "@jupyter-widgets/base",
      "model_module_version": "2.0.0",
      "model_name": "LayoutModel",
      "state": {
       "_model_module": "@jupyter-widgets/base",
       "_model_module_version": "2.0.0",
       "_model_name": "LayoutModel",
       "_view_count": null,
       "_view_module": "@jupyter-widgets/base",
       "_view_module_version": "2.0.0",
       "_view_name": "LayoutView",
       "align_content": null,
       "align_items": null,
       "align_self": null,
       "border_bottom": null,
       "border_left": null,
       "border_right": null,
       "border_top": null,
       "bottom": null,
       "display": null,
       "flex": null,
       "flex_flow": null,
       "grid_area": null,
       "grid_auto_columns": null,
       "grid_auto_flow": null,
       "grid_auto_rows": null,
       "grid_column": null,
       "grid_gap": null,
       "grid_row": null,
       "grid_template_areas": null,
       "grid_template_columns": null,
       "grid_template_rows": null,
       "height": "25em",
       "justify_content": null,
       "justify_items": null,
       "left": null,
       "margin": null,
       "max_height": null,
       "max_width": null,
       "min_height": null,
       "min_width": null,
       "object_fit": null,
       "object_position": null,
       "order": null,
       "overflow": null,
       "padding": null,
       "right": null,
       "top": null,
       "visibility": null,
       "width": "100%"
      }
     },
     "0e9ccd350da14c869f647aacb9b13528": {
      "model_module": "bqplot",
      "model_module_version": "^0.5",
      "model_name": "LinearScaleModel",
      "state": {
       "_model_module": "bqplot",
       "_model_module_version": "^0.5",
       "_model_name": "LinearScaleModel",
       "_view_count": null,
       "_view_module": "bqplot",
       "_view_module_version": "^0.5",
       "_view_name": "LinearScale",
       "allow_padding": true,
       "max": null,
       "mid_range": 0.8,
       "min": null,
       "min_range": 0.6,
       "reverse": false,
       "stabilized": false
      }
     },
     "13b9fb40f245482ea820faadd7c3f41b": {
      "model_module": "@jupyter-widgets/base",
      "model_module_version": "2.0.0",
      "model_name": "LayoutModel",
      "state": {
       "_model_module": "@jupyter-widgets/base",
       "_model_module_version": "2.0.0",
       "_model_name": "LayoutModel",
       "_view_count": null,
       "_view_module": "@jupyter-widgets/base",
       "_view_module_version": "2.0.0",
       "_view_name": "LayoutView",
       "align_content": null,
       "align_items": null,
       "align_self": null,
       "border_bottom": null,
       "border_left": null,
       "border_right": null,
       "border_top": null,
       "bottom": null,
       "display": null,
       "flex": null,
       "flex_flow": null,
       "grid_area": null,
       "grid_auto_columns": null,
       "grid_auto_flow": null,
       "grid_auto_rows": null,
       "grid_column": null,
       "grid_gap": null,
       "grid_row": null,
       "grid_template_areas": null,
       "grid_template_columns": null,
       "grid_template_rows": null,
       "height": "33%",
       "justify_content": null,
       "justify_items": null,
       "left": null,
       "margin": null,
       "max_height": null,
       "max_width": null,
       "min_height": null,
       "min_width": null,
       "object_fit": null,
       "object_position": null,
       "order": null,
       "overflow": null,
       "padding": null,
       "right": null,
       "top": null,
       "visibility": null,
       "width": "72%"
      }
     },
     "1bdff29e5b8e4834b68bf4cdd575e0c5": {
      "model_module": "@jupyter-widgets/base",
      "model_module_version": "2.0.0",
      "model_name": "LayoutModel",
      "state": {
       "_model_module": "@jupyter-widgets/base",
       "_model_module_version": "2.0.0",
       "_model_name": "LayoutModel",
       "_view_count": null,
       "_view_module": "@jupyter-widgets/base",
       "_view_module_version": "2.0.0",
       "_view_name": "LayoutView",
       "align_content": null,
       "align_items": null,
       "align_self": null,
       "border_bottom": null,
       "border_left": null,
       "border_right": null,
       "border_top": null,
       "bottom": null,
       "display": null,
       "flex": null,
       "flex_flow": null,
       "grid_area": null,
       "grid_auto_columns": null,
       "grid_auto_flow": null,
       "grid_auto_rows": null,
       "grid_column": null,
       "grid_gap": null,
       "grid_row": null,
       "grid_template_areas": null,
       "grid_template_columns": null,
       "grid_template_rows": null,
       "height": "100%",
       "justify_content": null,
       "justify_items": null,
       "left": null,
       "margin": "0 0 0 0",
       "max_height": null,
       "max_width": null,
       "min_height": null,
       "min_width": null,
       "object_fit": null,
       "object_position": null,
       "order": null,
       "overflow": null,
       "padding": null,
       "right": null,
       "top": null,
       "visibility": null,
       "width": "100%"
      }
     },
     "24da94a47a46493397daf2009a6ccdde": {
      "model_module": "bqplot",
      "model_module_version": "^0.5",
      "model_name": "LinearScaleModel",
      "state": {
       "_model_module": "bqplot",
       "_model_module_version": "^0.5",
       "_model_name": "LinearScaleModel",
       "_view_count": null,
       "_view_module": "bqplot",
       "_view_module_version": "^0.5",
       "_view_name": "LinearScale",
       "allow_padding": true,
       "max": null,
       "mid_range": 0.8,
       "min": 0.0,
       "min_range": 0.6,
       "reverse": false,
       "stabilized": false
      }
     },
     "2f126f778dc047668a75fb9c408e055a": {
      "model_module": "@jupyter-widgets/controls",
      "model_module_version": "2.0.0",
      "model_name": "LabelModel",
      "state": {
       "_dom_classes": [],
       "_model_module": "@jupyter-widgets/controls",
       "_model_module_version": "2.0.0",
       "_model_name": "LabelModel",
       "_view_count": null,
       "_view_module": "@jupyter-widgets/controls",
       "_view_module_version": "2.0.0",
       "_view_name": "LabelView",
       "description": "",
       "description_allow_html": false,
       "layout": "IPY_MODEL_13b9fb40f245482ea820faadd7c3f41b",
       "placeholder": "​",
       "style": "IPY_MODEL_3d0a07d8461f4f2c98100dee9f48d1f8",
       "tabbable": null,
       "tooltip": null,
       "value": "Current ΔT: 0.0 K"
      }
     },
     "2f2fbff894d14e4d9c1247a39239d99a": {
      "model_module": "bqplot",
      "model_module_version": "^0.5",
      "model_name": "LinearScaleModel",
      "state": {
       "_model_module": "bqplot",
       "_model_module_version": "^0.5",
       "_model_name": "LinearScaleModel",
       "_view_count": null,
       "_view_module": "bqplot",
       "_view_module_version": "^0.5",
       "_view_name": "LinearScale",
       "allow_padding": true,
       "max": null,
       "mid_range": 0.8,
       "min": null,
       "min_range": 0.6,
       "reverse": false,
       "stabilized": false
      }
     },
     "32799da6de664166af471a8b20b0142c": {
      "model_module": "@jupyter-widgets/controls",
      "model_module_version": "2.0.0",
      "model_name": "ButtonModel",
      "state": {
       "_dom_classes": [],
       "_model_module": "@jupyter-widgets/controls",
       "_model_module_version": "2.0.0",
       "_model_name": "ButtonModel",
       "_view_count": null,
       "_view_module": "@jupyter-widgets/controls",
       "_view_module_version": "2.0.0",
       "_view_name": "ButtonView",
       "button_style": "warning",
       "description": "Run",
       "disabled": false,
       "icon": "play",
       "layout": "IPY_MODEL_b2b90d2df0c5430eb03899d8e3733857",
       "style": "IPY_MODEL_7d1ea7d13b2441adb3d8b9f5fd7f2bc4",
       "tabbable": null,
       "tooltip": null
      }
     },
     "35942cac594149a2b752d343cc2f813c": {
      "model_module": "@jupyter-widgets/controls",
      "model_module_version": "2.0.0",
      "model_name": "ButtonStyleModel",
      "state": {
       "_model_module": "@jupyter-widgets/controls",
       "_model_module_version": "2.0.0",
       "_model_name": "ButtonStyleModel",
       "_view_count": null,
       "_view_module": "@jupyter-widgets/base",
       "_view_module_version": "2.0.0",
       "_view_name": "StyleView",
       "button_color": null,
       "font_family": null,
       "font_size": null,
       "font_style": null,
       "font_variant": null,
       "font_weight": null,
       "text_color": null,
       "text_decoration": null
      }
     },
     "3d0a07d8461f4f2c98100dee9f48d1f8": {
      "model_module": "@jupyter-widgets/controls",
      "model_module_version": "2.0.0",
      "model_name": "LabelStyleModel",
      "state": {
       "_model_module": "@jupyter-widgets/controls",
       "_model_module_version": "2.0.0",
       "_model_name": "LabelStyleModel",
       "_view_count": null,
       "_view_module": "@jupyter-widgets/base",
       "_view_module_version": "2.0.0",
       "_view_name": "StyleView",
       "background": null,
       "description_width": "",
       "font_family": null,
       "font_size": null,
       "font_style": null,
       "font_variant": null,
       "font_weight": null,
       "text_color": null,
       "text_decoration": null
      }
     },
     "4215f49f7e774b94a55117168a92c25c": {
      "model_module": "@jupyter-widgets/base",
      "model_module_version": "2.0.0",
      "model_name": "LayoutModel",
      "state": {
       "_model_module": "@jupyter-widgets/base",
       "_model_module_version": "2.0.0",
       "_model_name": "LayoutModel",
       "_view_count": null,
       "_view_module": "@jupyter-widgets/base",
       "_view_module_version": "2.0.0",
       "_view_name": "LayoutView",
       "align_content": null,
       "align_items": null,
       "align_self": null,
       "border_bottom": null,
       "border_left": null,
       "border_right": null,
       "border_top": null,
       "bottom": null,
       "display": null,
       "flex": null,
       "flex_flow": null,
       "grid_area": null,
       "grid_auto_columns": null,
       "grid_auto_flow": null,
       "grid_auto_rows": null,
       "grid_column": null,
       "grid_gap": null,
       "grid_row": null,
       "grid_template_areas": null,
       "grid_template_columns": null,
       "grid_template_rows": null,
       "height": "100%",
       "justify_content": null,
       "justify_items": null,
       "left": null,
       "margin": null,
       "max_height": null,
       "max_width": null,
       "min_height": null,
       "min_width": null,
       "object_fit": null,
       "object_position": null,
       "order": null,
       "overflow": null,
       "padding": null,
       "right": null,
       "top": null,
       "visibility": null,
       "width": "28%"
      }
     },
     "4baa9c006af44e6f9952e027c9cce44c": {
      "model_module": "@jupyter-widgets/controls",
      "model_module_version": "2.0.0",
      "model_name": "VBoxModel",
      "state": {
       "_dom_classes": [],
       "_model_module": "@jupyter-widgets/controls",
       "_model_module_version": "2.0.0",
       "_model_name": "VBoxModel",
       "_view_count": null,
       "_view_module": "@jupyter-widgets/controls",
       "_view_module_version": "2.0.0",
       "_view_name": "VBoxView",
       "box_style": "",
       "children": [
        "IPY_MODEL_dd10f61e1a584c03a5fba0bf36284dfd",
        "IPY_MODEL_cc32320adc744a82a9a7536a4f802f88",
        "IPY_MODEL_c3e9cf30408d44ce8437b840227b1159"
       ],
       "layout": "IPY_MODEL_1bdff29e5b8e4834b68bf4cdd575e0c5",
       "tabbable": null,
       "tooltip": null
      }
     },
     "4f54de7e71ad4734acb0cdc92ca53fbc": {
      "model_module": "@jupyter-widgets/base",
      "model_module_version": "2.0.0",
      "model_name": "LayoutModel",
      "state": {
       "_model_module": "@jupyter-widgets/base",
       "_model_module_version": "2.0.0",
       "_model_name": "LayoutModel",
       "_view_count": null,
       "_view_module": "@jupyter-widgets/base",
       "_view_module_version": "2.0.0",
       "_view_name": "LayoutView",
       "align_content": null,
       "align_items": null,
       "align_self": null,
       "border_bottom": null,
       "border_left": null,
       "border_right": null,
       "border_top": null,
       "bottom": null,
       "display": null,
       "flex": null,
       "flex_flow": null,
       "grid_area": null,
       "grid_auto_columns": null,
       "grid_auto_flow": null,
       "grid_auto_rows": null,
       "grid_column": null,
       "grid_gap": null,
       "grid_row": null,
       "grid_template_areas": null,
       "grid_template_columns": null,
       "grid_template_rows": null,
       "height": "15%",
       "justify_content": null,
       "justify_items": null,
       "left": null,
       "margin": null,
       "max_height": null,
       "max_width": null,
       "min_height": null,
       "min_width": null,
       "object_fit": null,
       "object_position": null,
       "order": null,
       "overflow": null,
       "padding": null,
       "right": null,
       "top": null,
       "visibility": null,
       "width": "75%"
      }
     },
     "63cc65764a1848cba569c9a908fabd09": {
      "buffers": [
       {
        "data": "AAAAAAAAAAA=",
        "encoding": "base64",
        "path": [
         "x",
         "value"
        ]
       },
       {
        "data": "AAAAAAAAAAA=",
        "encoding": "base64",
        "path": [
         "y",
         "value"
        ]
       }
      ],
      "model_module": "bqplot",
      "model_module_version": "^0.5",
      "model_name": "LinesModel",
      "state": {
       "_model_module": "bqplot",
       "_model_module_version": "^0.5",
       "_model_name": "LinesModel",
       "_view_count": null,
       "_view_module": "bqplot",
       "_view_module_version": "^0.5",
       "_view_name": "Lines",
       "apply_clip": true,
       "close_path": false,
       "color": null,
       "colors": [
        "#46ff33"
       ],
       "curves_subset": [],
       "display_legend": false,
       "enable_hover": true,
       "fill": "none",
       "fill_colors": [],
       "fill_opacities": [],
       "interactions": {
        "hover": "tooltip"
       },
       "interpolation": "linear",
       "labels": [],
       "labels_visibility": "none",
       "line_style": "dashed",
       "marker": null,
       "marker_size": 64,
       "opacities": [],
       "preserve_domain": {},
       "scales": {
        "x": "IPY_MODEL_24da94a47a46493397daf2009a6ccdde",
        "y": "IPY_MODEL_0e9ccd350da14c869f647aacb9b13528"
       },
       "scales_metadata": {
        "color": {
         "dimension": "color"
        },
        "x": {
         "dimension": "x",
         "orientation": "horizontal"
        },
        "y": {
         "dimension": "y",
         "orientation": "vertical"
        }
       },
       "selected": null,
       "selected_style": {},
       "stroke_width": 2.0,
       "tooltip": null,
       "tooltip_location": "mouse",
       "tooltip_style": {
        "opacity": 0.9
       },
       "unselected_style": {},
       "visible": true,
       "x": {
        "dtype": "float64",
        "shape": [
         1
        ],
        "type": null
       },
       "y": {
        "dtype": "float64",
        "shape": [
         1
        ],
        "type": null
       }
      }
     },
     "70b160033ad840fd8c4f6af380559fc1": {
      "model_module": "@jupyter-widgets/controls",
      "model_module_version": "2.0.0",
      "model_name": "FloatProgressModel",
      "state": {
       "_dom_classes": [],
       "_model_module": "@jupyter-widgets/controls",
       "_model_module_version": "2.0.0",
       "_model_name": "FloatProgressModel",
       "_view_count": null,
       "_view_module": "@jupyter-widgets/controls",
       "_view_module_version": "2.0.0",
       "_view_name": "ProgressView",
       "bar_style": "",
       "description": "Heating run:",
       "description_allow_html": false,
       "layout": "IPY_MODEL_0871b77ec5bb482480454d24b3b45579",
       "max": 1800.0,
       "min": 0.0,
       "orientation": "horizontal",
       "style": "IPY_MODEL_73e9d081f2e847d7a398f37bf4d6ea23",
       "tabbable": null,
       "tooltip": null,
       "value": 0.0
      }
     },
     "73e9d081f2e847d7a398f37bf4d6ea23": {
      "model_module": "@jupyter-widgets/controls",
      "model_module_version": "2.0.0",
      "model_name": "ProgressStyleModel",
      "state": {
       "_model_module": "@jupyter-widgets/controls",
       "_model_module_version": "2.0.0",
       "_model_name": "ProgressStyleModel",
       "_view_count": null,
       "_view_module": "@jupyter-widgets/base",
       "_view_module_version": "2.0.0",
       "_view_name": "StyleView",
       "bar_color": null,
       "description_width": "initial"
      }
     },
     "7bf7e33f09f64b3f9bf1c0479dd0ab28": {
      "buffers": [
       {
        "data": "AAAAAAAAAAA=",
        "encoding": "base64",
        "path": [
         "x",
         "value"
        ]
       },
       {
        "data": "AAAAAAAAAAA=",
        "encoding": "base64",
        "path": [
         "y",
         "value"
        ]
       }
      ],
      "model_module": "bqplot",
      "model_module_version": "^0.5",
      "model_name": "LinesModel",
      "state": {
       "_model_module": "bqplot",
       "_model_module_version": "^0.5",
       "_model_name": "LinesModel",
       "_view_count": null,
       "_view_module": "bqplot",
       "_view_module_version": "^0.5",
       "_view_name": "Lines",
       "apply_clip": true,
       "close_path": false,
       "color": null,
       "colors": [
        "#0000ff"
       ],
       "curves_subset": [],
       "display_legend": true,
       "enable_hover": true,
       "fill": "none",
       "fill_colors": [],
       "fill_opacities": [],
       "interactions": {
        "hover": "tooltip"
       },
       "interpolation": "linear",
       "labels": [
        "Sample"
       ],
       "labels_visibility": "none",
       "line_style": "solid",
       "marker": null,
       "marker_size": 64,
       "opacities": [],
       "preserve_domain": {},
       "scales": {
        "x": "IPY_MODEL_24da94a47a46493397daf2009a6ccdde",
        "y": "IPY_MODEL_2f2fbff894d14e4d9c1247a39239d99a"
       },
       "scales_metadata": {
        "color": {
         "dimension": "color"
        },
        "x": {
         "dimension": "x",
         "orientation": "horizontal"
        },
        "y": {
         "dimension": "y",
         "orientation": "vertical"
        }
       },
       "selected": null,
       "selected_style": {},
       "stroke_width": 2.0,
       "tooltip": null,
       "tooltip_location": "mouse",
       "tooltip_style": {
        "opacity": 0.9
       },
       "unselected_style": {},
       "visible": true,
       "x": {
        "dtype": "float64",
        "shape": [
         1
        ],
        "type": null
       },
       "y": {
        "dtype": "float64",
        "shape": [
         1
        ],
        "type": null
       }
      }
     },
     "7d1ea7d13b2441adb3d8b9f5fd7f2bc4": {
      "model_module": "@jupyter-widgets/controls",
      "model_module_version": "2.0.0",
      "model_name": "ButtonStyleModel",
      "state": {
       "_model_module": "@jupyter-widgets/controls",
       "_model_module_version": "2.0.0",
       "_model_name": "ButtonStyleModel",
       "_view_count": null,
       "_view_module": "@jupyter-widgets/base",
       "_view_module_version": "2.0.0",
       "_view_name": "StyleView",
       "button_color": null,
       "font_family": null,
       "font_size": null,
       "font_style": null,
       "font_variant": null,
       "font_weight": null,
       "text_color": null,
       "text_decoration": null
      }
     },
     "8059f92b204447e78fd5966769d12175": {
      "model_module": "@jupyter-widgets/controls",
      "model_module_version": "2.0.0",
      "model_name": "ButtonModel",
      "state": {
       "_dom_classes": [],
       "_model_module": "@jupyter-widgets/controls",
       "_model_module_version": "2.0.0",
       "_model_name": "ButtonModel",
       "_view_count": null,
       "_view_module": "@jupyter-widgets/controls",
       "_view_module_version": "2.0.0",
       "_view_name": "ButtonView",
       "button_style": "warning",
       "description": "Reset",
       "disabled": false,
       "icon": "restart",
       "layout": "IPY_MODEL_4215f49f7e774b94a55117168a92c25c",
       "style": "IPY_MODEL_35942cac594149a2b752d343cc2f813c",
       "tabbable": null,
       "tooltip": null
      }
     },
     "832bd1db2bf64e9391b2c0ca10dec34f": {
      "buffers": [
       {
        "data": "",
        "encoding": "base64",
        "path": [
         "x",
         "value"
        ]
       },
       {
        "data": "",
        "encoding": "base64",
        "path": [
         "y",
         "value"
        ]
       }
      ],
      "model_module": "bqplot",
      "model_module_version": "^0.5",
      "model_name": "LinesModel",
      "state": {
       "_model_module": "bqplot",
       "_model_module_version": "^0.5",
       "_model_name": "LinesModel",
       "_view_count": null,
       "_view_module": "bqplot",
       "_view_module_version": "^0.5",
       "_view_name": "Lines",
       "apply_clip": true,
       "close_path": false,
       "color": null,
       "colors": [
        "#f7a500"
       ],
       "curves_subset": [],
       "display_legend": false,
       "enable_hover": true,
       "fill": "none",
       "fill_colors": [],
       "fill_opacities": [],
       "interactions": {
        "hover": "tooltip"
       },
       "interpolation": "linear",
       "labels": [],
       "labels_visibility": "none",
       "line_style": "solid",
       "marker": null,
       "marker_size": 64,
       "opacities": [
        0.6
       ],
       "preserve_domain": {},
       "scales": {
        "x": "IPY_MODEL_24da94a47a46493397daf2009a6ccdde",
        "y": "IPY_MODEL_0e9ccd350da14c869f647aacb9b13528"
       },
       "scales_metadata": {
        "color": {
         "dimension": "color"
        },
        "x": {
         "dimension": "x",
         "orientation": "horizontal"
        },
        "y": {
         "dimension": "y",
         "orientation": "vertical"
        }
       },
       "selected": null,
       "selected_style": {},
       "stroke_width": 2.0,
       "tooltip": null,
       "tooltip_location": "mouse",
       "tooltip_style": {
        "opacity": 0.9
       },
       "unselected_style": {},
       "visible": true,
       "x": {
        "dtype": "float64",
        "shape": [
         0
        ],
        "type": null
       },
       "y": {
        "dtype": "float64",
        "shape": [
         0
        ],
        "type": null
       }
      }
     },
     "9606c42fc634457d8a2624bbe1a59d41": {
      "model_module": "@jupyter-widgets/controls",
      "model_module_version": "2.0.0",
      "model_name": "LabelModel",
      "state": {
       "_dom_classes": [],
       "_model_module": "@jupyter-widgets/controls",
       "_model_module_version": "2.0.0",
       "_model_name": "LabelModel",
       "_view_count": null,
       "_view_module": "@jupyter-widgets/controls",
       "_view_module_version": "2.0.0",
       "_view_name": "LabelView",
       "description": "",
       "description_allow_html": false,
       "layout": "IPY_MODEL_d556f25040454349b3176ee54a6d39cf",
       "placeholder": "​",
       "style": "IPY_MODEL_ba877845b45d4a50882197ff59dabc33",
       "tabbable": null,
       "tooltip": null,
       "value": "Current temp: 0.0 ℃"
      }
     },
     "9636629c58b343e2a7eb1bb25f5c097a": {
      "model_module": "@jupyter-widgets/base",
      "model_module_version": "2.0.0",
      "model_name": "LayoutModel",
      "state": {
       "_model_module": "@jupyter-widgets/base",
       "_model_module_version": "2.0.0",
       "_model_name": "LayoutModel",
       "_view_count": null,
       "_view_module": "@jupyter-widgets/base",
       "_view_module_version": "2.0.0",
       "_view_name": "LayoutView",
       "align_content": null,
       "align_items": null,
       "align_self": null,
       "border_bottom": null,
       "border_left": null,
       "border_right": null,
       "border_top": null,
       "bottom": null,
       "display": null,
       "flex": null,
       "flex_flow": null,
       "grid_area": null,
       "grid_auto_columns": null,
       "grid_auto_flow": null,
       "grid_auto_rows": null,
       "grid_column": null,
       "grid_gap": null,
       "grid_row": null,
       "grid_template_areas": null,
       "grid_template_columns": null,
       "grid_template_rows": null,
       "height": "10%",
       "justify_content": null,
       "justify_items": null,
       "left": null,
       "margin": null,
       "max_height": null,
       "max_width": null,
       "min_height": null,
       "min_width": null,
       "object_fit": null,
       "object_position": null,
       "order": null,
       "overflow": null,
       "padding": null,
       "right": null,
       "top": null,
       "visibility": null,
       "width": "87.5%"
      }
     },
     "9fa894a445a048db9194db1670162743": {
      "model_module": "bqplot",
      "model_module_version": "^0.5",
      "model_name": "LinearScaleModel",
      "state": {
       "_model_module": "bqplot",
       "_model_module_version": "^0.5",
       "_model_name": "LinearScaleModel",
       "_view_count": null,
       "_view_module": "bqplot",
       "_view_module_version": "^0.5",
       "_view_name": "LinearScale",
       "allow_padding": false,
       "max": 1.0,
       "mid_range": 0.8,
       "min": 0.0,
       "min_range": 0.6,
       "reverse": false,
       "stabilized": false
      }
     },
     "a163f239874d4b02b6bc24761740d268": {
      "buffers": [
       {
        "data": "AAAAAAAAAAA=",
        "encoding": "base64",
        "path": [
         "x",
         "value"
        ]
       },
       {
        "data": "AAAAAAAAAAA=",
        "encoding": "base64",
        "path": [
         "y",
         "value"
        ]
       }
      ],
      "model_module": "bqplot",
      "model_module_version": "^0.5",
      "model_name": "LinesModel",
      "state": {
       "_model_module": "bqplot",
       "_model_module_version": "^0.5",
       "_model_name": "LinesModel",
       "_view_count": null,
       "_view_module": "bqplot",
       "_view_module_version": "^0.5",
       "_view_name": "Lines",
       "apply_clip": true,
       "close_path": false,
       "color": null,
       "colors": [
        "#f7a500"
       ],
       "curves_subset": [],
       "display_legend": true,
       "enable_hover": true,
       "fill": "none",
       "fill_colors": [],
       "fill_opacities": [],
       "interactions": {
        "hover": "tooltip"
       },
       "interpolation": "linear",
       "labels": [
        "ΔT"
       ],
       "labels_visibility": "none",
       "line_style": "solid",
       "marker": null,
       "marker_size": 64,
       "opacities": [],
       "preserve_domain": {},
       "scales": {
        "x": "IPY_MODEL_24da94a47a46493397daf2009a6ccdde",
        "y": "IPY_MODEL_0e9ccd350da14c869f647aacb9b13528"
       },
       "scales_metadata": {
        "color": {
         "dimension": "color"
        },
        "x": {
         "dimension": "x",
         "orientation": "horizontal"
        },
        "y": {
         "dimension": "y",
         "orientation": "vertical"
        }
       },
       "selected": null,
       "selected_style": {},
       "stroke_width": 2.0,
       "tooltip": null,
       "tooltip_location": "mouse",
       "tooltip_style": {
        "opacity": 0.9
       },
       "unselected_style": {},
       "visible": true,
       "x": {
        "dtype": "float64",
        "shape": [
         1
        ],
        "type": null
       },
       "y": {
        "dtype": "float64",
        "shape": [
         1
        ],
        "type": null
       }
      }
     },
     "a3309e90929e49d0afdd2bff97d77e81": {
      "model_module": "@jupyter-widgets/base",
      "model_module_version": "2.0.0",
      "model_name": "LayoutModel",
      "state": {
       "_model_module": "@jupyter-widgets/base",
       "_model_module_version": "2.0.0",
       "_model_name": "LayoutModel",
       "_view_count": null,
       "_view_module": "@jupyter-widgets/base",
       "_view_module_version": "2.0.0",
       "_view_name": "LayoutView",
       "align_content": null,
       "align_items": null,
       "align_self": null,
       "border_bottom": null,
       "border_left": null,
       "border_right": null,
       "border_top": null,
       "bottom": null,
       "display": null,
       "flex": null,
       "flex_flow": null,
       "grid_area": null,
       "grid_auto_columns": null,
       "grid_auto_flow": null,
       "grid_auto_rows": null,
       "grid_column": null,
       "grid_gap": null,
       "grid_row": null,
       "grid_template_areas": null,
       "grid_template_columns": null,
       "grid_template_rows": null,
       "height": "100%",
       "justify_content": null,
       "justify_items": null,
       "left": null,
       "margin": null,
       "max_height": null,
       "max_width": null,
       "min_height": null,
       "min_width": null,
       "object_fit": null,
       "object_position": null,
       "order": null,
       "overflow": null,
       "padding": null,
       "right": null,
       "top": null,
       "visibility": null,
       "width": "28%"
      }
     },
     "a52ee71fdca94fd0bb72fc5ca49c6413": {
      "buffers": [
       {
        "data": "AAAAAAAAAAA=",
        "encoding": "base64",
        "path": [
         "x",
         "value"
        ]
       },
       {
        "data": "AAAAAAAAAAA=",
        "encoding": "base64",
        "path": [
         "y",
         "value"
        ]
       }
      ],
      "model_module": "bqplot",
      "model_module_version": "^0.5",
      "model_name": "LinesModel",
      "state": {
       "_model_module": "bqplot",
       "_model_module_version": "^0.5",
       "_model_name": "LinesModel",
       "_view_count": null,
       "_view_module": "bqplot",
       "_view_module_version": "^0.5",
       "_view_name": "Lines",
       "apply_clip": true,
       "close_path": false,
       "color": null,
       "colors": [
        "#3c9dd0"
       ],
       "curves_subset": [],
       "display_legend": true,
       "enable_hover": true,
       "fill": "none",
       "fill_colors": [],
       "fill_opacities": [],
       "interactions": {
        "hover": "tooltip"
       },
       "interpolation": "linear",
       "labels": [
        "Reference"
       ],
       "labels_visibility": "none",
       "line_style": "solid",
       "marker": null,
       "marker_size": 64,
       "opacities": [],
       "preserve_domain": {},
       "scales": {
        "x": "IPY_MODEL_24da94a47a46493397daf2009a6ccdde",
        "y": "IPY_MODEL_2f2fbff894d14e4d9c1247a39239d99a"
       },
       "scales_metadata": {
        "color": {
         "dimension": "color"
        },
        "x": {
         "dimension": "x",
         "orientation": "horizontal"
        },
        "y": {
         "dimension": "y",
         "orientation": "vertical"
        }
       },
       "selected": null,
       "selected_style": {},
       "stroke_width": 2.0,
       "tooltip": null,
       "tooltip_location": "mouse",
       "tooltip_style": {
        "opacity": 0.9
       },
       "unselected_style": {},
       "visible": true,
       "x": {
        "dtype": "float64",
        "shape": [
         1
        ],
        "type": null
       },
       "y": {
        "dtype": "float64",
        "shape": [
         1
        ],
        "type": null
       }
      }
     },
     "a606b9bd7c034ddf95daba893279ee8b": {
      "model_module": "bqplot",
      "model_module_version": "^0.5",
      "model_name": "AxisModel",
      "state": {
       "_model_module": "bqplot",
       "_model_module_version": "^0.5",
       "_model_name": "AxisModel",
       "_view_count": null,
       "_view_module": "bqplot",
       "_view_module_version": "^0.5",
       "_view_name": "Axis",
       "color": null,
       "grid_color": null,
       "grid_lines": "solid",
       "label": "Temperature (C)",
       "label_color": null,
       "label_location": "middle",
       "label_offset": null,
       "num_ticks": 7,
       "offset": {},
       "orientation": "vertical",
       "scale": "IPY_MODEL_2f2fbff894d14e4d9c1247a39239d99a",
       "side": "left",
       "tick_format": "0.0f",
       "tick_rotate": 0,
       "tick_style": {},
       "tick_values": null,
       "visible": true
      }
     },
     "abe5d078368448d69c9cde71a45343c6": {
      "model_module": "@jupyter-widgets/controls",
      "model_module_version": "2.0.0",
      "model_name": "ButtonStyleModel",
      "state": {
       "_model_module": "@jupyter-widgets/controls",
       "_model_module_version": "2.0.0",
       "_model_name": "ButtonStyleModel",
       "_view_count": null,
       "_view_module": "@jupyter-widgets/base",
       "_view_module_version": "2.0.0",
       "_view_name": "StyleView",
       "button_color": null,
       "font_family": null,
       "font_size": null,
       "font_style": null,
       "font_variant": null,
       "font_weight": null,
       "text_color": null,
       "text_decoration": null
      }
     },
     "b2b90d2df0c5430eb03899d8e3733857": {
      "model_module": "@jupyter-widgets/base",
      "model_module_version": "2.0.0",
      "model_name": "LayoutModel",
      "state": {
       "_model_module": "@jupyter-widgets/base",
       "_model_module_version": "2.0.0",
       "_model_name": "LayoutModel",
       "_view_count": null,
       "_view_module": "@jupyter-widgets/base",
       "_view_module_version": "2.0.0",
       "_view_name": "LayoutView",
       "align_content": null,
       "align_items": null,
       "align_self": null,
       "border_bottom": null,
       "border_left": null,
       "border_right": null,
       "border_top": null,
       "bottom": null,
       "display": null,
       "flex": null,
       "flex_flow": null,
       "grid_area": null,
       "grid_auto_columns": null,
       "grid_auto_flow": null,
       "grid_auto_rows": null,
       "grid_column": null,
       "grid_gap": null,
       "grid_row": null,
       "grid_template_areas": null,
       "grid_template_columns": null,
       "grid_template_rows": null,
       "height": "100%",
       "justify_content": null,
       "justify_items": null,
       "left": null,
       "margin": null,
       "max_height": null,
       "max_width": null,
       "min_height": null,
       "min_width": null,
       "object_fit": null,
       "object_position": null,
       "order": null,
       "overflow": null,
       "padding": null,
       "right": null,
       "top": null,
       "visibility": null,
       "width": "28%"
      }
     },
     "b6fa50956af945a08dd748136ce232ac": {
      "model_module": "bqplot",
      "model_module_version": "^0.5",
      "model_name": "AxisModel",
      "state": {
       "_model_module": "bqplot",
       "_model_module_version": "^0.5",
       "_model_name": "AxisModel",
       "_view_count": null,
       "_view_module": "bqplot",
       "_view_module_version": "^0.5",
       "_view_name": "Axis",
       "color": null,
       "grid_color": null,
       "grid_lines": "solid",
       "label": "ΔT (K)",
       "label_color": null,
       "label_location": "middle",
       "label_offset": null,
       "num_ticks": 7,
       "offset": {},
       "orientation": "vertical",
       "scale": "IPY_MODEL_0e9ccd350da14c869f647aacb9b13528",
       "side": "right",
       "tick_format": "0.1f",
       "tick_rotate": 0,
       "tick_style": {},
       "tick_values": null,
       "visible": true
      }
     },
     "ba877845b45d4a50882197ff59dabc33": {
      "model_module": "@jupyter-widgets/controls",
      "model_module_version": "2.0.0",
      "model_name": "LabelStyleModel",
      "state": {
       "_model_module": "@jupyter-widgets/controls",
       "_model_module_version": "2.0.0",
       "_model_name": "LabelStyleModel",
       "_view_count": null,
       "_view_module": "@jupyter-widgets/base",
       "_view_module_version": "2.0.0",
       "_view_name": "StyleView",
       "background": null,
       "description_width": "",
       "font_family": null,
       "font_size": null,
       "font_style": null,
       "font_variant": null,
       "font_weight": null,
       "text_color": null,
       "text_decoration": null
      }
     },
     "bcbe3faf369a41dda036975c23fbf3ac": {
      "model_module": "bqplot",
      "model_module_version": "^0.5",
      "model_name": "LinearScaleModel",
      "state": {
       "_model_module": "bqplot",
       "_model_module_version": "^0.5",
       "_model_name": "LinearScaleModel",
       "_view_count": null,
       "_view_module": "bqplot",
       "_view_module_version": "^0.5",
       "_view_name": "LinearScale",
       "allow_padding": false,
       "max": 1.0,
       "mid_range": 0.8,
       "min": 0.0,
       "min_range": 0.6,
       "reverse": false,
       "stabilized": false
      }
     },
     "bd31481313074cb78acf4fb26c2cdea2": {
      "model_module": "bqplot",
      "model_module_version": "^0.5",
      "model_name": "AxisModel",
      "state": {
       "_model_module": "bqplot",
       "_model_module_version": "^0.5",
       "_model_name": "AxisModel",
       "_view_count": null,
       "_view_module": "bqplot",
       "_view_module_version": "^0.5",
       "_view_name": "Axis",
       "color": null,
       "grid_color": null,
       "grid_lines": "solid",
       "label": "Time (s)",
       "label_color": null,
       "label_location": "middle",
       "label_offset": null,
       "num_ticks": 6,
       "offset": {},
       "orientation": "horizontal",
       "scale": "IPY_MODEL_24da94a47a46493397daf2009a6ccdde",
       "side": null,
       "tick_format": null,
       "tick_rotate": 0,
       "tick_style": {},
       "tick_values": null,
       "visible": true
      }
     },
     "be4afd6d229e46de9bd8e184e19cf977": {
      "buffers": [
       {
        "data": "AAAAAAAAAAA=",
        "encoding": "base64",
        "path": [
         "x",
         "value"
        ]
       },
       {
        "data": "AAAAAAAAAAA=",
        "encoding": "base64",
        "path": [
         "y",
         "value"
        ]
       }
      ],
      "model_module": "bqplot",
      "model_module_version": "^0.5",
      "model_name": "LinesModel",
      "state": {
       "_model_module": "bqplot",
       "_model_module_version": "^0.5",
       "_model_name": "LinesModel",
       "_view_count": null,
       "_view_module": "bqplot",
       "_view_module_version": "^0.5",
       "_view_name": "Lines",
       "apply_clip": true,
       "close_path": false,
       "color": null,
       "colors": [
        "#ff000f"
       ],
       "curves_subset": [],
       "display_legend": true,
       "enable_hover": true,
       "fill": "none",
       "fill_colors": [],
       "fill_opacities": [],
       "interactions": {
        "hover": "tooltip"
       },
       "interpolation": "linear",
       "labels": [
        "Programme"
       ],
       "labels_visibility": "none",
       "line_style": "dashed",
       "marker": null,
       "marker_size": 64,
       "opacities": [],
       "preserve_domain": {},
       "scales": {
        "x": "IPY_MODEL_24da94a47a46493397daf2009a6ccdde",
        "y": "IPY_MODEL_2f2fbff894d14e4d9c1247a39239d99a"
       },
       "scales_metadata": {
        "color": {
         "dimension": "color"
        },
        "x": {
         "dimension": "x",
         "orientation": "horizontal"
        },
        "y": {
         "dimension": "y",
         "orientation": "vertical"
        }
       },
       "selected": null,
       "selected_style": {},
       "stroke_width": 2.0,
       "tooltip": null,
       "tooltip_location": "mouse",
       "tooltip_style": {
        "opacity": 0.9
       },
       "unselected_style": {},
       "visible": true,
       "x": {
        "dtype": "float64",
        "shape": [
         1
        ],
        "type": null
       },
       "y": {
        "dtype": "float64",
        "shape": [
         1
        ],
        "type": null
       }
      }
     },
     "c3e9cf30408d44ce8437b840227b1159": {
      "model_module": "@jupyter-widgets/controls",
      "model_module_version": "2.0.0",
      "model_name": "VBoxModel",
      "state": {
       "_dom_classes": [],
       "_model_module": "@jupyter-widgets/controls",
       "_model_module_version": "2.0.0",
       "_model_name": "VBoxModel",
       "_view_count": null,
       "_view_module": "@jupyter-widgets/controls",
       "_view_module_version": "2.0.0",
       "_view_name": "VBoxView",
       "box_style": "",
       "children": [
        "IPY_MODEL_70b160033ad840fd8c4f6af380559fc1",
        "IPY_MODEL_9606c42fc634457d8a2624bbe1a59d41",
        "IPY_MODEL_2f126f778dc047668a75fb9c408e055a"
       ],
       "layout": "IPY_MODEL_4f54de7e71ad4734acb0cdc92ca53fbc",
       "tabbable": null,
       "tooltip": null
      }
     },
     "cc32320adc744a82a9a7536a4f802f88": {
      "model_module": "bqplot",
      "model_module_version": "^0.5",
      "model_name": "FigureModel",
      "state": {
       "_dom_classes": [],
       "_model_module": "bqplot",
       "_model_module_version": "^0.5",
       "_model_name": "FigureModel",
       "_view_count": null,
       "_view_module": "bqplot",
       "_view_module_version": "^0.5",
       "_view_name": "Figure",
       "animation_duration": 0,
       "axes": [
        "IPY_MODEL_bd31481313074cb78acf4fb26c2cdea2",
        "IPY_MODEL_a606b9bd7c034ddf95daba893279ee8b",
        "IPY_MODEL_b6fa50956af945a08dd748136ce232ac"
       ],
       "background_style": {},
       "fig_margin": {
        "bottom": 50,
        "left": 45,
        "right": 70,
        "top": 25
       },
       "interaction": null,
       "layout": "IPY_MODEL_0b891c7135bb48f4a88c22875b17dcab",
       "legend_location": "top-right",
       "legend_style": {},
       "legend_text": {},
       "marks": [
        "IPY_MODEL_0299793c2e294504ae41bb58139c1724",
        "IPY_MODEL_be4afd6d229e46de9bd8e184e19cf977",
        "IPY_MODEL_63cc65764a1848cba569c9a908fabd09",
        "IPY_MODEL_a163f239874d4b02b6bc24761740d268"
       ],
       "max_aspect_ratio": 100.0,
       "min_aspect_ratio": 0.01,
       "padding_x": 0.0,
       "padding_y": 0.025,
       "pixel_ratio": null,
       "scale_x": "IPY_MODEL_9fa894a445a048db9194db1670162743",
       "scale_y": "IPY_MODEL_bcbe3faf369a41dda036975c23fbf3ac",
       "tabbable": null,
       "theme": "classic",
       "title": "",
       "title_style": {},
       "tooltip": null
      }
     },
     "cdd854f5e9bb4ed8811c43ccff87751b": {
      "model_module": "@jupyter-widgets/controls",
      "model_module_version": "2.0.0",
      "model_name": "ButtonModel",
      "state": {
       "_dom_classes": [],
       "_model_module": "@jupyter-widgets/controls",
       "_model_module_version": "2.0.0",
       "_model_name": "ButtonModel",
       "_view_count": null,
       "_view_module": "@jupyter-widgets/controls",
       "_view_module_version": "2.0.0",
       "_view_name": "ButtonView",
       "button_style": "warning",
       "description": "Stop",
       "disabled": false,
       "icon": "stop",
       "layout": "IPY_MODEL_a3309e90929e49d0afdd2bff97d77e81",
       "style": "IPY_MODEL_abe5d078368448d69c9cde71a45343c6",
       "tabbable": null,
       "tooltip": null
      }
     },
     "d556f25040454349b3176ee54a6d39cf": {
      "model_module": "@jupyter-widgets/base",
      "model_module_version": "2.0.0",
      "model_name": "LayoutModel",
      "state": {
       "_model_module": "@jupyter-widgets/base",
       "_model_module_version": "2.0.0",
       "_model_name": "LayoutModel",
       "_view_count": null,
       "_view_module": "@jupyter-widgets/base",
       "_view_module_version": "2.0.0",
       "_view_name": "LayoutView",
       "align_content": null,
       "align_items": null,
       "align_self": null,
       "border_bottom": null,
       "border_left": null,
       "border_right": null,
       "border_top": null,
       "bottom": null,
       "display": null,
       "flex": null,
       "flex_flow": null,
       "grid_area": null,
       "grid_auto_columns": null,
       "grid_auto_flow": null,
       "grid_auto_rows": null,
       "grid_column": null,
       "grid_gap": null,
       "grid_row": null,
       "grid_template_areas": null,
       "grid_template_columns": null,
       "grid_template_rows": null,
       "height": "33%",
       "justify_content": null,
       "justify_items": null,
       "left": null,
       "margin": null,
       "max_height": null,
       "max_width": null,
       "min_height": null,
       "min_width": null,
       "object_fit": null,
       "object_position": null,
       "order": null,
       "overflow": null,
       "padding": null,
       "right": null,
       "top": null,
       "visibility": null,
       "width": "72%"
      }
     },
     "dd10f61e1a584c03a5fba0bf36284dfd": {
      "model_module": "@jupyter-widgets/controls",
      "model_module_version": "2.0.0",
      "model_name": "HBoxModel",
      "state": {
       "_dom_classes": [],
       "_model_module": "@jupyter-widgets/controls",
       "_model_module_version": "2.0.0",
       "_model_name": "HBoxModel",
       "_view_count": null,
       "_view_module": "@jupyter-widgets/controls",
       "_view_module_version": "2.0.0",
       "_view_name": "HBoxView",
       "box_style": "",
       "children": [
        "IPY_MODEL_32799da6de664166af471a8b20b0142c",
        "IPY_MODEL_cdd854f5e9bb4ed8811c43ccff87751b",
        "IPY_MODEL_8059f92b204447e78fd5966769d12175"
       ],
       "layout": "IPY_MODEL_9636629c58b343e2a7eb1bb25f5c097a",
       "tabbable": null,
       "tooltip": null
      }
     }
    },
    "version_major": 2,
    "version_minor": 0
   }
  }
 },
 "nbformat": 4,
 "nbformat_minor": 5
}