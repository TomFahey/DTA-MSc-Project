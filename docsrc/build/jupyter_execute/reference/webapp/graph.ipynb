{
 "cells": [
  {
   "cell_type": "code",
   "execution_count": 1,
   "id": "1d1c6792",
   "metadata": {
    "execution": {
     "iopub.execute_input": "2023-02-28T12:29:56.702658Z",
     "iopub.status.busy": "2023-02-28T12:29:56.688090Z",
     "iopub.status.idle": "2023-02-28T12:30:02.489466Z",
     "shell.execute_reply": "2023-02-28T12:30:02.475860Z"
    }
   },
   "outputs": [
    {
     "data": {
      "application/vnd.jupyter.widget-view+json": {
       "model_id": "a1c6a230bbeb4e4aa64f36e88c0ee714",
       "version_major": 2,
       "version_minor": 0
      },
      "text/plain": [
       "HBox(children=(Button(button_style='warning', description='Run', icon='play', layout=Layout(height='100%', wid…"
      ]
     },
     "metadata": {},
     "output_type": "display_data"
    }
   ],
   "source": [
    "import os\n",
    "import sys\n",
    "\n",
    "ROOT_DIR = os.path.abspath('../')\n",
    "WEBAPP_PATH = ROOT_DIR + '/src/dashboard/'\n",
    "sys.path.insert(0, WEBAPP_PATH)\n",
    "\n",
    "from webapp.graph import command_box\n",
    "display(command_box)"
   ]
  },
  {
   "cell_type": "code",
   "execution_count": 2,
   "id": "a9e5d6d1",
   "metadata": {
    "execution": {
     "iopub.execute_input": "2023-02-28T12:30:02.527800Z",
     "iopub.status.busy": "2023-02-28T12:30:02.518751Z",
     "iopub.status.idle": "2023-02-28T12:30:02.670023Z",
     "shell.execute_reply": "2023-02-28T12:30:02.651701Z"
    }
   },
   "outputs": [
    {
     "data": {
      "application/vnd.jupyter.widget-view+json": {
       "model_id": "175a7c1de9984190bce7b6cfb3fce8ef",
       "version_major": 2,
       "version_minor": 0
      },
      "text/plain": [
       "Figure(axes=[Axis(label='Time (s)', num_ticks=6, scale=LinearScale(min=0.0)), Axis(label='Temperature (C)', nu…"
      ]
     },
     "metadata": {},
     "output_type": "display_data"
    }
   ],
   "source": [
    "import os\n",
    "import sys\n",
    "\n",
    "ROOT_DIR = os.path.abspath('../')\n",
    "WEBAPP_PATH = ROOT_DIR + '/src/dashboard/'\n",
    "sys.path.insert(0, WEBAPP_PATH)\n",
    "\n",
    "from webapp.graph import fig\n",
    "display(fig)"
   ]
  },
  {
   "cell_type": "code",
   "execution_count": 3,
   "id": "8f5262fb",
   "metadata": {
    "execution": {
     "iopub.execute_input": "2023-02-28T12:30:02.717859Z",
     "iopub.status.busy": "2023-02-28T12:30:02.711964Z",
     "iopub.status.idle": "2023-02-28T12:30:02.814944Z",
     "shell.execute_reply": "2023-02-28T12:30:02.807404Z"
    }
   },
   "outputs": [
    {
     "data": {
      "application/vnd.jupyter.widget-view+json": {
       "model_id": "cc0d68c12cb9427f80cf8be05c4a57d6",
       "version_major": 2,
       "version_minor": 0
      },
      "text/plain": [
       "VBox(children=(FloatProgress(value=0.0, description='Heating run:', layout=Layout(height='33%', width='56%'), …"
      ]
     },
     "metadata": {},
     "output_type": "display_data"
    }
   ],
   "source": [
    "import os\n",
    "import sys\n",
    "\n",
    "ROOT_DIR = os.path.abspath('../')\n",
    "WEBAPP_PATH = ROOT_DIR + '/src/dashboard/'\n",
    "sys.path.insert(0, WEBAPP_PATH)\n",
    "\n",
    "from webapp.graph import info_box\n",
    "display(info_box)"
   ]
  },
  {
   "cell_type": "code",
   "execution_count": 4,
   "id": "ceb198bf",
   "metadata": {
    "execution": {
     "iopub.execute_input": "2023-02-28T12:30:02.849961Z",
     "iopub.status.busy": "2023-02-28T12:30:02.845992Z",
     "iopub.status.idle": "2023-02-28T12:30:03.004449Z",
     "shell.execute_reply": "2023-02-28T12:30:02.995812Z"
    }
   },
   "outputs": [
    {
     "data": {
      "application/vnd.jupyter.widget-view+json": {
       "model_id": "ed76bd468e864f1687e98e4cc26539ff",
       "version_major": 2,
       "version_minor": 0
      },
      "text/plain": [
       "VBox(children=(HBox(children=(Button(button_style='warning', description='Run', icon='play', layout=Layout(hei…"
      ]
     },
     "metadata": {},
     "output_type": "display_data"
    }
   ],
   "source": [
    "import os\n",
    "import sys\n",
    "\n",
    "ROOT_DIR = os.path.abspath('../')\n",
    "WEBAPP_PATH = ROOT_DIR + '/src/dashboard/'\n",
    "sys.path.insert(0, WEBAPP_PATH)\n",
    "\n",
    "from webapp.graph import app\n",
    "display(app)"
   ]
  }
 ],
 "metadata": {
  "kernelspec": {
   "display_name": "Python 3 (ipykernel)",
   "language": "python",
   "name": "python3"
  },
  "language_info": {
   "codemirror_mode": {
    "name": "ipython",
    "version": 3
   },
   "file_extension": ".py",
   "mimetype": "text/x-python",
   "name": "python",
   "nbconvert_exporter": "python",
   "pygments_lexer": "ipython3",
   "version": "3.7.3"
  },
  "widgets": {
   "application/vnd.jupyter.widget-state+json": {
    "state": {
     "01c7e35919a243a08db7e361bf974a72": {
      "model_module": "@jupyter-widgets/controls",
      "model_module_version": "2.0.0",
      "model_name": "LabelStyleModel",
      "state": {
       "_model_module": "@jupyter-widgets/controls",
       "_model_module_version": "2.0.0",
       "_model_name": "LabelStyleModel",
       "_view_count": null,
       "_view_module": "@jupyter-widgets/base",
       "_view_module_version": "2.0.0",
       "_view_name": "StyleView",
       "background": null,
       "description_width": "",
       "font_family": null,
       "font_size": null,
       "font_style": null,
       "font_variant": null,
       "font_weight": null,
       "text_color": null,
       "text_decoration": null
      }
     },
     "05cba4255bfe4113ab10bd2c04653ba1": {
      "model_module": "@jupyter-widgets/base",
      "model_module_version": "2.0.0",
      "model_name": "LayoutModel",
      "state": {
       "_model_module": "@jupyter-widgets/base",
       "_model_module_version": "2.0.0",
       "_model_name": "LayoutModel",
       "_view_count": null,
       "_view_module": "@jupyter-widgets/base",
       "_view_module_version": "2.0.0",
       "_view_name": "LayoutView",
       "align_content": null,
       "align_items": null,
       "align_self": null,
       "border_bottom": null,
       "border_left": null,
       "border_right": null,
       "border_top": null,
       "bottom": null,
       "display": null,
       "flex": null,
       "flex_flow": null,
       "grid_area": null,
       "grid_auto_columns": null,
       "grid_auto_flow": null,
       "grid_auto_rows": null,
       "grid_column": null,
       "grid_gap": null,
       "grid_row": null,
       "grid_template_areas": null,
       "grid_template_columns": null,
       "grid_template_rows": null,
       "height": "15%",
       "justify_content": null,
       "justify_items": null,
       "left": null,
       "margin": null,
       "max_height": null,
       "max_width": null,
       "min_height": null,
       "min_width": null,
       "object_fit": null,
       "object_position": null,
       "order": null,
       "overflow": null,
       "padding": null,
       "right": null,
       "top": null,
       "visibility": null,
       "width": "75%"
      }
     },
     "10923fcd67f1422bb2bd77ead7295823": {
      "buffers": [
       {
        "data": "",
        "encoding": "base64",
        "path": [
         "x",
         "value"
        ]
       },
       {
        "data": "",
        "encoding": "base64",
        "path": [
         "y",
         "value"
        ]
       }
      ],
      "model_module": "bqplot",
      "model_module_version": "^0.5",
      "model_name": "LinesModel",
      "state": {
       "_model_module": "bqplot",
       "_model_module_version": "^0.5",
       "_model_name": "LinesModel",
       "_view_count": null,
       "_view_module": "bqplot",
       "_view_module_version": "^0.5",
       "_view_name": "Lines",
       "apply_clip": true,
       "close_path": false,
       "color": null,
       "colors": [
        "#f7a500"
       ],
       "curves_subset": [],
       "display_legend": false,
       "enable_hover": true,
       "fill": "none",
       "fill_colors": [],
       "fill_opacities": [],
       "interactions": {
        "hover": "tooltip"
       },
       "interpolation": "linear",
       "labels": [],
       "labels_visibility": "none",
       "line_style": "solid",
       "marker": null,
       "marker_size": 64,
       "opacities": [
        0.6
       ],
       "preserve_domain": {},
       "scales": {
        "x": "IPY_MODEL_fefde805204a480180d3b03a1a23f524",
        "y": "IPY_MODEL_1dd8233e5b0c4994bd85fd8e3e4e42b4"
       },
       "scales_metadata": {
        "color": {
         "dimension": "color"
        },
        "x": {
         "dimension": "x",
         "orientation": "horizontal"
        },
        "y": {
         "dimension": "y",
         "orientation": "vertical"
        }
       },
       "selected": null,
       "selected_style": {},
       "stroke_width": 2.0,
       "tooltip": null,
       "tooltip_location": "mouse",
       "tooltip_style": {
        "opacity": 0.9
       },
       "unselected_style": {},
       "visible": true,
       "x": {
        "dtype": "float64",
        "shape": [
         0
        ],
        "type": null
       },
       "y": {
        "dtype": "float64",
        "shape": [
         0
        ],
        "type": null
       }
      }
     },
     "175a7c1de9984190bce7b6cfb3fce8ef": {
      "model_module": "bqplot",
      "model_module_version": "^0.5",
      "model_name": "FigureModel",
      "state": {
       "_dom_classes": [],
       "_model_module": "bqplot",
       "_model_module_version": "^0.5",
       "_model_name": "FigureModel",
       "_view_count": null,
       "_view_module": "bqplot",
       "_view_module_version": "^0.5",
       "_view_name": "Figure",
       "animation_duration": 0,
       "axes": [
        "IPY_MODEL_241ee01c4d0541b9ad95c27ca166f4e6",
        "IPY_MODEL_34c5bed238fa402d981147477debb218",
        "IPY_MODEL_f2b40cc8b190494197377c10384d4ee8"
       ],
       "background_style": {},
       "fig_margin": {
        "bottom": 50,
        "left": 45,
        "right": 70,
        "top": 25
       },
       "interaction": null,
       "layout": "IPY_MODEL_3d00b6236987405f85aa934a0b6c6ec7",
       "legend_location": "top-right",
       "legend_style": {},
       "legend_text": {},
       "marks": [
        "IPY_MODEL_76887a9509f142f3979666e3e2dc7784",
        "IPY_MODEL_422fbb2233144518aa6936a1ba725397",
        "IPY_MODEL_7b8930b32da44f78a6f24f96899cbacc",
        "IPY_MODEL_65455e96bf0b435c99a94de86524686b"
       ],
       "max_aspect_ratio": 100.0,
       "min_aspect_ratio": 0.01,
       "padding_x": 0.0,
       "padding_y": 0.025,
       "pixel_ratio": null,
       "scale_x": "IPY_MODEL_33f4181d7aa94f05bc2b8f1ab7f39451",
       "scale_y": "IPY_MODEL_9446f87a61404c60843a0a9509634695",
       "tabbable": null,
       "theme": "classic",
       "title": "",
       "title_style": {},
       "tooltip": null
      }
     },
     "1dd8233e5b0c4994bd85fd8e3e4e42b4": {
      "model_module": "bqplot",
      "model_module_version": "^0.5",
      "model_name": "LinearScaleModel",
      "state": {
       "_model_module": "bqplot",
       "_model_module_version": "^0.5",
       "_model_name": "LinearScaleModel",
       "_view_count": null,
       "_view_module": "bqplot",
       "_view_module_version": "^0.5",
       "_view_name": "LinearScale",
       "allow_padding": true,
       "max": null,
       "mid_range": 0.8,
       "min": null,
       "min_range": 0.6,
       "reverse": false,
       "stabilized": false
      }
     },
     "241ee01c4d0541b9ad95c27ca166f4e6": {
      "model_module": "bqplot",
      "model_module_version": "^0.5",
      "model_name": "AxisModel",
      "state": {
       "_model_module": "bqplot",
       "_model_module_version": "^0.5",
       "_model_name": "AxisModel",
       "_view_count": null,
       "_view_module": "bqplot",
       "_view_module_version": "^0.5",
       "_view_name": "Axis",
       "color": null,
       "grid_color": null,
       "grid_lines": "solid",
       "label": "Time (s)",
       "label_color": null,
       "label_location": "middle",
       "label_offset": null,
       "num_ticks": 6,
       "offset": {},
       "orientation": "horizontal",
       "scale": "IPY_MODEL_fefde805204a480180d3b03a1a23f524",
       "side": null,
       "tick_format": null,
       "tick_rotate": 0,
       "tick_style": {},
       "tick_values": null,
       "visible": true
      }
     },
     "27ac51cfb03144e394096eff98645c7c": {
      "model_module": "@jupyter-widgets/base",
      "model_module_version": "2.0.0",
      "model_name": "LayoutModel",
      "state": {
       "_model_module": "@jupyter-widgets/base",
       "_model_module_version": "2.0.0",
       "_model_name": "LayoutModel",
       "_view_count": null,
       "_view_module": "@jupyter-widgets/base",
       "_view_module_version": "2.0.0",
       "_view_name": "LayoutView",
       "align_content": null,
       "align_items": null,
       "align_self": null,
       "border_bottom": null,
       "border_left": null,
       "border_right": null,
       "border_top": null,
       "bottom": null,
       "display": null,
       "flex": null,
       "flex_flow": null,
       "grid_area": null,
       "grid_auto_columns": null,
       "grid_auto_flow": null,
       "grid_auto_rows": null,
       "grid_column": null,
       "grid_gap": null,
       "grid_row": null,
       "grid_template_areas": null,
       "grid_template_columns": null,
       "grid_template_rows": null,
       "height": "100%",
       "justify_content": null,
       "justify_items": null,
       "left": null,
       "margin": null,
       "max_height": null,
       "max_width": null,
       "min_height": null,
       "min_width": null,
       "object_fit": null,
       "object_position": null,
       "order": null,
       "overflow": null,
       "padding": null,
       "right": null,
       "top": null,
       "visibility": null,
       "width": "28%"
      }
     },
     "33f4181d7aa94f05bc2b8f1ab7f39451": {
      "model_module": "bqplot",
      "model_module_version": "^0.5",
      "model_name": "LinearScaleModel",
      "state": {
       "_model_module": "bqplot",
       "_model_module_version": "^0.5",
       "_model_name": "LinearScaleModel",
       "_view_count": null,
       "_view_module": "bqplot",
       "_view_module_version": "^0.5",
       "_view_name": "LinearScale",
       "allow_padding": false,
       "max": 1.0,
       "mid_range": 0.8,
       "min": 0.0,
       "min_range": 0.6,
       "reverse": false,
       "stabilized": false
      }
     },
     "347954f152824cdab62b2c65812e8c04": {
      "model_module": "@jupyter-widgets/controls",
      "model_module_version": "2.0.0",
      "model_name": "ButtonModel",
      "state": {
       "_dom_classes": [],
       "_model_module": "@jupyter-widgets/controls",
       "_model_module_version": "2.0.0",
       "_model_name": "ButtonModel",
       "_view_count": null,
       "_view_module": "@jupyter-widgets/controls",
       "_view_module_version": "2.0.0",
       "_view_name": "ButtonView",
       "button_style": "warning",
       "description": "Reset",
       "disabled": false,
       "icon": "restart",
       "layout": "IPY_MODEL_876a27468979445bbc6601c534e318e7",
       "style": "IPY_MODEL_98eb86c329a540629d4c739aa2da67ec",
       "tabbable": null,
       "tooltip": null
      }
     },
     "34c5bed238fa402d981147477debb218": {
      "model_module": "bqplot",
      "model_module_version": "^0.5",
      "model_name": "AxisModel",
      "state": {
       "_model_module": "bqplot",
       "_model_module_version": "^0.5",
       "_model_name": "AxisModel",
       "_view_count": null,
       "_view_module": "bqplot",
       "_view_module_version": "^0.5",
       "_view_name": "Axis",
       "color": null,
       "grid_color": null,
       "grid_lines": "solid",
       "label": "Temperature (C)",
       "label_color": null,
       "label_location": "middle",
       "label_offset": null,
       "num_ticks": 7,
       "offset": {},
       "orientation": "vertical",
       "scale": "IPY_MODEL_afccd365e9ad420da4e40a3467d7971d",
       "side": "left",
       "tick_format": "0.0f",
       "tick_rotate": 0,
       "tick_style": {},
       "tick_values": null,
       "visible": true
      }
     },
     "3d00b6236987405f85aa934a0b6c6ec7": {
      "model_module": "@jupyter-widgets/base",
      "model_module_version": "2.0.0",
      "model_name": "LayoutModel",
      "state": {
       "_model_module": "@jupyter-widgets/base",
       "_model_module_version": "2.0.0",
       "_model_name": "LayoutModel",
       "_view_count": null,
       "_view_module": "@jupyter-widgets/base",
       "_view_module_version": "2.0.0",
       "_view_name": "LayoutView",
       "align_content": null,
       "align_items": null,
       "align_self": null,
       "border_bottom": null,
       "border_left": null,
       "border_right": null,
       "border_top": null,
       "bottom": null,
       "display": null,
       "flex": null,
       "flex_flow": null,
       "grid_area": null,
       "grid_auto_columns": null,
       "grid_auto_flow": null,
       "grid_auto_rows": null,
       "grid_column": null,
       "grid_gap": null,
       "grid_row": null,
       "grid_template_areas": null,
       "grid_template_columns": null,
       "grid_template_rows": null,
       "height": "25em",
       "justify_content": null,
       "justify_items": null,
       "left": null,
       "margin": null,
       "max_height": null,
       "max_width": null,
       "min_height": null,
       "min_width": null,
       "object_fit": null,
       "object_position": null,
       "order": null,
       "overflow": null,
       "padding": null,
       "right": null,
       "top": null,
       "visibility": null,
       "width": "100%"
      }
     },
     "422fbb2233144518aa6936a1ba725397": {
      "buffers": [
       {
        "data": "AAAAAAAAAAA=",
        "encoding": "base64",
        "path": [
         "x",
         "value"
        ]
       },
       {
        "data": "AAAAAAAAAAA=",
        "encoding": "base64",
        "path": [
         "y",
         "value"
        ]
       }
      ],
      "model_module": "bqplot",
      "model_module_version": "^0.5",
      "model_name": "LinesModel",
      "state": {
       "_model_module": "bqplot",
       "_model_module_version": "^0.5",
       "_model_name": "LinesModel",
       "_view_count": null,
       "_view_module": "bqplot",
       "_view_module_version": "^0.5",
       "_view_name": "Lines",
       "apply_clip": true,
       "close_path": false,
       "color": null,
       "colors": [
        "#ff000f"
       ],
       "curves_subset": [],
       "display_legend": true,
       "enable_hover": true,
       "fill": "none",
       "fill_colors": [],
       "fill_opacities": [],
       "interactions": {
        "hover": "tooltip"
       },
       "interpolation": "linear",
       "labels": [
        "Programme"
       ],
       "labels_visibility": "none",
       "line_style": "dashed",
       "marker": null,
       "marker_size": 64,
       "opacities": [],
       "preserve_domain": {},
       "scales": {
        "x": "IPY_MODEL_fefde805204a480180d3b03a1a23f524",
        "y": "IPY_MODEL_afccd365e9ad420da4e40a3467d7971d"
       },
       "scales_metadata": {
        "color": {
         "dimension": "color"
        },
        "x": {
         "dimension": "x",
         "orientation": "horizontal"
        },
        "y": {
         "dimension": "y",
         "orientation": "vertical"
        }
       },
       "selected": null,
       "selected_style": {},
       "stroke_width": 2.0,
       "tooltip": null,
       "tooltip_location": "mouse",
       "tooltip_style": {
        "opacity": 0.9
       },
       "unselected_style": {},
       "visible": true,
       "x": {
        "dtype": "float64",
        "shape": [
         1
        ],
        "type": null
       },
       "y": {
        "dtype": "float64",
        "shape": [
         1
        ],
        "type": null
       }
      }
     },
     "52219949304042db97d6b1a3c17838e6": {
      "model_module": "@jupyter-widgets/controls",
      "model_module_version": "2.0.0",
      "model_name": "ButtonModel",
      "state": {
       "_dom_classes": [],
       "_model_module": "@jupyter-widgets/controls",
       "_model_module_version": "2.0.0",
       "_model_name": "ButtonModel",
       "_view_count": null,
       "_view_module": "@jupyter-widgets/controls",
       "_view_module_version": "2.0.0",
       "_view_name": "ButtonView",
       "button_style": "warning",
       "description": "Stop",
       "disabled": false,
       "icon": "stop",
       "layout": "IPY_MODEL_a231b219483147c788a84f7443e4a563",
       "style": "IPY_MODEL_dc2ebfa9de0f491fa96e19bdc56e2db0",
       "tabbable": null,
       "tooltip": null
      }
     },
     "572f5ac9a330442da7c38e5401db5058": {
      "model_module": "@jupyter-widgets/controls",
      "model_module_version": "2.0.0",
      "model_name": "ButtonModel",
      "state": {
       "_dom_classes": [],
       "_model_module": "@jupyter-widgets/controls",
       "_model_module_version": "2.0.0",
       "_model_name": "ButtonModel",
       "_view_count": null,
       "_view_module": "@jupyter-widgets/controls",
       "_view_module_version": "2.0.0",
       "_view_name": "ButtonView",
       "button_style": "warning",
       "description": "Run",
       "disabled": false,
       "icon": "play",
       "layout": "IPY_MODEL_27ac51cfb03144e394096eff98645c7c",
       "style": "IPY_MODEL_7ba5c0de3e4e4498b38042c132b8dc6b",
       "tabbable": null,
       "tooltip": null
      }
     },
     "65455e96bf0b435c99a94de86524686b": {
      "buffers": [
       {
        "data": "AAAAAAAAAAA=",
        "encoding": "base64",
        "path": [
         "x",
         "value"
        ]
       },
       {
        "data": "AAAAAAAAAAA=",
        "encoding": "base64",
        "path": [
         "y",
         "value"
        ]
       }
      ],
      "model_module": "bqplot",
      "model_module_version": "^0.5",
      "model_name": "LinesModel",
      "state": {
       "_model_module": "bqplot",
       "_model_module_version": "^0.5",
       "_model_name": "LinesModel",
       "_view_count": null,
       "_view_module": "bqplot",
       "_view_module_version": "^0.5",
       "_view_name": "Lines",
       "apply_clip": true,
       "close_path": false,
       "color": null,
       "colors": [
        "#f7a500"
       ],
       "curves_subset": [],
       "display_legend": true,
       "enable_hover": true,
       "fill": "none",
       "fill_colors": [],
       "fill_opacities": [],
       "interactions": {
        "hover": "tooltip"
       },
       "interpolation": "linear",
       "labels": [
        "ΔT"
       ],
       "labels_visibility": "none",
       "line_style": "solid",
       "marker": null,
       "marker_size": 64,
       "opacities": [],
       "preserve_domain": {},
       "scales": {
        "x": "IPY_MODEL_fefde805204a480180d3b03a1a23f524",
        "y": "IPY_MODEL_1dd8233e5b0c4994bd85fd8e3e4e42b4"
       },
       "scales_metadata": {
        "color": {
         "dimension": "color"
        },
        "x": {
         "dimension": "x",
         "orientation": "horizontal"
        },
        "y": {
         "dimension": "y",
         "orientation": "vertical"
        }
       },
       "selected": null,
       "selected_style": {},
       "stroke_width": 2.0,
       "tooltip": null,
       "tooltip_location": "mouse",
       "tooltip_style": {
        "opacity": 0.9
       },
       "unselected_style": {},
       "visible": true,
       "x": {
        "dtype": "float64",
        "shape": [
         1
        ],
        "type": null
       },
       "y": {
        "dtype": "float64",
        "shape": [
         1
        ],
        "type": null
       }
      }
     },
     "76887a9509f142f3979666e3e2dc7784": {
      "buffers": [
       {
        "data": "AAAAAAAAAAA=",
        "encoding": "base64",
        "path": [
         "x",
         "value"
        ]
       },
       {
        "data": "AAAAAAAAAAA=",
        "encoding": "base64",
        "path": [
         "y",
         "value"
        ]
       }
      ],
      "model_module": "bqplot",
      "model_module_version": "^0.5",
      "model_name": "LinesModel",
      "state": {
       "_model_module": "bqplot",
       "_model_module_version": "^0.5",
       "_model_name": "LinesModel",
       "_view_count": null,
       "_view_module": "bqplot",
       "_view_module_version": "^0.5",
       "_view_name": "Lines",
       "apply_clip": true,
       "close_path": false,
       "color": null,
       "colors": [
        "#ff000f"
       ],
       "curves_subset": [],
       "display_legend": true,
       "enable_hover": true,
       "fill": "none",
       "fill_colors": [],
       "fill_opacities": [],
       "interactions": {
        "hover": "tooltip"
       },
       "interpolation": "linear",
       "labels": [
        "Measured"
       ],
       "labels_visibility": "none",
       "line_style": "solid",
       "marker": null,
       "marker_size": 64,
       "opacities": [],
       "preserve_domain": {},
       "scales": {
        "x": "IPY_MODEL_fefde805204a480180d3b03a1a23f524",
        "y": "IPY_MODEL_afccd365e9ad420da4e40a3467d7971d"
       },
       "scales_metadata": {
        "color": {
         "dimension": "color"
        },
        "x": {
         "dimension": "x",
         "orientation": "horizontal"
        },
        "y": {
         "dimension": "y",
         "orientation": "vertical"
        }
       },
       "selected": null,
       "selected_style": {},
       "stroke_width": 2.0,
       "tooltip": null,
       "tooltip_location": "mouse",
       "tooltip_style": {
        "opacity": 0.9
       },
       "unselected_style": {},
       "visible": true,
       "x": {
        "dtype": "float64",
        "shape": [
         1
        ],
        "type": null
       },
       "y": {
        "dtype": "float64",
        "shape": [
         1
        ],
        "type": null
       }
      }
     },
     "7b8930b32da44f78a6f24f96899cbacc": {
      "buffers": [
       {
        "data": "AAAAAAAAAAA=",
        "encoding": "base64",
        "path": [
         "x",
         "value"
        ]
       },
       {
        "data": "AAAAAAAAAAA=",
        "encoding": "base64",
        "path": [
         "y",
         "value"
        ]
       }
      ],
      "model_module": "bqplot",
      "model_module_version": "^0.5",
      "model_name": "LinesModel",
      "state": {
       "_model_module": "bqplot",
       "_model_module_version": "^0.5",
       "_model_name": "LinesModel",
       "_view_count": null,
       "_view_module": "bqplot",
       "_view_module_version": "^0.5",
       "_view_name": "Lines",
       "apply_clip": true,
       "close_path": false,
       "color": null,
       "colors": [
        "#46ff33"
       ],
       "curves_subset": [],
       "display_legend": false,
       "enable_hover": true,
       "fill": "none",
       "fill_colors": [],
       "fill_opacities": [],
       "interactions": {
        "hover": "tooltip"
       },
       "interpolation": "linear",
       "labels": [],
       "labels_visibility": "none",
       "line_style": "dashed",
       "marker": null,
       "marker_size": 64,
       "opacities": [],
       "preserve_domain": {},
       "scales": {
        "x": "IPY_MODEL_fefde805204a480180d3b03a1a23f524",
        "y": "IPY_MODEL_1dd8233e5b0c4994bd85fd8e3e4e42b4"
       },
       "scales_metadata": {
        "color": {
         "dimension": "color"
        },
        "x": {
         "dimension": "x",
         "orientation": "horizontal"
        },
        "y": {
         "dimension": "y",
         "orientation": "vertical"
        }
       },
       "selected": null,
       "selected_style": {},
       "stroke_width": 2.0,
       "tooltip": null,
       "tooltip_location": "mouse",
       "tooltip_style": {
        "opacity": 0.9
       },
       "unselected_style": {},
       "visible": true,
       "x": {
        "dtype": "float64",
        "shape": [
         1
        ],
        "type": null
       },
       "y": {
        "dtype": "float64",
        "shape": [
         1
        ],
        "type": null
       }
      }
     },
     "7ba5c0de3e4e4498b38042c132b8dc6b": {
      "model_module": "@jupyter-widgets/controls",
      "model_module_version": "2.0.0",
      "model_name": "ButtonStyleModel",
      "state": {
       "_model_module": "@jupyter-widgets/controls",
       "_model_module_version": "2.0.0",
       "_model_name": "ButtonStyleModel",
       "_view_count": null,
       "_view_module": "@jupyter-widgets/base",
       "_view_module_version": "2.0.0",
       "_view_name": "StyleView",
       "button_color": null,
       "font_family": null,
       "font_size": null,
       "font_style": null,
       "font_variant": null,
       "font_weight": null,
       "text_color": null,
       "text_decoration": null
      }
     },
     "7e31d59a7dae42a6935829f303490061": {
      "model_module": "@jupyter-widgets/base",
      "model_module_version": "2.0.0",
      "model_name": "LayoutModel",
      "state": {
       "_model_module": "@jupyter-widgets/base",
       "_model_module_version": "2.0.0",
       "_model_name": "LayoutModel",
       "_view_count": null,
       "_view_module": "@jupyter-widgets/base",
       "_view_module_version": "2.0.0",
       "_view_name": "LayoutView",
       "align_content": null,
       "align_items": null,
       "align_self": null,
       "border_bottom": null,
       "border_left": null,
       "border_right": null,
       "border_top": null,
       "bottom": null,
       "display": null,
       "flex": null,
       "flex_flow": null,
       "grid_area": null,
       "grid_auto_columns": null,
       "grid_auto_flow": null,
       "grid_auto_rows": null,
       "grid_column": null,
       "grid_gap": null,
       "grid_row": null,
       "grid_template_areas": null,
       "grid_template_columns": null,
       "grid_template_rows": null,
       "height": "33%",
       "justify_content": null,
       "justify_items": null,
       "left": null,
       "margin": null,
       "max_height": null,
       "max_width": null,
       "min_height": null,
       "min_width": null,
       "object_fit": null,
       "object_position": null,
       "order": null,
       "overflow": null,
       "padding": null,
       "right": null,
       "top": null,
       "visibility": null,
       "width": "72%"
      }
     },
     "876a27468979445bbc6601c534e318e7": {
      "model_module": "@jupyter-widgets/base",
      "model_module_version": "2.0.0",
      "model_name": "LayoutModel",
      "state": {
       "_model_module": "@jupyter-widgets/base",
       "_model_module_version": "2.0.0",
       "_model_name": "LayoutModel",
       "_view_count": null,
       "_view_module": "@jupyter-widgets/base",
       "_view_module_version": "2.0.0",
       "_view_name": "LayoutView",
       "align_content": null,
       "align_items": null,
       "align_self": null,
       "border_bottom": null,
       "border_left": null,
       "border_right": null,
       "border_top": null,
       "bottom": null,
       "display": null,
       "flex": null,
       "flex_flow": null,
       "grid_area": null,
       "grid_auto_columns": null,
       "grid_auto_flow": null,
       "grid_auto_rows": null,
       "grid_column": null,
       "grid_gap": null,
       "grid_row": null,
       "grid_template_areas": null,
       "grid_template_columns": null,
       "grid_template_rows": null,
       "height": "100%",
       "justify_content": null,
       "justify_items": null,
       "left": null,
       "margin": null,
       "max_height": null,
       "max_width": null,
       "min_height": null,
       "min_width": null,
       "object_fit": null,
       "object_position": null,
       "order": null,
       "overflow": null,
       "padding": null,
       "right": null,
       "top": null,
       "visibility": null,
       "width": "28%"
      }
     },
     "8e53992ee24f43c6881278c33ddf9b3f": {
      "model_module": "@jupyter-widgets/base",
      "model_module_version": "2.0.0",
      "model_name": "LayoutModel",
      "state": {
       "_model_module": "@jupyter-widgets/base",
       "_model_module_version": "2.0.0",
       "_model_name": "LayoutModel",
       "_view_count": null,
       "_view_module": "@jupyter-widgets/base",
       "_view_module_version": "2.0.0",
       "_view_name": "LayoutView",
       "align_content": null,
       "align_items": null,
       "align_self": null,
       "border_bottom": null,
       "border_left": null,
       "border_right": null,
       "border_top": null,
       "bottom": null,
       "display": null,
       "flex": null,
       "flex_flow": null,
       "grid_area": null,
       "grid_auto_columns": null,
       "grid_auto_flow": null,
       "grid_auto_rows": null,
       "grid_column": null,
       "grid_gap": null,
       "grid_row": null,
       "grid_template_areas": null,
       "grid_template_columns": null,
       "grid_template_rows": null,
       "height": "10%",
       "justify_content": null,
       "justify_items": null,
       "left": null,
       "margin": null,
       "max_height": null,
       "max_width": null,
       "min_height": null,
       "min_width": null,
       "object_fit": null,
       "object_position": null,
       "order": null,
       "overflow": null,
       "padding": null,
       "right": null,
       "top": null,
       "visibility": null,
       "width": "87.5%"
      }
     },
     "9446f87a61404c60843a0a9509634695": {
      "model_module": "bqplot",
      "model_module_version": "^0.5",
      "model_name": "LinearScaleModel",
      "state": {
       "_model_module": "bqplot",
       "_model_module_version": "^0.5",
       "_model_name": "LinearScaleModel",
       "_view_count": null,
       "_view_module": "bqplot",
       "_view_module_version": "^0.5",
       "_view_name": "LinearScale",
       "allow_padding": false,
       "max": 1.0,
       "mid_range": 0.8,
       "min": 0.0,
       "min_range": 0.6,
       "reverse": false,
       "stabilized": false
      }
     },
     "98eb86c329a540629d4c739aa2da67ec": {
      "model_module": "@jupyter-widgets/controls",
      "model_module_version": "2.0.0",
      "model_name": "ButtonStyleModel",
      "state": {
       "_model_module": "@jupyter-widgets/controls",
       "_model_module_version": "2.0.0",
       "_model_name": "ButtonStyleModel",
       "_view_count": null,
       "_view_module": "@jupyter-widgets/base",
       "_view_module_version": "2.0.0",
       "_view_name": "StyleView",
       "button_color": null,
       "font_family": null,
       "font_size": null,
       "font_style": null,
       "font_variant": null,
       "font_weight": null,
       "text_color": null,
       "text_decoration": null
      }
     },
     "a1c6a230bbeb4e4aa64f36e88c0ee714": {
      "model_module": "@jupyter-widgets/controls",
      "model_module_version": "2.0.0",
      "model_name": "HBoxModel",
      "state": {
       "_dom_classes": [],
       "_model_module": "@jupyter-widgets/controls",
       "_model_module_version": "2.0.0",
       "_model_name": "HBoxModel",
       "_view_count": null,
       "_view_module": "@jupyter-widgets/controls",
       "_view_module_version": "2.0.0",
       "_view_name": "HBoxView",
       "box_style": "",
       "children": [
        "IPY_MODEL_572f5ac9a330442da7c38e5401db5058",
        "IPY_MODEL_52219949304042db97d6b1a3c17838e6",
        "IPY_MODEL_347954f152824cdab62b2c65812e8c04"
       ],
       "layout": "IPY_MODEL_8e53992ee24f43c6881278c33ddf9b3f",
       "tabbable": null,
       "tooltip": null
      }
     },
     "a231b219483147c788a84f7443e4a563": {
      "model_module": "@jupyter-widgets/base",
      "model_module_version": "2.0.0",
      "model_name": "LayoutModel",
      "state": {
       "_model_module": "@jupyter-widgets/base",
       "_model_module_version": "2.0.0",
       "_model_name": "LayoutModel",
       "_view_count": null,
       "_view_module": "@jupyter-widgets/base",
       "_view_module_version": "2.0.0",
       "_view_name": "LayoutView",
       "align_content": null,
       "align_items": null,
       "align_self": null,
       "border_bottom": null,
       "border_left": null,
       "border_right": null,
       "border_top": null,
       "bottom": null,
       "display": null,
       "flex": null,
       "flex_flow": null,
       "grid_area": null,
       "grid_auto_columns": null,
       "grid_auto_flow": null,
       "grid_auto_rows": null,
       "grid_column": null,
       "grid_gap": null,
       "grid_row": null,
       "grid_template_areas": null,
       "grid_template_columns": null,
       "grid_template_rows": null,
       "height": "100%",
       "justify_content": null,
       "justify_items": null,
       "left": null,
       "margin": null,
       "max_height": null,
       "max_width": null,
       "min_height": null,
       "min_width": null,
       "object_fit": null,
       "object_position": null,
       "order": null,
       "overflow": null,
       "padding": null,
       "right": null,
       "top": null,
       "visibility": null,
       "width": "28%"
      }
     },
     "a7aa61c0a4c7408d8837cd1d63ba1a67": {
      "model_module": "@jupyter-widgets/base",
      "model_module_version": "2.0.0",
      "model_name": "LayoutModel",
      "state": {
       "_model_module": "@jupyter-widgets/base",
       "_model_module_version": "2.0.0",
       "_model_name": "LayoutModel",
       "_view_count": null,
       "_view_module": "@jupyter-widgets/base",
       "_view_module_version": "2.0.0",
       "_view_name": "LayoutView",
       "align_content": null,
       "align_items": null,
       "align_self": null,
       "border_bottom": null,
       "border_left": null,
       "border_right": null,
       "border_top": null,
       "bottom": null,
       "display": null,
       "flex": null,
       "flex_flow": null,
       "grid_area": null,
       "grid_auto_columns": null,
       "grid_auto_flow": null,
       "grid_auto_rows": null,
       "grid_column": null,
       "grid_gap": null,
       "grid_row": null,
       "grid_template_areas": null,
       "grid_template_columns": null,
       "grid_template_rows": null,
       "height": "33%",
       "justify_content": null,
       "justify_items": null,
       "left": null,
       "margin": null,
       "max_height": null,
       "max_width": null,
       "min_height": null,
       "min_width": null,
       "object_fit": null,
       "object_position": null,
       "order": null,
       "overflow": null,
       "padding": null,
       "right": null,
       "top": null,
       "visibility": null,
       "width": "72%"
      }
     },
     "ac9bf422bc11415a8c9a23a2d2f4bcbb": {
      "model_module": "@jupyter-widgets/controls",
      "model_module_version": "2.0.0",
      "model_name": "FloatProgressModel",
      "state": {
       "_dom_classes": [],
       "_model_module": "@jupyter-widgets/controls",
       "_model_module_version": "2.0.0",
       "_model_name": "FloatProgressModel",
       "_view_count": null,
       "_view_module": "@jupyter-widgets/controls",
       "_view_module_version": "2.0.0",
       "_view_name": "ProgressView",
       "bar_style": "",
       "description": "Heating run:",
       "description_allow_html": false,
       "layout": "IPY_MODEL_d0e753a9a9d14fa090d952bb5ff1c2ea",
       "max": 1800.0,
       "min": 0.0,
       "orientation": "horizontal",
       "style": "IPY_MODEL_f2f073962f1e4d78a94fda37c9909adc",
       "tabbable": null,
       "tooltip": null,
       "value": 0.0
      }
     },
     "afccd365e9ad420da4e40a3467d7971d": {
      "model_module": "bqplot",
      "model_module_version": "^0.5",
      "model_name": "LinearScaleModel",
      "state": {
       "_model_module": "bqplot",
       "_model_module_version": "^0.5",
       "_model_name": "LinearScaleModel",
       "_view_count": null,
       "_view_module": "bqplot",
       "_view_module_version": "^0.5",
       "_view_name": "LinearScale",
       "allow_padding": true,
       "max": null,
       "mid_range": 0.8,
       "min": null,
       "min_range": 0.6,
       "reverse": false,
       "stabilized": false
      }
     },
     "c173c8ded556403190755d98ab4e4089": {
      "model_module": "@jupyter-widgets/controls",
      "model_module_version": "2.0.0",
      "model_name": "LabelModel",
      "state": {
       "_dom_classes": [],
       "_model_module": "@jupyter-widgets/controls",
       "_model_module_version": "2.0.0",
       "_model_name": "LabelModel",
       "_view_count": null,
       "_view_module": "@jupyter-widgets/controls",
       "_view_module_version": "2.0.0",
       "_view_name": "LabelView",
       "description": "",
       "description_allow_html": false,
       "layout": "IPY_MODEL_7e31d59a7dae42a6935829f303490061",
       "placeholder": "​",
       "style": "IPY_MODEL_ca9124c6c0874b0fb143e0fd07782da6",
       "tabbable": null,
       "tooltip": null,
       "value": "Current ΔT: 0.0 K"
      }
     },
     "c7e12abd3b4d47b19dce84d707affefb": {
      "buffers": [
       {
        "data": "AAAAAAAAAAA=",
        "encoding": "base64",
        "path": [
         "x",
         "value"
        ]
       },
       {
        "data": "AAAAAAAAAAA=",
        "encoding": "base64",
        "path": [
         "y",
         "value"
        ]
       }
      ],
      "model_module": "bqplot",
      "model_module_version": "^0.5",
      "model_name": "LinesModel",
      "state": {
       "_model_module": "bqplot",
       "_model_module_version": "^0.5",
       "_model_name": "LinesModel",
       "_view_count": null,
       "_view_module": "bqplot",
       "_view_module_version": "^0.5",
       "_view_name": "Lines",
       "apply_clip": true,
       "close_path": false,
       "color": null,
       "colors": [
        "#0000ff"
       ],
       "curves_subset": [],
       "display_legend": true,
       "enable_hover": true,
       "fill": "none",
       "fill_colors": [],
       "fill_opacities": [],
       "interactions": {
        "hover": "tooltip"
       },
       "interpolation": "linear",
       "labels": [
        "Sample"
       ],
       "labels_visibility": "none",
       "line_style": "solid",
       "marker": null,
       "marker_size": 64,
       "opacities": [],
       "preserve_domain": {},
       "scales": {
        "x": "IPY_MODEL_fefde805204a480180d3b03a1a23f524",
        "y": "IPY_MODEL_afccd365e9ad420da4e40a3467d7971d"
       },
       "scales_metadata": {
        "color": {
         "dimension": "color"
        },
        "x": {
         "dimension": "x",
         "orientation": "horizontal"
        },
        "y": {
         "dimension": "y",
         "orientation": "vertical"
        }
       },
       "selected": null,
       "selected_style": {},
       "stroke_width": 2.0,
       "tooltip": null,
       "tooltip_location": "mouse",
       "tooltip_style": {
        "opacity": 0.9
       },
       "unselected_style": {},
       "visible": true,
       "x": {
        "dtype": "float64",
        "shape": [
         1
        ],
        "type": null
       },
       "y": {
        "dtype": "float64",
        "shape": [
         1
        ],
        "type": null
       }
      }
     },
     "ca9124c6c0874b0fb143e0fd07782da6": {
      "model_module": "@jupyter-widgets/controls",
      "model_module_version": "2.0.0",
      "model_name": "LabelStyleModel",
      "state": {
       "_model_module": "@jupyter-widgets/controls",
       "_model_module_version": "2.0.0",
       "_model_name": "LabelStyleModel",
       "_view_count": null,
       "_view_module": "@jupyter-widgets/base",
       "_view_module_version": "2.0.0",
       "_view_name": "StyleView",
       "background": null,
       "description_width": "",
       "font_family": null,
       "font_size": null,
       "font_style": null,
       "font_variant": null,
       "font_weight": null,
       "text_color": null,
       "text_decoration": null
      }
     },
     "cc0d68c12cb9427f80cf8be05c4a57d6": {
      "model_module": "@jupyter-widgets/controls",
      "model_module_version": "2.0.0",
      "model_name": "VBoxModel",
      "state": {
       "_dom_classes": [],
       "_model_module": "@jupyter-widgets/controls",
       "_model_module_version": "2.0.0",
       "_model_name": "VBoxModel",
       "_view_count": null,
       "_view_module": "@jupyter-widgets/controls",
       "_view_module_version": "2.0.0",
       "_view_name": "VBoxView",
       "box_style": "",
       "children": [
        "IPY_MODEL_ac9bf422bc11415a8c9a23a2d2f4bcbb",
        "IPY_MODEL_f5045357902445b19662aae1b16099c2",
        "IPY_MODEL_c173c8ded556403190755d98ab4e4089"
       ],
       "layout": "IPY_MODEL_05cba4255bfe4113ab10bd2c04653ba1",
       "tabbable": null,
       "tooltip": null
      }
     },
     "d0e753a9a9d14fa090d952bb5ff1c2ea": {
      "model_module": "@jupyter-widgets/base",
      "model_module_version": "2.0.0",
      "model_name": "LayoutModel",
      "state": {
       "_model_module": "@jupyter-widgets/base",
       "_model_module_version": "2.0.0",
       "_model_name": "LayoutModel",
       "_view_count": null,
       "_view_module": "@jupyter-widgets/base",
       "_view_module_version": "2.0.0",
       "_view_name": "LayoutView",
       "align_content": null,
       "align_items": null,
       "align_self": null,
       "border_bottom": null,
       "border_left": null,
       "border_right": null,
       "border_top": null,
       "bottom": null,
       "display": null,
       "flex": null,
       "flex_flow": null,
       "grid_area": null,
       "grid_auto_columns": null,
       "grid_auto_flow": null,
       "grid_auto_rows": null,
       "grid_column": null,
       "grid_gap": null,
       "grid_row": null,
       "grid_template_areas": null,
       "grid_template_columns": null,
       "grid_template_rows": null,
       "height": "33%",
       "justify_content": null,
       "justify_items": null,
       "left": null,
       "margin": null,
       "max_height": null,
       "max_width": null,
       "min_height": null,
       "min_width": null,
       "object_fit": null,
       "object_position": null,
       "order": null,
       "overflow": null,
       "padding": null,
       "right": null,
       "top": null,
       "visibility": null,
       "width": "56%"
      }
     },
     "d29bff4610d24356ba70b7d960a00f89": {
      "buffers": [
       {
        "data": "AAAAAAAAAAA=",
        "encoding": "base64",
        "path": [
         "x",
         "value"
        ]
       },
       {
        "data": "AAAAAAAAAAA=",
        "encoding": "base64",
        "path": [
         "y",
         "value"
        ]
       }
      ],
      "model_module": "bqplot",
      "model_module_version": "^0.5",
      "model_name": "LinesModel",
      "state": {
       "_model_module": "bqplot",
       "_model_module_version": "^0.5",
       "_model_name": "LinesModel",
       "_view_count": null,
       "_view_module": "bqplot",
       "_view_module_version": "^0.5",
       "_view_name": "Lines",
       "apply_clip": true,
       "close_path": false,
       "color": null,
       "colors": [
        "#3c9dd0"
       ],
       "curves_subset": [],
       "display_legend": true,
       "enable_hover": true,
       "fill": "none",
       "fill_colors": [],
       "fill_opacities": [],
       "interactions": {
        "hover": "tooltip"
       },
       "interpolation": "linear",
       "labels": [
        "Reference"
       ],
       "labels_visibility": "none",
       "line_style": "solid",
       "marker": null,
       "marker_size": 64,
       "opacities": [],
       "preserve_domain": {},
       "scales": {
        "x": "IPY_MODEL_fefde805204a480180d3b03a1a23f524",
        "y": "IPY_MODEL_afccd365e9ad420da4e40a3467d7971d"
       },
       "scales_metadata": {
        "color": {
         "dimension": "color"
        },
        "x": {
         "dimension": "x",
         "orientation": "horizontal"
        },
        "y": {
         "dimension": "y",
         "orientation": "vertical"
        }
       },
       "selected": null,
       "selected_style": {},
       "stroke_width": 2.0,
       "tooltip": null,
       "tooltip_location": "mouse",
       "tooltip_style": {
        "opacity": 0.9
       },
       "unselected_style": {},
       "visible": true,
       "x": {
        "dtype": "float64",
        "shape": [
         1
        ],
        "type": null
       },
       "y": {
        "dtype": "float64",
        "shape": [
         1
        ],
        "type": null
       }
      }
     },
     "dc2ebfa9de0f491fa96e19bdc56e2db0": {
      "model_module": "@jupyter-widgets/controls",
      "model_module_version": "2.0.0",
      "model_name": "ButtonStyleModel",
      "state": {
       "_model_module": "@jupyter-widgets/controls",
       "_model_module_version": "2.0.0",
       "_model_name": "ButtonStyleModel",
       "_view_count": null,
       "_view_module": "@jupyter-widgets/base",
       "_view_module_version": "2.0.0",
       "_view_name": "StyleView",
       "button_color": null,
       "font_family": null,
       "font_size": null,
       "font_style": null,
       "font_variant": null,
       "font_weight": null,
       "text_color": null,
       "text_decoration": null
      }
     },
     "ed76bd468e864f1687e98e4cc26539ff": {
      "model_module": "@jupyter-widgets/controls",
      "model_module_version": "2.0.0",
      "model_name": "VBoxModel",
      "state": {
       "_dom_classes": [],
       "_model_module": "@jupyter-widgets/controls",
       "_model_module_version": "2.0.0",
       "_model_name": "VBoxModel",
       "_view_count": null,
       "_view_module": "@jupyter-widgets/controls",
       "_view_module_version": "2.0.0",
       "_view_name": "VBoxView",
       "box_style": "",
       "children": [
        "IPY_MODEL_a1c6a230bbeb4e4aa64f36e88c0ee714",
        "IPY_MODEL_175a7c1de9984190bce7b6cfb3fce8ef",
        "IPY_MODEL_cc0d68c12cb9427f80cf8be05c4a57d6"
       ],
       "layout": "IPY_MODEL_f54de6ee42304cbfb351cb75aea1a7e0",
       "tabbable": null,
       "tooltip": null
      }
     },
     "f2b40cc8b190494197377c10384d4ee8": {
      "model_module": "bqplot",
      "model_module_version": "^0.5",
      "model_name": "AxisModel",
      "state": {
       "_model_module": "bqplot",
       "_model_module_version": "^0.5",
       "_model_name": "AxisModel",
       "_view_count": null,
       "_view_module": "bqplot",
       "_view_module_version": "^0.5",
       "_view_name": "Axis",
       "color": null,
       "grid_color": null,
       "grid_lines": "solid",
       "label": "ΔT (K)",
       "label_color": null,
       "label_location": "middle",
       "label_offset": null,
       "num_ticks": 7,
       "offset": {},
       "orientation": "vertical",
       "scale": "IPY_MODEL_1dd8233e5b0c4994bd85fd8e3e4e42b4",
       "side": "right",
       "tick_format": "0.1f",
       "tick_rotate": 0,
       "tick_style": {},
       "tick_values": null,
       "visible": true
      }
     },
     "f2f073962f1e4d78a94fda37c9909adc": {
      "model_module": "@jupyter-widgets/controls",
      "model_module_version": "2.0.0",
      "model_name": "ProgressStyleModel",
      "state": {
       "_model_module": "@jupyter-widgets/controls",
       "_model_module_version": "2.0.0",
       "_model_name": "ProgressStyleModel",
       "_view_count": null,
       "_view_module": "@jupyter-widgets/base",
       "_view_module_version": "2.0.0",
       "_view_name": "StyleView",
       "bar_color": null,
       "description_width": "initial"
      }
     },
     "f5045357902445b19662aae1b16099c2": {
      "model_module": "@jupyter-widgets/controls",
      "model_module_version": "2.0.0",
      "model_name": "LabelModel",
      "state": {
       "_dom_classes": [],
       "_model_module": "@jupyter-widgets/controls",
       "_model_module_version": "2.0.0",
       "_model_name": "LabelModel",
       "_view_count": null,
       "_view_module": "@jupyter-widgets/controls",
       "_view_module_version": "2.0.0",
       "_view_name": "LabelView",
       "description": "",
       "description_allow_html": false,
       "layout": "IPY_MODEL_a7aa61c0a4c7408d8837cd1d63ba1a67",
       "placeholder": "​",
       "style": "IPY_MODEL_01c7e35919a243a08db7e361bf974a72",
       "tabbable": null,
       "tooltip": null,
       "value": "Current temp: 0.0 ℃"
      }
     },
     "f54de6ee42304cbfb351cb75aea1a7e0": {
      "model_module": "@jupyter-widgets/base",
      "model_module_version": "2.0.0",
      "model_name": "LayoutModel",
      "state": {
       "_model_module": "@jupyter-widgets/base",
       "_model_module_version": "2.0.0",
       "_model_name": "LayoutModel",
       "_view_count": null,
       "_view_module": "@jupyter-widgets/base",
       "_view_module_version": "2.0.0",
       "_view_name": "LayoutView",
       "align_content": null,
       "align_items": null,
       "align_self": null,
       "border_bottom": null,
       "border_left": null,
       "border_right": null,
       "border_top": null,
       "bottom": null,
       "display": null,
       "flex": null,
       "flex_flow": null,
       "grid_area": null,
       "grid_auto_columns": null,
       "grid_auto_flow": null,
       "grid_auto_rows": null,
       "grid_column": null,
       "grid_gap": null,
       "grid_row": null,
       "grid_template_areas": null,
       "grid_template_columns": null,
       "grid_template_rows": null,
       "height": "100%",
       "justify_content": null,
       "justify_items": null,
       "left": null,
       "margin": "0 0 0 0",
       "max_height": null,
       "max_width": null,
       "min_height": null,
       "min_width": null,
       "object_fit": null,
       "object_position": null,
       "order": null,
       "overflow": null,
       "padding": null,
       "right": null,
       "top": null,
       "visibility": null,
       "width": "100%"
      }
     },
     "fefde805204a480180d3b03a1a23f524": {
      "model_module": "bqplot",
      "model_module_version": "^0.5",
      "model_name": "LinearScaleModel",
      "state": {
       "_model_module": "bqplot",
       "_model_module_version": "^0.5",
       "_model_name": "LinearScaleModel",
       "_view_count": null,
       "_view_module": "bqplot",
       "_view_module_version": "^0.5",
       "_view_name": "LinearScale",
       "allow_padding": true,
       "max": null,
       "mid_range": 0.8,
       "min": 0.0,
       "min_range": 0.6,
       "reverse": false,
       "stabilized": false
      }
     }
    },
    "version_major": 2,
    "version_minor": 0
   }
  }
 },
 "nbformat": 4,
 "nbformat_minor": 5
}